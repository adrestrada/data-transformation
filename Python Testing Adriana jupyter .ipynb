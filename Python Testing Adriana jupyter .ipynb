{
 "cells": [
  {
   "cell_type": "markdown",
   "id": "69cd5388",
   "metadata": {},
   "source": [
    "<h1 style=\"font-size:5rem;color:orange;\">======   Jupyter testing  =====></h1>"
   ]
  },
  {
   "cell_type": "markdown",
   "id": "d6d59af4",
   "metadata": {},
   "source": [
    "# Python Curso de inteligencia artificial "
   ]
  },
  {
   "cell_type": "markdown",
   "id": "810e1d03",
   "metadata": {},
   "source": [
    "<img src=\"https://22570l2e793j2oo9c81ug2nh-wpengine.netdna-ssl.com/wp-content/uploads/2015/03/machine-learning-for-day-today-life.jpg\">"
   ]
  },
  {
   "cell_type": "markdown",
   "id": "5e16dc05",
   "metadata": {},
   "source": [
    "# Basic output"
   ]
  },
  {
   "cell_type": "code",
   "execution_count": 1,
   "id": "0c7b3429",
   "metadata": {},
   "outputs": [
    {
     "name": "stdout",
     "output_type": "stream",
     "text": [
      "Hola mi nombre es Adriana\n"
     ]
    }
   ],
   "source": [
    "print(\"Hola mi nombre es Adriana\")"
   ]
  },
  {
   "cell_type": "markdown",
   "id": "de019f4f",
   "metadata": {},
   "source": [
    "# Insert a variable into a string"
   ]
  },
  {
   "cell_type": "code",
   "execution_count": 5,
   "id": "ffd970ae",
   "metadata": {},
   "outputs": [
    {
     "name": "stdout",
     "output_type": "stream",
     "text": [
      "hey cual es tu nombre? pepinillo\n",
      "Hola mucho gusto, pepinillo! el mio es Adriana!\n"
     ]
    }
   ],
   "source": [
    "person = input(\"hey cual es tu nombre? \")\n",
    "message = \"Hola mucho gusto, {}! el mio es Adriana!\".format(person)\n",
    "print(message)"
   ]
  },
  {
   "cell_type": "markdown",
   "id": "8848ce28",
   "metadata": {},
   "source": [
    "# Multiline String and String Lenght"
   ]
  },
  {
   "cell_type": "code",
   "execution_count": 7,
   "id": "06d7ffec",
   "metadata": {},
   "outputs": [
    {
     "name": "stdout",
     "output_type": "stream",
     "text": [
      "Padre amado, te doy gracias por la bendicion\n",
      "de tener a mi hija conmigo y las dos gozemos de salud, \n",
      "un techo y comida. Padre amado por esto y mucho mas \n",
      "te doy las gracias por que siempre hemos estado bajo tu protecion. \n",
      "Amen\n",
      "226\n"
     ]
    }
   ],
   "source": [
    "Oracion = \"\"\"Padre amado, te doy gracias por la bendicion\n",
    "de tener a mi hija conmigo y las dos gozemos de salud, \n",
    "un techo y comida. Padre amado por esto y mucho mas \n",
    "te doy las gracias por que siempre hemos estado bajo tu protecion. \n",
    "Amen\"\"\"\n",
    "print(Oracion)\n",
    "print(len(Oracion))"
   ]
  },
  {
   "cell_type": "markdown",
   "id": "77607178",
   "metadata": {},
   "source": [
    "# Math Operations"
   ]
  },
  {
   "cell_type": "code",
   "execution_count": 8,
   "id": "0b93a90c",
   "metadata": {},
   "outputs": [
    {
     "name": "stdout",
     "output_type": "stream",
     "text": [
      "5.25\n",
      "1\n"
     ]
    }
   ],
   "source": [
    "x = 7\n",
    "y = 4\n",
    "z = (x * 3) / y\n",
    "m = (x * 3) % y #module return the remainder\n",
    "print(z)\n",
    "print(m)"
   ]
  },
  {
   "cell_type": "markdown",
   "id": "ae88228f",
   "metadata": {},
   "source": [
    "# List (Arrays)"
   ]
  },
  {
   "cell_type": "code",
   "execution_count": 1,
   "id": "9a260b01",
   "metadata": {},
   "outputs": [
    {
     "name": "stdout",
     "output_type": "stream",
     "text": [
      "Valeria\n"
     ]
    }
   ],
   "source": [
    "family = ['a', 'Valeria', 'c', 'd', 'e', 'f']\n",
    "print(family[1])"
   ]
  },
  {
   "cell_type": "markdown",
   "id": "9c97172a",
   "metadata": {},
   "source": [
    "# Test de base"
   ]
  },
  {
   "cell_type": "code",
   "execution_count": null,
   "id": "6db58427",
   "metadata": {},
   "outputs": [],
   "source": [
    "#structure condicionalle de base if a une seule voie ou one-way---una vez\n",
    "age = int(input(\"saisir votre age? : \"))\n",
    "if age > 18:\n",
    "    print(\"vous etes un adulte!\")"
   ]
  },
  {
   "cell_type": "code",
   "execution_count": 6,
   "id": "0b625457",
   "metadata": {},
   "outputs": [
    {
     "name": "stdout",
     "output_type": "stream",
     "text": [
      "saisir votre age? : 12\n",
      "vous etes un adolecent\n"
     ]
    }
   ],
   "source": [
    "#structure condicionalle de base if a deux voise ou tw0-way---dos veces\n",
    "age = int(input(\"saisir votre age? : \"))\n",
    "if age > 18:\n",
    "    print(\"vous etes un adult\")\n",
    "else:\n",
    "    print(\"vous etes un adolecent\")\n"
   ]
  },
  {
   "cell_type": "code",
   "execution_count": 7,
   "id": "015fcfa1",
   "metadata": {},
   "outputs": [
    {
     "name": "stdout",
     "output_type": "stream",
     "text": [
      "saisir votre age? : 30\n",
      "vous etes un adult\n"
     ]
    }
   ],
   "source": [
    "#structure condicionalle de base if a plusieur voise ou multi-way--- varios veces o opciones\n",
    "age = int(input(\"saisir votre age? : \"))\n",
    "if age > 55:\n",
    "    print(\"vous etes un viejo\")\n",
    "if age > 18:\n",
    "    print(\"vous etes un adult\")\n",
    "else:\n",
    "    print(\"vous etes un adolecent\")"
   ]
  },
  {
   "cell_type": "code",
   "execution_count": 15,
   "id": "11ed1249",
   "metadata": {},
   "outputs": [
    {
     "name": "stdout",
     "output_type": "stream",
     "text": [
      "saisir votre age? : 140\n",
      "vous etes age or\n"
     ]
    }
   ],
   "source": [
    "#operator condictionnel\n",
    "age = int(input(\"saisir votre age? : \"))\n",
    "message = \"vous etes age or\" if age > 55 else \"vous etes un adulte\" if age > 18 else \"vous ete un adolecente\"\n",
    "print(message)"
   ]
  },
  {
   "cell_type": "code",
   "execution_count": null,
   "id": "3552fd66",
   "metadata": {},
   "outputs": [],
   "source": [
    "age = int(input(\"saisir votre age? : \"))\n",
    "if 20 < age and age < 30:\n",
    "    print(\"vous este encore jeune\")"
   ]
  },
  {
   "cell_type": "code",
   "execution_count": null,
   "id": "555faa34",
   "metadata": {},
   "outputs": [],
   "source": [
    "age = int(input(\"saisir votre age? : \"))\n",
    "if 110 < age and age < 200:\n",
    "    print(\"no es posible, no existes\")"
   ]
  },
  {
   "cell_type": "markdown",
   "id": "38289188",
   "metadata": {},
   "source": [
    "# -----------------------------------------------------------------------------------------------"
   ]
  },
  {
   "cell_type": "code",
   "execution_count": 9,
   "id": "7fb2332d",
   "metadata": {},
   "outputs": [
    {
     "name": "stdout",
     "output_type": "stream",
     "text": [
      "Saisir une valeur:10\n",
      "La valeur est inférieure à 20\n"
     ]
    }
   ],
   "source": [
    "valeur = int(input(\"Saisir une valeur:\"))\n",
    "if valeur < 20 :\n",
    "    print(\"La valeur est inférieure à 20\")\n",
    "elif valeur < 30:\n",
    "    print(\"La valeur est inférieure à 30\")\n",
    "else:\n",
    "    print(\"La valeur est supérieure ou égale à 30\")"
   ]
  },
  {
   "cell_type": "code",
   "execution_count": 8,
   "id": "241cca8f",
   "metadata": {},
   "outputs": [
    {
     "name": "stdout",
     "output_type": "stream",
     "text": [
      "Saisir une valeur:10\n",
      "La valeur est inférieure à 20\n",
      "La valeur est inférieure à 30\n"
     ]
    }
   ],
   "source": [
    "valeur = int(input(\"Saisir une valeur:\"))\n",
    "if valeur < 20:\n",
    "             print(\"La valeur est inférieure à 20\")\n",
    "if valeur < 30:\n",
    "             print(\"La valeur est inférieure à 30\")\n",
    "else:\n",
    "             print(\"La valeur est supérieure ou égale à 30\")"
   ]
  },
  {
   "cell_type": "markdown",
   "id": "88019386",
   "metadata": {},
   "source": [
    "# Escribir un programa que nos informe de posibles actividades a realizar en función del tiempo. Dependiendo de la previsión de temperatura para el día, podemos ofrecer actividades a los clientes.\n",
    "La regla utilizada es:\n",
    "Si la temperatura es mayor o igual a 25C, la actividad propuesta es nadar. Por otro lado, si la temperatura es mayor o igual a 18C e inferior a 25C, se ofrecerá a los clientes jugar al tenis. Si la temperatura es inferior a 18C pero superior o igual a 2C, recomendamos una caminata en el bosque. Finalmente, si la temperatura es inferior a 2C, la actividad propuesta será el esquí.Se le pregunta al cliente la temperatura y luego se le ofrece la actividad más adecuada según la regla."
   ]
  },
  {
   "cell_type": "code",
   "execution_count": 2,
   "id": "4b87411d",
   "metadata": {},
   "outputs": [
    {
     "name": "stdout",
     "output_type": "stream",
     "text": [
      "Hola Bienvenidos a la mejor plataforma para planificar sus actividades extracurriculares!\n",
      "Cual es tu nombre? pepinillo\n",
      "Hola mucho gusto, pepinillo! podrias decirme la temperatura donde te encuentras en centigrados?\n",
      "temperatura? : 2\n",
      "Perfecto que te parecese:Caminata!, Te deseo un lindo dia.\n"
     ]
    }
   ],
   "source": [
    "mensaje = \"\"\"Hola Bienvenidos a la mejor plataforma para planificar sus actividades extracurriculares!\"\"\"\n",
    "print(mensaje)\n",
    "person = input(\"Cual es tu nombre? \")\n",
    "message = \"Hola mucho gusto, {}! podrias decirme la temperatura donde te encuentras en centigrados?\".format(person)\n",
    "print(message)\n",
    "temp =  int(input(\"temperatura? : \"))\n",
    "if temp < 2:\n",
    "    respuesta = \"Ski\" \n",
    "elif temp < 18:\n",
    "    respuesta = \"Caminata\" \n",
    "elif temp < 25:\n",
    "    respuesta = \"Tenis\"  \n",
    "else:\n",
    "    respuesta = \"natacion\" \n",
    "\n",
    "print(\"Perfecto que te parecese:{}!, Te deseo un lindo dia.\".format(respuesta))"
   ]
  },
  {
   "cell_type": "code",
   "execution_count": 3,
   "id": "1a8e6a2f",
   "metadata": {},
   "outputs": [
    {
     "name": "stdout",
     "output_type": "stream",
     "text": [
      "valeur: 1\n",
      "valeur: 2\n",
      "valeur: 4\n",
      "valeur: 5\n",
      "suite du programme\n"
     ]
    }
   ],
   "source": [
    "compteur = 0\n",
    "while compteur < 5:\n",
    "    compteur +=1\n",
    "    if compteur == 3:\n",
    "       continue\n",
    "    print(\"valeur:\",compteur)\n",
    "\n",
    "print (\"suite du programme\")"
   ]
  },
  {
   "cell_type": "code",
   "execution_count": 3,
   "id": "6e374294",
   "metadata": {},
   "outputs": [
    {
     "name": "stdout",
     "output_type": "stream",
     "text": [
      "¿Cuántos años tiene? 130\n",
      "¡No me lo creo!\n",
      "Usted dice que tiene 130 años.\n"
     ]
    }
   ],
   "source": [
    "#Si por algún motivo no se quisiera ejecutar ninguna orden en alguno de los bloques,\n",
    "#el bloque de órdenes debe contener al menos la instrucción --PASS--> \n",
    "#(esta orden le dice a Python que no tiene que hacer nada)\n",
    "edad = int(input(\"¿Cuántos años tiene? \"))\n",
    "if edad < 120:\n",
    "    pass\n",
    "else:\n",
    "    print(\"¡No me lo creo!\")\n",
    "print(f\"Usted dice que tiene {edad} años.\")"
   ]
  },
  {
   "cell_type": "markdown",
   "id": "290eb885",
   "metadata": {},
   "source": [
    "# Sangrado de los bloques (if-else)"
   ]
  },
  {
   "cell_type": "code",
   "execution_count": 5,
   "id": "3a5ada8b",
   "metadata": {},
   "outputs": [
    {
     "name": "stdout",
     "output_type": "stream",
     "text": [
      "¿Cuántos años tiene? 20\n",
      "Es usted mayor de edad\n",
      "Recuerde que debe seguir aprendiendo\n",
      "¡Hasta la próxima!\n"
     ]
    }
   ],
   "source": [
    "edad = int(input(\"¿Cuántos años tiene? \"))\n",
    "if edad < 18:\n",
    "    print(\"Es usted menor de edad\")\n",
    "    print(\"Recuerde que está en la edad de aprender\")\n",
    "else:\n",
    "    print(\"Es usted mayor de edad\")\n",
    "    print(\"Recuerde que debe seguir aprendiendo\")\n",
    "print(\"¡Hasta la próxima!\")\n"
   ]
  },
  {
   "cell_type": "code",
   "execution_count": 7,
   "id": "bc89de8a",
   "metadata": {},
   "outputs": [
    {
     "name": "stdout",
     "output_type": "stream",
     "text": [
      "¿Cuántos años tiene? 15\n",
      "Es usted menor de edad\n",
      "Recuerde que está en la edad de aprender\n",
      "¡Hasta la próxima!\n"
     ]
    }
   ],
   "source": [
    "edad = int(input(\"¿Cuántos años tiene? \"))\n",
    "if edad < 18:\n",
    "        print(\"Es usted menor de edad\")\n",
    "        print(\"Recuerde que está en la edad de aprender\")\n",
    "else:\n",
    "    print(\"Es usted mayor de edad\")\n",
    "    print(\"Recuerde que debe seguir aprendiendo\")\n",
    "print(\"¡Hasta la próxima!\")"
   ]
  },
  {
   "cell_type": "code",
   "execution_count": 8,
   "id": "dd416e34",
   "metadata": {},
   "outputs": [
    {
     "ename": "IndentationError",
     "evalue": "unexpected indent (1148062606.py, line 4)",
     "output_type": "error",
     "traceback": [
      "\u001b[1;36m  Input \u001b[1;32mIn [8]\u001b[1;36m\u001b[0m\n\u001b[1;33m    print(\"Recuerde que está en la edad de aprender\")\u001b[0m\n\u001b[1;37m    ^\u001b[0m\n\u001b[1;31mIndentationError\u001b[0m\u001b[1;31m:\u001b[0m unexpected indent\n"
     ]
    }
   ],
   "source": [
    "edad = int(input(\"¿Cuántos años tiene? \"))\n",
    "if edad < 18:\n",
    "    print(\"Es usted menor de edad\")\n",
    "        print(\"Recuerde que está en la edad de aprender\")# error del sangrado\n",
    "else:\n",
    "    print(\"Es usted mayor de edad\")\n",
    "    print(\"Recuerde que debe seguir aprendiendo\")\n",
    "print(\"¡Hasta la próxima!\")"
   ]
  },
  {
   "cell_type": "code",
   "execution_count": 10,
   "id": "9b0fe02c",
   "metadata": {},
   "outputs": [
    {
     "ename": "IndentationError",
     "evalue": "unindent does not match any outer indentation level (<tokenize>, line 4)",
     "output_type": "error",
     "traceback": [
      "\u001b[1;36m  File \u001b[1;32m<tokenize>:4\u001b[1;36m\u001b[0m\n\u001b[1;33m    print(\"Recuerde que está en la edad de aprender\")\u001b[0m\n\u001b[1;37m    ^\u001b[0m\n\u001b[1;31mIndentationError\u001b[0m\u001b[1;31m:\u001b[0m unindent does not match any outer indentation level\n"
     ]
    }
   ],
   "source": [
    "edad = int(input(\"¿Cuántos años tiene? \"))\n",
    "if edad < 18:\n",
    "        print(\"Es usted menor de edad\")\n",
    "    print(\"Recuerde que está en la edad de aprender\") # error del sangrado \n",
    "else:\n",
    "    print(\"Es usted mayor de edad\")\n",
    "    print(\"Recuerde que debe seguir aprendiendo\")\n",
    "print(\"¡Hasta la próxima!\")"
   ]
  },
  {
   "cell_type": "code",
   "execution_count": 11,
   "id": "4b5865ae",
   "metadata": {},
   "outputs": [
    {
     "ename": "SyntaxError",
     "evalue": "invalid syntax (1573875556.py, line 5)",
     "output_type": "error",
     "traceback": [
      "\u001b[1;36m  Input \u001b[1;32mIn [11]\u001b[1;36m\u001b[0m\n\u001b[1;33m    else:\u001b[0m\n\u001b[1;37m    ^\u001b[0m\n\u001b[1;31mSyntaxError\u001b[0m\u001b[1;31m:\u001b[0m invalid syntax\n"
     ]
    }
   ],
   "source": [
    "edad = int(input(\"¿Cuántos años tiene? \"))\n",
    "if edad < 18:\n",
    "    print(\"Es usted menor de edad\")\n",
    "print(\"Recuerde que está en la edad de aprender\")\n",
    "#aqui no puede continuar el programa debido a el sangrado de el ultimo --print-->\n",
    "#lo asume que cerro el progrma y no sigue ejecutando el --else-->\n",
    "else:\n",
    "    print(\"Es usted mayor de edad\")\n",
    "    print(\"Recuerde que debe seguir aprendiendo\")\n",
    "print(\"¡Hasta la próxima!\")"
   ]
  },
  {
   "cell_type": "markdown",
   "id": "8aebffaf",
   "metadata": {},
   "source": [
    "# Sentencias condicionales anidadas"
   ]
  },
  {
   "cell_type": "code",
   "execution_count": 7,
   "id": "548e037e",
   "metadata": {},
   "outputs": [
    {
     "name": "stdout",
     "output_type": "stream",
     "text": [
      "Este programa mezcla dos colores.\n",
      "  r. Rojo      a. Azul\n",
      "  Elija un color (r o a): azul\n",
      "  v. Verde    r. Rojo\n",
      "  Elija otro color (v o r): verde\n",
      "La mezcla Azul y Rojo produce Magenta.\n",
      "¡Hasta la próxima!\n"
     ]
    }
   ],
   "source": [
    "print(\"Este programa mezcla dos colores.\")\n",
    "print(\"  r. Rojo      a. Azul\")\n",
    "primera = input(\"  Elija un color (r o a): \")\n",
    "if primera == \"r\":\n",
    "    print(\"  a. Azul      v. Verde\")\n",
    "    segunda = input(\"  Elija otro color (a o v): \")\n",
    "    if segunda == \"a\":\n",
    "        print(\"La mezcla de Rojo y Azul produce Magenta.\")\n",
    "    else:\n",
    "        print(\"La mezcla Rojo y Verde produce Amarillo.\")\n",
    "else:\n",
    "    print(\"  v. Verde    r. Rojo\")\n",
    "    segunda = input(\"  Elija otro color (v o r): \")\n",
    "    if segunda == \"v\":\n",
    "        print(\"La mezcla de Azul y Verde produce Cian.\")\n",
    "    else:\n",
    "        print(\"La mezcla Azul y Rojo produce Magenta.\")\n",
    "print(\"¡Hasta la próxima!\")"
   ]
  },
  {
   "cell_type": "code",
   "execution_count": 10,
   "id": "8f6422bb",
   "metadata": {},
   "outputs": [
    {
     "name": "stdout",
     "output_type": "stream",
     "text": [
      "Programa para mezclar colores\n",
      "Elije rojo o azul: azul\n",
      "verde o rojo\n",
      "Elije verde o rojo? verde\n"
     ]
    }
   ],
   "source": [
    "print(\"Programa para mezclar colores\")\n",
    "primero = input(\"Elije rojo o azul: \")\n",
    "if primero == \"rojo\":\n",
    "    pass\n",
    "    segundo = input(\"Elije otro color para mezclar, (azul o verde): \")\n",
    "    if segundo == \"azul\":\n",
    "        print(\"rojo + azul = Mangeta!\")\n",
    "    else:\n",
    "        print(\"rojo + verde = amarillo\")\n",
    "else:\n",
    "    print(\"verde o rojo\")\n",
    "    segunda = input(\"Elije verde o rojo? \")\n",
    "    if segundo == \"verde\":\n",
    "        print(\"azul + verde = cian\")\n",
    "    else:\n",
    "        print(\"azul + rojo = mangeta\")\n",
    "#print(\"listo!\")\n",
    "    "
   ]
  },
  {
   "cell_type": "markdown",
   "id": "385a8e5c",
   "metadata": {},
   "source": [
    "# if-elif-else"
   ]
  },
  {
   "cell_type": "code",
   "execution_count": 11,
   "id": "2cf2dcca",
   "metadata": {},
   "outputs": [
    {
     "name": "stdout",
     "output_type": "stream",
     "text": [
      "¿Cuántos años tiene? 20\n",
      "Es usted mayor de edad\n"
     ]
    }
   ],
   "source": [
    "edad = int(input(\"¿Cuántos años tiene? \"))\n",
    "if edad < 0:\n",
    "    print(\"No se puede tener una edad negativa\")\n",
    "elif edad >= 0 and edad < 18:\n",
    "    print(\"Es usted menor de edad\")\n",
    "else:\n",
    "    print(\"Es usted mayor de edad\")"
   ]
  },
  {
   "cell_type": "markdown",
   "id": "85260106",
   "metadata": {},
   "source": [
    "# Bucles- (while)"
   ]
  },
  {
   "cell_type": "code",
   "execution_count": 20,
   "id": "f5562b81",
   "metadata": {},
   "outputs": [
    {
     "name": "stdout",
     "output_type": "stream",
     "text": [
      "1\n",
      "4\n",
      "13\n",
      "40\n",
      "Programa terminado\n"
     ]
    }
   ],
   "source": [
    "#aqui la condicion es que se impriman valores mientras cumpla la condicion (el limite es 50)\n",
    "i = 1\n",
    "while i <= 50:\n",
    "    print(i)\n",
    "    i = 3 * i + 1\n",
    "print(\"Programa terminado\")"
   ]
  },
  {
   "cell_type": "code",
   "execution_count": null,
   "id": "742fa556",
   "metadata": {},
   "outputs": [],
   "source": [
    "#condicion que se cumple indefinidamente, por lo tanto debo detener el programa manualmente.\n",
    "i = 1\n",
    "while i > 0:\n",
    "    #print(i, end=\" \")\n",
    "   # i += 1"
   ]
  },
  {
   "cell_type": "code",
   "execution_count": null,
   "id": "9d8b91e3",
   "metadata": {},
   "outputs": [],
   "source": [
    "#condicion que se cumple indefinidamente, por lo tanto debo detener el programa manualmente.\n",
    "i = 1\n",
    "while i != 100:\n",
    "   # print(i, end=\" \")\n",
    "    #i += 2"
   ]
  },
  {
   "cell_type": "code",
   "execution_count": 24,
   "id": "72c5a2c6",
   "metadata": {},
   "outputs": [
    {
     "name": "stdout",
     "output_type": "stream",
     "text": [
      "val: 2\n",
      "val: 4\n",
      "val: 5\n",
      "suite del programa\n"
     ]
    }
   ],
   "source": [
    "i = 1\n",
    "while i < 5:\n",
    "    i +=1\n",
    "    if i == 3:\n",
    "        continue\n",
    "    print ('val:', i)\n",
    "print ('suite del programa')"
   ]
  },
  {
   "cell_type": "code",
   "execution_count": null,
   "id": "f6148a16",
   "metadata": {},
   "outputs": [],
   "source": []
  },
  {
   "cell_type": "markdown",
   "id": "6e136b25",
   "metadata": {},
   "source": [
    "# structure del boucle (practica del curso)"
   ]
  },
  {
   "cell_type": "markdown",
   "id": "f526bac5",
   "metadata": {},
   "source": [
    "# |___structure while de base"
   ]
  },
  {
   "cell_type": "code",
   "execution_count": 2,
   "id": "e3f25e6a",
   "metadata": {},
   "outputs": [
    {
     "name": "stdout",
     "output_type": "stream",
     "text": [
      "diga un numero:2\n",
      "el contador es:1\n",
      "el contador es:2\n",
      "fin del contador\n"
     ]
    }
   ],
   "source": [
    "#Digo un numero que sea mayor que cero, entonces empieza a contar hasta el numero que le he dicho\n",
    "#structura while\n",
    "valor = int(input(\"diga un numero:\"))\n",
    "contador = 0 \n",
    "while contador < valor:\n",
    "    contador += 1\n",
    "    print(\"el contador es:{}\".format(contador))\n",
    "    \n",
    "print(\"fin del contador\")"
   ]
  },
  {
   "cell_type": "code",
   "execution_count": null,
   "id": "083894b3",
   "metadata": {},
   "outputs": [],
   "source": [
    "#continua\n",
    "valor = int(input(\"diga un numero:\"))\n",
    "contador = 0 \n",
    "while contador < valor:\n",
    "    contador += 1\n",
    "    if contador == 3:#empiezo a contar y cuando llegue a 3, el continua y omite el 3, 1,2,..4\n",
    "        continue\n",
    "    print(\"el contador es:{}\".format(contador))\n",
    "    \n",
    "print(\"fin del contador\")"
   ]
  },
  {
   "cell_type": "code",
   "execution_count": 1,
   "id": "1103af1f",
   "metadata": {},
   "outputs": [
    {
     "name": "stdout",
     "output_type": "stream",
     "text": [
      "diga un numero:5\n",
      "el contador es:1\n",
      "el contador es:2\n",
      "fin del contador\n"
     ]
    }
   ],
   "source": [
    "#break\n",
    "valor = int(input(\"diga un numero:\"))\n",
    "contador = 0 \n",
    "while contador < valor:\n",
    "    contador += 1\n",
    "    if contador == 3:\n",
    "        break\n",
    "    print(\"el contador es:{}\".format(contador))\n",
    "    \n",
    "print(\"fin del contador\")"
   ]
  },
  {
   "cell_type": "code",
   "execution_count": 5,
   "id": "da46d2aa",
   "metadata": {},
   "outputs": [
    {
     "name": "stdout",
     "output_type": "stream",
     "text": [
      "una itearcion\n",
      "salir del bucle\n"
     ]
    }
   ],
   "source": [
    "#do while ===========> NO EXISTE EN PYTHON\n",
    "flag = True\n",
    "while flag:\n",
    "    print(\"una itearcion\")\n",
    "    flag = False\n",
    "    \n",
    "print(\"salir del bucle\")"
   ]
  },
  {
   "cell_type": "markdown",
   "id": "895dbc83",
   "metadata": {},
   "source": [
    "# Boucle for "
   ]
  },
  {
   "cell_type": "code",
   "execution_count": 6,
   "id": "111db844",
   "metadata": {},
   "outputs": [
    {
     "name": "stdout",
     "output_type": "stream",
     "text": [
      "1\n",
      "2\n",
      "3\n",
      "4\n",
      "5\n"
     ]
    }
   ],
   "source": [
    "# BUCLE FOR..UNA CONCIDERACION DE DE SECUENCIA DE NUMEROS DE 1 A 5\n",
    "'''range (in, fin, pas): comiensa en in y termina fin \n",
    "incrementa a cada vez de el valor pas. Puedo iterar sobre esta secuancia\n",
    "'''\n",
    "for tmp in range(1,6):#para variable tmp cuento de [1 a 6] de cualquier cosa en la lista ====> for tmp in\n",
    "    print(tmp)"
   ]
  },
  {
   "cell_type": "code",
   "execution_count": 7,
   "id": "cdff4c82",
   "metadata": {},
   "outputs": [
    {
     "name": "stdout",
     "output_type": "stream",
     "text": [
      "bien\n",
      "muy bien\n",
      "ecxelente\n"
     ]
    }
   ],
   "source": [
    "#iteracion sobre una lista de elementos\n",
    "mencion = [\"bien\", \"muy bien\", \"ecxelente\"]\n",
    "for tmp in mencion:\n",
    "    print(tmp)"
   ]
  },
  {
   "cell_type": "code",
   "execution_count": 8,
   "id": "aa914323",
   "metadata": {},
   "outputs": [
    {
     "name": "stdout",
     "output_type": "stream",
     "text": [
      "1\n",
      "2\n"
     ]
    }
   ],
   "source": [
    "#utilizacion con un ejemplo de un brake\n",
    "for tmp in range(1,6):\n",
    "    if tmp == 3:\n",
    "        break\n",
    "        \n",
    "    print(tmp)"
   ]
  },
  {
   "cell_type": "code",
   "execution_count": null,
   "id": "f96b4f19",
   "metadata": {},
   "outputs": [],
   "source": [
    "var_a = 10\n",
    "def calcul_simple(a):\n",
    "\tvar_a = 20\n",
    "\treturn a ** 3 + var_a\n",
    "\t\n",
    "res = calcul_simple(5)\n",
    "print(res)\n",
    "print(var_a)"
   ]
  },
  {
   "cell_type": "code",
   "execution_count": 13,
   "id": "2660300f",
   "metadata": {},
   "outputs": [
    {
     "ename": "FileNotFoundError",
     "evalue": "[Errno 2] No such file or directory: 'contacts.json'",
     "output_type": "error",
     "traceback": [
      "\u001b[1;31m---------------------------------------------------------------------------\u001b[0m",
      "\u001b[1;31mFileNotFoundError\u001b[0m                         Traceback (most recent call last)",
      "Input \u001b[1;32mIn [13]\u001b[0m, in \u001b[0;36m<cell line: 2>\u001b[1;34m()\u001b[0m\n\u001b[0;32m      1\u001b[0m \u001b[38;5;28;01mimport\u001b[39;00m \u001b[38;5;21;01mjson\u001b[39;00m\n\u001b[1;32m----> 2\u001b[0m fici \u001b[38;5;241m=\u001b[39m \u001b[38;5;28;43mopen\u001b[39;49m\u001b[43m(\u001b[49m\u001b[38;5;124;43m\"\u001b[39;49m\u001b[38;5;124;43mcontacts.json\u001b[39;49m\u001b[38;5;124;43m\"\u001b[39;49m\u001b[43m)\u001b[49m\n\u001b[0;32m      4\u001b[0m reponse \u001b[38;5;241m=\u001b[39m json\u001b[38;5;241m.\u001b[39mload(fici)\n\u001b[0;32m      5\u001b[0m \u001b[38;5;66;03m#print(reponse)\u001b[39;00m\n",
      "\u001b[1;31mFileNotFoundError\u001b[0m: [Errno 2] No such file or directory: 'contacts.json'"
     ]
    }
   ],
   "source": [
    "import json\n",
    "fici = open(\"contacts\")\n",
    " \n",
    "reponse = json.load(fici)\n",
    "#print(reponse)\n",
    "data = reponse[\"contacts\"]\n",
    "\n",
    "for rec in data:\n",
    "    for k,v in rec.items():\n",
    "        print(k,\":\",v)\n",
    "    print(\"=\" * 50)"
   ]
  },
  {
   "cell_type": "code",
   "execution_count": 15,
   "id": "4abc9a47",
   "metadata": {},
   "outputs": [
    {
     "ename": "FileNotFoundError",
     "evalue": "[Errno 2] No such file or directory: 'pud.json'",
     "output_type": "error",
     "traceback": [
      "\u001b[1;31m---------------------------------------------------------------------------\u001b[0m",
      "\u001b[1;31mFileNotFoundError\u001b[0m                         Traceback (most recent call last)",
      "Input \u001b[1;32mIn [15]\u001b[0m, in \u001b[0;36m<cell line: 8>\u001b[1;34m()\u001b[0m\n\u001b[0;32m      5\u001b[0m \u001b[38;5;28;01mimport\u001b[39;00m \u001b[38;5;21;01mjson\u001b[39;00m\n\u001b[0;32m      6\u001b[0m get_ipython()\u001b[38;5;241m.\u001b[39mrun_line_magic(\u001b[38;5;124m'\u001b[39m\u001b[38;5;124mmatplotlib\u001b[39m\u001b[38;5;124m'\u001b[39m, \u001b[38;5;124m'\u001b[39m\u001b[38;5;124minline\u001b[39m\u001b[38;5;124m'\u001b[39m)\n\u001b[1;32m----> 8\u001b[0m \u001b[38;5;28;01mwith\u001b[39;00m \u001b[38;5;28;43mopen\u001b[39;49m\u001b[43m(\u001b[49m\u001b[38;5;124;43m\"\u001b[39;49m\u001b[38;5;124;43mpud.json\u001b[39;49m\u001b[38;5;124;43m\"\u001b[39;49m\u001b[43m)\u001b[49m \u001b[38;5;28;01mas\u001b[39;00m datafile:\n\u001b[0;32m      9\u001b[0m   data \u001b[38;5;241m=\u001b[39m json\u001b[38;5;241m.\u001b[39mload(datafile)\n\u001b[0;32m     10\u001b[0m dataframe \u001b[38;5;241m=\u001b[39m pd\u001b[38;5;241m.\u001b[39mDataFrame(data)\n",
      "\u001b[1;31mFileNotFoundError\u001b[0m: [Errno 2] No such file or directory: 'pud.json'"
     ]
    }
   ],
   "source": [
    "import numpy as np\n",
    "import pandas as pd\n",
    "#import seaborn as sns\n",
    "import matplotlib as plt\n",
    "import json\n",
    "%matplotlib inline\n",
    "\n",
    "with open(\"pud.json\") as datafile:\n",
    "  data = json.load(datafile)\n",
    "dataframe = pd.DataFrame(data)"
   ]
  },
  {
   "cell_type": "markdown",
   "id": "a84634e6",
   "metadata": {},
   "source": [
    "# ----------------------------------------------------------------------------------------------------"
   ]
  },
  {
   "cell_type": "code",
   "execution_count": 26,
   "id": "58bdf064",
   "metadata": {},
   "outputs": [
    {
     "name": "stdout",
     "output_type": "stream",
     "text": [
      "145\n",
      "20\n"
     ]
    }
   ],
   "source": [
    "var_a = 10\n",
    "def calcul_simple(a):\n",
    "\tglobal var_a\n",
    "\tvar_a = 20\n",
    "\treturn a ** 3 + var_a\n",
    "\t\n",
    "res = calcul_simple(5)\n",
    "print(res)\n",
    "print(var_a)"
   ]
  },
  {
   "cell_type": "code",
   "execution_count": 1,
   "id": "7b1f939a",
   "metadata": {},
   "outputs": [
    {
     "name": "stdout",
     "output_type": "stream",
     "text": [
      "c vale 1\n",
      "c vale 2\n",
      "c vale 3\n",
      "c vale 4\n",
      "c vale 5\n",
      "c vale 6\n"
     ]
    }
   ],
   "source": [
    "c = 0\n",
    "while c <= 5:\n",
    "    c+=1\n",
    "    print(\"c vale\", c)"
   ]
  },
  {
   "cell_type": "code",
   "execution_count": 3,
   "id": "04d54372",
   "metadata": {},
   "outputs": [
    {
     "name": "stdout",
     "output_type": "stream",
     "text": [
      "Enter the value for base :5\n",
      "Enter the value for exponent :4\n",
      "5 to power  4 = 625\n"
     ]
    }
   ],
   "source": [
    "base = int(input(\"Enter the value for base :\"))\n",
    "exponent = int(input(\"Enter the value for exponent :\"))\n",
    "result=1;\n",
    "print(base,\"to power \",exponent,\"=\",end = ' ')\n",
    "#using while loop with a condition that come out of while loop if exponent is 0\n",
    "# mientras que exponent_number no es igual(!=) a 0:\n",
    "while exponent != 0:\n",
    "    result = base * result\n",
    "    #(-=)    x-=1     x = x - 1\n",
    "    exponent-=1\n",
    "print(result)\n",
    "#Para la entrada del usuario, el número base es 5 y el número exponente es 4. \n",
    "#El 'exponente base e' será 54, que es 5x5x5x5, es decir, 625.\n",
    "\n"
   ]
  },
  {
   "cell_type": "code",
   "execution_count": 7,
   "id": "6e601303",
   "metadata": {},
   "outputs": [
    {
     "name": "stdout",
     "output_type": "stream",
     "text": [
      "nom es: adriana\n"
     ]
    }
   ],
   "source": [
    "# funcion aleatoria\n",
    "import random\n",
    "male = False\n",
    "male = bool(random.randint (0, 1))\n",
    "if male:\n",
    "    print (\"nom es: pepinillo\")\n",
    "else:\n",
    "    print (\"nom es: adriana\")"
   ]
  },
  {
   "cell_type": "code",
   "execution_count": 10,
   "id": "e701b5ff",
   "metadata": {},
   "outputs": [
    {
     "name": "stdout",
     "output_type": "stream",
     "text": [
      "slice de col:  (2, 2)\n"
     ]
    }
   ],
   "source": [
    "col = 1, 2, 2, 10\n",
    "print (\"slice de col: \", col[1:3])"
   ]
  },
  {
   "cell_type": "code",
   "execution_count": 11,
   "id": "3c35e7de",
   "metadata": {},
   "outputs": [
    {
     "name": "stdout",
     "output_type": "stream",
     "text": [
      "['hola', 'soy', 'Adriana', 'y', 'me', 'divierto']\n"
     ]
    }
   ],
   "source": [
    "ma_str = \"hola soy Adriana y me divierto\"\n",
    "resultado = ma_str.split() # la funcion split, despues de definir variables, me las separa por comillas y comas. \n",
    "print(resultado)"
   ]
  },
  {
   "cell_type": "markdown",
   "id": "89dae0e6",
   "metadata": {},
   "source": [
    "# variable numerica"
   ]
  },
  {
   "cell_type": "code",
   "execution_count": 12,
   "id": "b491bd96",
   "metadata": {},
   "outputs": [
    {
     "name": "stdout",
     "output_type": "stream",
     "text": [
      "<class 'int'>\n"
     ]
    }
   ],
   "source": [
    "age = 25\n",
    "print(type(age))"
   ]
  },
  {
   "cell_type": "code",
   "execution_count": 14,
   "id": "54686d87",
   "metadata": {},
   "outputs": [
    {
     "name": "stdout",
     "output_type": "stream",
     "text": [
      "30\n"
     ]
    }
   ],
   "source": [
    "age = 25\n",
    "age += 5  #-----> es lo mismo que escribir 'age = age + 5'\n",
    "print(age)"
   ]
  },
  {
   "cell_type": "code",
   "execution_count": 15,
   "id": "e7fe90c3",
   "metadata": {},
   "outputs": [
    {
     "name": "stdout",
     "output_type": "stream",
     "text": [
      "22\n"
     ]
    }
   ],
   "source": [
    "age = 25\n",
    "age -= 3\n",
    "print(age)"
   ]
  },
  {
   "cell_type": "code",
   "execution_count": 16,
   "id": "a8d4b4f4",
   "metadata": {},
   "outputs": [
    {
     "name": "stdout",
     "output_type": "stream",
     "text": [
      "8.333333333333334\n"
     ]
    }
   ],
   "source": [
    "age = 25\n",
    "age = age / 3\n",
    "print(age)"
   ]
  },
  {
   "cell_type": "code",
   "execution_count": 18,
   "id": "9d26388d",
   "metadata": {},
   "outputs": [
    {
     "name": "stdout",
     "output_type": "stream",
     "text": [
      "8\n"
     ]
    }
   ],
   "source": [
    "age = 25\n",
    "age = age // 3\n",
    "print(age)"
   ]
  },
  {
   "cell_type": "code",
   "execution_count": 19,
   "id": "fc00956a",
   "metadata": {},
   "outputs": [
    {
     "name": "stdout",
     "output_type": "stream",
     "text": [
      "1\n"
     ]
    }
   ],
   "source": [
    "age = 25\n",
    "age = age %  3\n",
    "print(age)"
   ]
  },
  {
   "cell_type": "code",
   "execution_count": 20,
   "id": "1b8d7438",
   "metadata": {},
   "outputs": [
    {
     "name": "stdout",
     "output_type": "stream",
     "text": [
      "625\n"
     ]
    }
   ],
   "source": [
    "age = 25\n",
    "age = age ** 2\n",
    "print(age)"
   ]
  },
  {
   "cell_type": "code",
   "execution_count": 21,
   "id": "863b449a",
   "metadata": {},
   "outputs": [
    {
     "name": "stdout",
     "output_type": "stream",
     "text": [
      "<class 'float'>\n"
     ]
    }
   ],
   "source": [
    "# utilizatr nombre reels, float\n",
    "salaire = 3200.75\n",
    "print(type(salaire))"
   ]
  },
  {
   "cell_type": "markdown",
   "id": "d837d318",
   "metadata": {},
   "source": [
    "# conversion"
   ]
  },
  {
   "cell_type": "code",
   "execution_count": 22,
   "id": "7f460288",
   "metadata": {},
   "outputs": [
    {
     "name": "stdout",
     "output_type": "stream",
     "text": [
      "<class 'int'>\n",
      "<class 'float'>\n"
     ]
    }
   ],
   "source": [
    "#como puedo convertir int ---> float\n",
    "age = 25\n",
    "print(type(age))\n",
    "resultado = float(age)\n",
    "print(type(resultado))\n"
   ]
  },
  {
   "cell_type": "code",
   "execution_count": 24,
   "id": "77c34913",
   "metadata": {},
   "outputs": [
    {
     "name": "stdout",
     "output_type": "stream",
     "text": [
      "<class 'int'>\n",
      "<class 'str'>\n",
      "25\n"
     ]
    }
   ],
   "source": [
    "#convertir de int --> string\n",
    "age = 25\n",
    "print(type(age))\n",
    "resultado = str(age)\n",
    "print(type(resultado))\n",
    "print(resultado)"
   ]
  },
  {
   "cell_type": "code",
   "execution_count": 25,
   "id": "b66f760a",
   "metadata": {},
   "outputs": [
    {
     "name": "stdout",
     "output_type": "stream",
     "text": [
      "diga su edad:25\n",
      "su nueva edad es:30\n",
      "su nueva edad 2 es:30\n"
     ]
    }
   ],
   "source": [
    "# quiero convertir de string ---> int\n",
    "age = int(input(\"diga su edad:\"))\n",
    "age += 5\n",
    "#imprima el resultado\n",
    "print(\"su nueva edad es:{}\".format(age))\n",
    "print(\"su nueva edad 2 es:\"+ str(age))"
   ]
  },
  {
   "cell_type": "markdown",
   "id": "268ee340",
   "metadata": {},
   "source": [
    "# secuencias "
   ]
  },
  {
   "cell_type": "code",
   "execution_count": 26,
   "id": "fc1da077",
   "metadata": {},
   "outputs": [
    {
     "name": "stdout",
     "output_type": "stream",
     "text": [
      "<class 'list'>\n"
     ]
    }
   ],
   "source": [
    "lista = [10, 22, 33, 44, 67, 22]\n",
    "print(type(lista))\n"
   ]
  },
  {
   "cell_type": "code",
   "execution_count": 27,
   "id": "92e2b622",
   "metadata": {},
   "outputs": [
    {
     "name": "stdout",
     "output_type": "stream",
     "text": [
      "[10, 22, True, 44, 67, 22]\n"
     ]
    }
   ],
   "source": [
    "# integre en la posicion 2, el valor 'true'\n",
    "lista[2] = True\n",
    "print(lista)"
   ]
  },
  {
   "cell_type": "code",
   "execution_count": 28,
   "id": "18d05dd0",
   "metadata": {},
   "outputs": [
    {
     "name": "stdout",
     "output_type": "stream",
     "text": [
      "[10, 22, True, 44, 67, 22, 45]\n"
     ]
    }
   ],
   "source": [
    "lista.append(45)\n",
    "print(lista)"
   ]
  },
  {
   "cell_type": "code",
   "execution_count": 29,
   "id": "d4c8084a",
   "metadata": {},
   "outputs": [
    {
     "name": "stdout",
     "output_type": "stream",
     "text": [
      "[10, 22, 14.5, True, 44, 67, 22, 45]\n"
     ]
    }
   ],
   "source": [
    "lista.insert(2, 14.5)\n",
    "print(lista)"
   ]
  },
  {
   "cell_type": "code",
   "execution_count": 31,
   "id": "25027524",
   "metadata": {},
   "outputs": [
    {
     "name": "stdout",
     "output_type": "stream",
     "text": [
      "[22, 14.5]\n"
     ]
    }
   ],
   "source": [
    "resultado = lista[1:3]\n",
    "print(resultado)"
   ]
  },
  {
   "cell_type": "code",
   "execution_count": 32,
   "id": "c4c5a8dd",
   "metadata": {},
   "outputs": [
    {
     "name": "stdout",
     "output_type": "stream",
     "text": [
      "44\n"
     ]
    }
   ],
   "source": [
    "lista = [10, 22, 33, 44, 67, 22, [12, 44, 22]]\n",
    "resultado = lista[-1][1]\n",
    "print(resultado)"
   ]
  },
  {
   "cell_type": "code",
   "execution_count": 33,
   "id": "5d983e62",
   "metadata": {},
   "outputs": [
    {
     "name": "stdout",
     "output_type": "stream",
     "text": [
      "[55, 22, 33, 44, 67, 22, [12, 44, 22]]\n"
     ]
    }
   ],
   "source": [
    "lista[0] = 55 #lista mutable, adiciona a la posicion [0] el numero 55\n",
    "print(lista)"
   ]
  },
  {
   "cell_type": "markdown",
   "id": "1954b9a2",
   "metadata": {},
   "source": [
    "# Diccionario"
   ]
  },
  {
   "cell_type": "code",
   "execution_count": 35,
   "id": "a6b1f608",
   "metadata": {},
   "outputs": [
    {
     "name": "stdout",
     "output_type": "stream",
     "text": [
      "{'no': 'pepino', 'nombre': 'adriana', 'edad': 40}\n"
     ]
    }
   ],
   "source": [
    "diccionario = {\"no\":\"pepino\", \"nombre\":\"adriana\", \"edad\": 40}\n",
    "print(diccionario)"
   ]
  },
  {
   "cell_type": "code",
   "execution_count": 36,
   "id": "6ceae3bd",
   "metadata": {},
   "outputs": [
    {
     "name": "stdout",
     "output_type": "stream",
     "text": [
      "no\n",
      "nombre\n",
      "edad\n"
     ]
    }
   ],
   "source": [
    "for k in diccionario.keys(): #key  #for --- in\n",
    "    print(k)"
   ]
  },
  {
   "cell_type": "code",
   "execution_count": 37,
   "id": "c2d49f0a",
   "metadata": {},
   "outputs": [
    {
     "name": "stdout",
     "output_type": "stream",
     "text": [
      "pepino\n",
      "adriana\n",
      "40\n"
     ]
    }
   ],
   "source": [
    "for v in diccionario.values():#valores   #for --- in\n",
    "    print(v)"
   ]
  },
  {
   "cell_type": "code",
   "execution_count": 39,
   "id": "2f961468",
   "metadata": {},
   "outputs": [
    {
     "name": "stdout",
     "output_type": "stream",
     "text": [
      "no pepino\n",
      "nombre adriana\n",
      "edad 40\n"
     ]
    }
   ],
   "source": [
    "for k,v in diccionario.items():\n",
    "    print(k,v)"
   ]
  },
  {
   "cell_type": "markdown",
   "id": "74668dd7",
   "metadata": {},
   "source": [
    "# Funciones"
   ]
  },
  {
   "cell_type": "code",
   "execution_count": 4,
   "id": "2420db07",
   "metadata": {},
   "outputs": [],
   "source": [
    "# creacion de una funcion\n",
    "def calcular_puissance(oper1, oper2):\n",
    "    return oper1 ** oper2"
   ]
  },
  {
   "cell_type": "code",
   "execution_count": null,
   "id": "08ab1977",
   "metadata": {},
   "outputs": [],
   "source": [
    "# llamar la funcion \n",
    "resultado = calcular_puissance(5, 2)\n",
    "print(\"resultados es:{}\".format(resultado))"
   ]
  },
  {
   "cell_type": "markdown",
   "id": "0eb831f4",
   "metadata": {},
   "source": [
    "# ----------------------------------------//---------------------------------------------"
   ]
  },
  {
   "cell_type": "code",
   "execution_count": 7,
   "id": "1a6290ea",
   "metadata": {},
   "outputs": [],
   "source": [
    "#creacion de funcion docstring\n",
    "def calcular_puissance(oper1, oper2):\n",
    "    '''\n",
    "    retourne la valeur de un nombre elavado a la exponencial de otro numero \n",
    "    \n",
    "    parameters:\n",
    "        oper1 (int): la base\n",
    "        oper2 (int): la exponencial\n",
    "    Retorne:\n",
    "        la exponencial en int: la exponencial de un numero\n",
    "    '''\n",
    "    return oper1 ** oper2"
   ]
  },
  {
   "cell_type": "code",
   "execution_count": 8,
   "id": "387618c5",
   "metadata": {},
   "outputs": [
    {
     "name": "stdout",
     "output_type": "stream",
     "text": [
      "resultado es:25\n"
     ]
    }
   ],
   "source": [
    "#llamar la funcion \n",
    "resultado = calcular_puissance(5, 2)\n",
    "print(\"resultado es:{}\".format(resultado))\n"
   ]
  },
  {
   "cell_type": "code",
   "execution_count": 11,
   "id": "1adb9233",
   "metadata": {},
   "outputs": [
    {
     "name": "stdout",
     "output_type": "stream",
     "text": [
      "resultado es:25\n"
     ]
    }
   ],
   "source": [
    "#utilizacion de las palabras Keys \n",
    "resultado = calcular_puissance(oper1=5, oper2=2)\n",
    "print(\"resultado es:{}\".format(resultado))"
   ]
  },
  {
   "cell_type": "code",
   "execution_count": 13,
   "id": "adc7fc97",
   "metadata": {},
   "outputs": [
    {
     "name": "stdout",
     "output_type": "stream",
     "text": [
      "resultado es:25\n"
     ]
    }
   ],
   "source": [
    "#utilizacion de las palabras Keys \n",
    "resultado = calcular_puissance(oper2=2, oper1=5)# aqui solo inverti el orden ..pero me da el mismo resultado\n",
    "print(\"resultado es:{}\".format(resultado))"
   ]
  },
  {
   "cell_type": "code",
   "execution_count": 14,
   "id": "99b8d612",
   "metadata": {},
   "outputs": [],
   "source": [
    "#creacion de funcion docstring\n",
    "def calcular_puissance(oper1, oper2=2):\n",
    "    '''\n",
    "    retourne la valeur de un nombre elavado a la exponencial de otro numero \n",
    "    \n",
    "    parameters:\n",
    "        oper1 (int): la base\n",
    "        oper2 (int): la exponencial que toma el defecto el valor 2( x**2)\n",
    "    Retorne:\n",
    "        la exponencial en int: la exponencial de un numero\n",
    "    '''\n",
    "    return oper1 ** oper2"
   ]
  },
  {
   "cell_type": "code",
   "execution_count": 15,
   "id": "fef7d8a6",
   "metadata": {},
   "outputs": [
    {
     "name": "stdout",
     "output_type": "stream",
     "text": [
      "resultado es:25\n"
     ]
    }
   ],
   "source": [
    "resultado = calcular_puissance(oper1=5)\n",
    "print(\"resultado es:{}\".format(resultado))"
   ]
  },
  {
   "cell_type": "code",
   "execution_count": 16,
   "id": "8be47705",
   "metadata": {},
   "outputs": [],
   "source": [
    "#la utilizacion de TUPLAS CON PARAMETROS \n",
    "def somme_nombres(*p):\n",
    "    somme = 0\n",
    "    for tmp in p:\n",
    "        somme += tmp\n",
    "    return somme"
   ]
  },
  {
   "cell_type": "code",
   "execution_count": null,
   "id": "324d9f8e",
   "metadata": {},
   "outputs": [],
   "source": [
    "# resultado = somme_nombres(4,5,6)\n",
    "print(resultado)"
   ]
  },
  {
   "cell_type": "markdown",
   "id": "0fccb2c4",
   "metadata": {},
   "source": [
    "# -----------------------------------------//-------------------------------------------"
   ]
  },
  {
   "cell_type": "code",
   "execution_count": 18,
   "id": "ad39db31",
   "metadata": {},
   "outputs": [],
   "source": [
    "# la utilizacion de el diccionario como paramentros\n",
    "def tomar_val(**p):\n",
    "    for k,v in p.items():\n",
    "        print(k,\":\", v)"
   ]
  },
  {
   "cell_type": "code",
   "execution_count": 19,
   "id": "b4ffb87d",
   "metadata": {},
   "outputs": [
    {
     "name": "stdout",
     "output_type": "stream",
     "text": [
      "nom : pepinillo\n",
      "gae : 25\n"
     ]
    }
   ],
   "source": [
    "tomar_val(nom=\"pepinillo\", gae = 25)"
   ]
  },
  {
   "cell_type": "code",
   "execution_count": 1,
   "id": "64b09d5a",
   "metadata": {},
   "outputs": [
    {
     "name": "stdout",
     "output_type": "stream",
     "text": [
      "I'm ready\n"
     ]
    }
   ],
   "source": [
    "my_string = \"I'm ready\"\n",
    "print(my_string)"
   ]
  },
  {
   "cell_type": "code",
   "execution_count": 4,
   "id": "908aa42e",
   "metadata": {},
   "outputs": [
    {
     "name": "stdout",
     "output_type": "stream",
     "text": [
      "5.0\n"
     ]
    }
   ],
   "source": [
    "my_list = [3, 3, 4, 5, 10]\n",
    "average = sum(my_list) / len(my_list)\n",
    "print(average)"
   ]
  },
  {
   "cell_type": "code",
   "execution_count": 5,
   "id": "f6193b94",
   "metadata": {},
   "outputs": [
    {
     "name": "stdout",
     "output_type": "stream",
     "text": [
      "Begonia\n"
     ]
    }
   ],
   "source": [
    "my_flowers = [\"Acacia\", \"Begonia\", \"Carnation\", \"Dandelion\"]\n",
    "print(my_flowers[1])"
   ]
  },
  {
   "cell_type": "code",
   "execution_count": 6,
   "id": "29a5c22b",
   "metadata": {},
   "outputs": [
    {
     "name": "stdout",
     "output_type": "stream",
     "text": [
      "desde: 0\n",
      "desde: 1\n",
      "desde: 2\n",
      "total es: 8\n"
     ]
    }
   ],
   "source": [
    "My_list = [1, 2, 3]\n",
    "size = 3\n",
    "j = 0\n",
    "total = 0 \n",
    "while j < size:\n",
    "    k = j\n",
    "    while k < size:\n",
    "        total = total + k\n",
    "        k = k + 1\n",
    "    print(\"desde:\", j)\n",
    "    j = j + 1\n",
    "print(\"total es:\", total)"
   ]
  },
  {
   "cell_type": "markdown",
   "id": "184893bb",
   "metadata": {},
   "source": [
    "# Clases y objetos"
   ]
  },
  {
   "cell_type": "markdown",
   "id": "fecdc1ab",
   "metadata": {},
   "source": [
    "<h1 style=\"font-size:2rem;color:red;\">Practica: clase | objeto | Herencia </h1>"
   ]
  },
  {
   "cell_type": "code",
   "execution_count": 63,
   "id": "c8e6c798",
   "metadata": {},
   "outputs": [],
   "source": [
    "class valeria:\n",
    "    def __init__(self, nom, prenom):\n",
    "        self.nom = nom\n",
    "        self.prenom = prenom\n",
    "        \n",
    "    def __str__(self):\n",
    "        return \"nom:{}, prenom:{}\".format(self.nom, self.prenom)\n",
    "        \n",
    "    def smart(self):\n",
    "        print(\"mi nena es smart\")\n",
    "    \n",
    "        \n",
    "    def venir_college(self):\n",
    "        print(\"venir al college\")\n",
    "        \n"
   ]
  },
  {
   "cell_type": "code",
   "execution_count": 59,
   "id": "66fd538c",
   "metadata": {},
   "outputs": [],
   "source": [
    "class Profesor: \n",
    "    def __init__(self, nom, prenom, salario):\n",
    "        self.nom = nom\n",
    "        self.prenom = prenom\n",
    "        self.salario = salario\n",
    "        \n",
    "    def __str__(self):\n",
    "        return \"nom:{}, prenom:{}, salario:{}\".format(self.nom, self.prenom, self.salario)\n",
    "    \n",
    "    def profe(self):\n",
    "        print(\"profesor\")\n",
    "        self.salario += 100\n",
    "        \n",
    "    def venir_college(self):\n",
    "        print(\"venir al college\")"
   ]
  },
  {
   "cell_type": "code",
   "execution_count": 54,
   "id": "491b14d1",
   "metadata": {},
   "outputs": [],
   "source": [
    "class Estudiante:\n",
    "    def __init__(self, nom, prenom, note_final):\n",
    "        self.nom = nom\n",
    "        self.prenom = prenom\n",
    "        self.note_final = note_final\n",
    "        \n",
    "    def __str__(self):\n",
    "        return \"nom:{}, prenom:{}, note:{}\".format(self.nom, self.prenom, self.note_final)\n",
    "    \n",
    "    def escuchar(self):\n",
    "        print(\"el estudiante escucha la leccion\")\n",
    "        self.note_final += 10\n",
    "        \n",
    "    def venir_college(self):\n",
    "        print(\"venir al college\")\n",
    "        self.nota_final += 5"
   ]
  },
  {
   "cell_type": "code",
   "execution_count": 64,
   "id": "874e1e7e",
   "metadata": {},
   "outputs": [
    {
     "name": "stdout",
     "output_type": "stream",
     "text": [
      "nom:pepinillo, prenom:adri, note:0\n",
      "nom:valeria, prenom:villa, salario:2000\n",
      "nom:hija, prenom:estrada\n",
      "antes de la colaboracion\n",
      "==================================================\n",
      "el estudiante escucha la leccion\n",
      "profesor\n",
      "mi nena es smart\n",
      "nom:pepinillo, prenom:adri, note:10\n",
      "nom:valeria, prenom:villa, salario:2100\n",
      "pepinillo\n",
      "==================================================\n",
      "antes de la colaboracion\n",
      "nom:pepinillo, prenom:adri, note:10\n",
      "nom:valeria, prenom:villa, salario:2100\n",
      "nom:hija, prenom:estrada\n"
     ]
    }
   ],
   "source": [
    "#creacion de el objeto\n",
    "objectE = Estudiante(\"pepinillo\", \"adri\", 0)\n",
    "objectP = Profesor(\"valeria\",\"villa\", 2000 )\n",
    "objectV = valeria(\"hija\", \"estrada\")\n",
    "\n",
    "print(objectE)\n",
    "print(objectP)\n",
    "print(objectV)\n",
    "print(\"antes de la colaboracion\")\n",
    "print(\"=\" * 50)\n",
    "\n",
    "#llamo e invoco el metodo\n",
    "objectE.escuchar()\n",
    "objectP.profe()\n",
    "objectV.smart()\n",
    "print(objectE)\n",
    "print(objectP)\n",
    "\n",
    "# para revizar el valor de un atributo\n",
    "print(objectE.nom)\n",
    "print(\"=\" * 50)\n",
    "print(\"antes de la colaboracion\")\n",
    "print(objectE)\n",
    "print(objectP)\n",
    "print(objectV)\n",
    "    "
   ]
  },
  {
   "cell_type": "markdown",
   "id": "75ca4fdd",
   "metadata": {},
   "source": [
    "<h1 style=\"font-size:2rem;color:red;\">Ejercicio 2</h1>"
   ]
  },
  {
   "cell_type": "code",
   "execution_count": 38,
   "id": "029656a9",
   "metadata": {},
   "outputs": [
    {
     "name": "stdout",
     "output_type": "stream",
     "text": [
      "nom:Alain, prenom:Bluff, code:118907, salario:7800\n",
      "nom:Abdel, prenom:FlouClair, code:118910, salario:8450\n",
      "nom:Annie, prenom:ClairClair, code:118987, salario:7720\n",
      "yo soy un empleado lala\n"
     ]
    }
   ],
   "source": [
    "class Empleado:\n",
    "#body    \n",
    "    # este es el body o estructura, si no lo tengo definido uso \"pass\" y continuo\n",
    "    def __init__(self, nom, prenom, code, salario):\n",
    "        self.nom = nom\n",
    "        self.prenom = prenom\n",
    "        self.code = code\n",
    "        self.salario = salario\n",
    "        \n",
    "    def __str__(self):\n",
    "        return \"nom:{}, prenom:{}, code:{}, salario:{}\".format(self.nom, self.prenom, self.code, self.salario)\n",
    "     # este es el metodo o lo que defino que va hacer mi programa, este sera invocado en mi main!!!         \n",
    "    def hacer_trabajo(self):\n",
    "        print(\"yo soy un empleado lalalala\");\n",
    "        \n",
    "#recivir un nombre, leerlo, especificar como valores y el tipo de almacenamiento de los objetos \n",
    "obj1 = Empleado(\"Alain\", \"Bluff\", 118907, 7800)\n",
    "obj2 = Empleado(\"Abdel\", \"FlouClair\", 118910, 8450)\n",
    "obj3 = Empleado(\"Annie\", \"ClairClair\", 118987, 7720)\n",
    "\n",
    "print(obj1)\n",
    "print(obj2)\n",
    "print(obj3)\n",
    "\n",
    "#ejecutar el metodo que llame \"hacer_trabajo\"\n",
    "Obj1.hacer_trabajo()  #aqui invoque mi metodo para ser ejecutado con el objeto que invoque \"Objt1\""
   ]
  },
  {
   "cell_type": "markdown",
   "id": "81c76157",
   "metadata": {},
   "source": [
    "<h1 style=\"font-size:2rem;color:red;\">Ejercicio 3</h1>"
   ]
  },
  {
   "cell_type": "code",
   "execution_count": 2,
   "id": "927e0d35",
   "metadata": {},
   "outputs": [],
   "source": [
    "#Cree la clase base de contacto. Esto define un contacto que podemos tener.\n",
    "#Se requiere que un contacto tenga un nombre y una dirección de correo electrónico. Basándose en esta información, \n",
    "#cree un contacto con el nombre \"Alain flouflou\" y la dirección de correo electrónico a.flouflou@monsite.com. \n",
    "#Muestra su detalle.\n",
    "class contacto:\n",
    "    def __init__(self, nombre, email):\n",
    "        self.nombre = nombre\n",
    "        self.email = email\n",
    "        \n",
    "    def __str__(self):\n",
    "        return \"nombre:{}, email:{}\".format(self.nombre, self.email)  # agrego Format siempre que agrego a mi print texto\n",
    "    "
   ]
  },
  {
   "cell_type": "code",
   "execution_count": 105,
   "id": "cca6d4bb",
   "metadata": {},
   "outputs": [],
   "source": [
    "#Ahora consideramos que podemos tener un contacto pero que también es proveedor. \n",
    "#En este caso específico, un proveedor tiene un atributo adicional llamado code_scn así como un método pass_order(). \n",
    "#Expanda la clase Proveedor. Cree un objeto proveedor con los valores \"Annie ClairClair\", a.clairclair@monsite.com\" y \"1234\"\n",
    "class proveedor(contacto):\n",
    "        def __init__(self, nombre, email, code_scn):\n",
    "            super().__init__(nombre, email)\n",
    "            self.code_scn = code_scn\n",
    "        \n",
    "        def __str__(self):\n",
    "            return super().__str__() + \"code_scn:\".format(self.code_scn)\n",
    "    \n",
    "        def pass_order(self, code_scn):\n",
    "            print(\"provedoor pasa un pedido:{}\".format(code_scn))"
   ]
  },
  {
   "cell_type": "code",
   "execution_count": 107,
   "id": "cb7df1d7",
   "metadata": {},
   "outputs": [
    {
     "name": "stdout",
     "output_type": "stream",
     "text": [
      "nombre:Adriana, email:adriana@gmail.com\n",
      "nombre:valeria, email:valeria@gmail.comcode_scn:\n"
     ]
    }
   ],
   "source": [
    "objC = contacto(\"Adriana\", \"adriana@gmail.com\")\n",
    "print(objC)\n",
    "\n",
    "objP = proveedor(\"valeria\", \"valeria@gmail.com\", \"1234\")\n",
    "print(objP)"
   ]
  },
  {
   "cell_type": "code",
   "execution_count": 108,
   "id": "b9ec1463",
   "metadata": {},
   "outputs": [
    {
     "name": "stdout",
     "output_type": "stream",
     "text": [
      "provedoor pasa un pedido:1000\n"
     ]
    }
   ],
   "source": [
    "objP.pass_order(1000) # fijarse en el metodo en la clase proveeedor \"pass_order\""
   ]
  },
  {
   "cell_type": "code",
   "execution_count": 1,
   "id": "7f3dad68",
   "metadata": {},
   "outputs": [],
   "source": [
    "#Ahora queremos guardar los contactos en un registro de memoria. \n",
    "#Para ello, utilizaremos una lista como colección. \n",
    "#Desarrollar la clase RegistroContactos que contenga un atributo de tipo lista y \n",
    "#sabiendo que este registro se llamará \"lista de contactos\". \n",
    "#Los contactos de la lista anterior se agregarán al registro.\n",
    "class RegistroContactos:\n",
    "    def __init__(self, titulo):\n",
    "        self.registro = [] #atributo tipo lista\n",
    "        self.titulo = titulo\n",
    "\n",
    "    def agregar_contactos(self, contacto):\n",
    "        self.registro.append(contacto)\n",
    "\n",
    "    def lista_contactos(self):\n",
    "        print(\"Lista de todos los contactos\")\n",
    "        for elem in self.registro:\n",
    "            print(elem)\n",
    "\n",
    "    def buscar_contacto(self,key):\n",
    "        encontrar = []\n",
    "        for elem in self.registro:\n",
    "            if key in elem.nombre:\n",
    "                encontrar.append(elem)\n",
    "\n",
    "        return encontrar\n"
   ]
  },
  {
   "cell_type": "code",
   "execution_count": 119,
   "id": "0c1e88c8",
   "metadata": {},
   "outputs": [
    {
     "name": "stdout",
     "output_type": "stream",
     "text": [
      "Lista de todos los contactos\n",
      "nombre:Adriana, email:adriana@gmail.com\n",
      "nombre:valeria, email:valeria@gmail.comcode_scn:\n"
     ]
    }
   ],
   "source": [
    "#Ahora nos aseguraremos de agregar el curso a la lista una vez que se hayan agregado. \n",
    "#El registro de contactos ahora debería proporcionarnos una forma de buscar un contacto por nombre. \n",
    "#Desarrolle el método recherche_contact que toma el nombre de un contacto para saber si ya está en el registro.\n",
    "#créer le registre\n",
    "registro = RegistroContactos(\"lista de contactos\")\n",
    "\n",
    "registro.agregar_contactos(objC)\n",
    "registro.agregar_contactos(objP)\n",
    "\n",
    "#Afficher le contenue du registre\n",
    "registro.lista_contactos()"
   ]
  },
  {
   "cell_type": "code",
   "execution_count": 1,
   "id": "c616ebaf",
   "metadata": {},
   "outputs": [
    {
     "ename": "NameError",
     "evalue": "name 'registro' is not defined",
     "output_type": "error",
     "traceback": [
      "\u001b[1;31m---------------------------------------------------------------------------\u001b[0m",
      "\u001b[1;31mNameError\u001b[0m                                 Traceback (most recent call last)",
      "\u001b[1;32m~\\AppData\\Local\\Temp/ipykernel_15004/2058961143.py\u001b[0m in \u001b[0;36m<module>\u001b[1;34m\u001b[0m\n\u001b[0;32m      1\u001b[0m \u001b[1;31m#rechercher un contact\u001b[0m\u001b[1;33m\u001b[0m\u001b[1;33m\u001b[0m\u001b[0m\n\u001b[0;32m      2\u001b[0m \u001b[0mkey\u001b[0m\u001b[1;33m=\u001b[0m\u001b[1;34m\"valeria\"\u001b[0m\u001b[1;33m\u001b[0m\u001b[1;33m\u001b[0m\u001b[0m\n\u001b[1;32m----> 3\u001b[1;33m \u001b[0mresultado\u001b[0m \u001b[1;33m=\u001b[0m \u001b[0mregistro\u001b[0m\u001b[1;33m.\u001b[0m\u001b[0mbuscar_contacto\u001b[0m\u001b[1;33m(\u001b[0m\u001b[0mkey\u001b[0m\u001b[1;33m)\u001b[0m\u001b[1;33m\u001b[0m\u001b[1;33m\u001b[0m\u001b[0m\n\u001b[0m\u001b[0;32m      4\u001b[0m \u001b[0mprint\u001b[0m\u001b[1;33m(\u001b[0m\u001b[1;34m\"Elementos encontrados\"\u001b[0m\u001b[1;33m)\u001b[0m\u001b[1;33m\u001b[0m\u001b[1;33m\u001b[0m\u001b[0m\n\u001b[0;32m      5\u001b[0m \u001b[1;32mfor\u001b[0m \u001b[0mres\u001b[0m \u001b[1;32min\u001b[0m \u001b[0mresultado\u001b[0m\u001b[1;33m:\u001b[0m\u001b[1;33m\u001b[0m\u001b[1;33m\u001b[0m\u001b[0m\n",
      "\u001b[1;31mNameError\u001b[0m: name 'registro' is not defined"
     ]
    }
   ],
   "source": [
    "#rechercher un contact\n",
    "key=\"valeria\"\n",
    "resultado = registro.buscar_contacto(key)\n",
    "print(\"Elementos encontrados\")\n",
    "for res in resultado:\n",
    "    print(\"*\"*25)\n",
    "    print(res)"
   ]
  },
  {
   "cell_type": "markdown",
   "id": "5ef3eedb",
   "metadata": {},
   "source": [
    "<h1 style=\"font-size:2rem;color:red;\">Ejercicio Avanquest compania</h1>"
   ]
  },
  {
   "cell_type": "code",
   "execution_count": 35,
   "id": "0b7bf5b7",
   "metadata": {},
   "outputs": [],
   "source": [
    "%matplotlib inline\n",
    "\n",
    "import numpy as np\n",
    "import pandas as pd\n",
    "import os\n",
    "#read customers data\n",
    "customers = pd.read_csv(\"C:/Users/Valeria/Desktop/DATA-BI DEVELOPER/customers.csv\")\n",
    "products = pd.read_csv(\"C:/Users/Valeria/Desktop/DATA-BI DEVELOPER/products.csv\")\n",
    "transactions = pd.read_csv(\"C:/Users/Valeria/Desktop/DATA-BI DEVELOPER/transactions.csv\")"
   ]
  },
  {
   "cell_type": "code",
   "execution_count": 13,
   "id": "a946c5da",
   "metadata": {},
   "outputs": [
    {
     "data": {
      "text/plain": [
       "(100000, 5)"
      ]
     },
     "execution_count": 13,
     "metadata": {},
     "output_type": "execute_result"
    }
   ],
   "source": [
    "#check dimensions\n",
    "customers.shape"
   ]
  },
  {
   "cell_type": "code",
   "execution_count": 14,
   "id": "7794423f",
   "metadata": {},
   "outputs": [
    {
     "name": "stdout",
     "output_type": "stream",
     "text": [
      "<class 'pandas.core.frame.DataFrame'>\n",
      "RangeIndex: 100000 entries, 0 to 99999\n",
      "Data columns (total 5 columns):\n",
      " #   Column     Non-Null Count   Dtype \n",
      "---  ------     --------------   ----- \n",
      " 0   id         100000 non-null  int64 \n",
      " 1   firstname  100000 non-null  object\n",
      " 2   lastname   100000 non-null  object\n",
      " 3   city       99529 non-null   object\n",
      " 4   country    100000 non-null  object\n",
      "dtypes: int64(1), object(4)\n",
      "memory usage: 3.8+ MB\n"
     ]
    }
   ],
   "source": [
    "#verificar data type\n",
    "customers.info()"
   ]
  },
  {
   "cell_type": "code",
   "execution_count": 23,
   "id": "f2e30f30",
   "metadata": {},
   "outputs": [
    {
     "data": {
      "text/html": [
       "<div>\n",
       "<style scoped>\n",
       "    .dataframe tbody tr th:only-of-type {\n",
       "        vertical-align: middle;\n",
       "    }\n",
       "\n",
       "    .dataframe tbody tr th {\n",
       "        vertical-align: top;\n",
       "    }\n",
       "\n",
       "    .dataframe thead th {\n",
       "        text-align: right;\n",
       "    }\n",
       "</style>\n",
       "<table border=\"1\" class=\"dataframe\">\n",
       "  <thead>\n",
       "    <tr style=\"text-align: right;\">\n",
       "      <th></th>\n",
       "      <th>id</th>\n",
       "      <th>firstname</th>\n",
       "      <th>lastname</th>\n",
       "      <th>city</th>\n",
       "      <th>country</th>\n",
       "    </tr>\n",
       "  </thead>\n",
       "  <tbody>\n",
       "    <tr>\n",
       "      <th>0</th>\n",
       "      <td>99666</td>\n",
       "      <td>Ann</td>\n",
       "      <td>Sibbett</td>\n",
       "      <td>Casablanca</td>\n",
       "      <td>Morocco</td>\n",
       "    </tr>\n",
       "    <tr>\n",
       "      <th>1</th>\n",
       "      <td>46866</td>\n",
       "      <td>Anthony</td>\n",
       "      <td>Camp</td>\n",
       "      <td>Poznan</td>\n",
       "      <td>Poland</td>\n",
       "    </tr>\n",
       "    <tr>\n",
       "      <th>2</th>\n",
       "      <td>72249</td>\n",
       "      <td>Nanette</td>\n",
       "      <td>Morris</td>\n",
       "      <td>Frankfurt</td>\n",
       "      <td>Germany</td>\n",
       "    </tr>\n",
       "    <tr>\n",
       "      <th>3</th>\n",
       "      <td>36463</td>\n",
       "      <td>Susanna</td>\n",
       "      <td>Turner</td>\n",
       "      <td>Toronto</td>\n",
       "      <td>Canada</td>\n",
       "    </tr>\n",
       "    <tr>\n",
       "      <th>4</th>\n",
       "      <td>84875</td>\n",
       "      <td>Kenneth</td>\n",
       "      <td>Rice</td>\n",
       "      <td>Los Angeles</td>\n",
       "      <td>USA</td>\n",
       "    </tr>\n",
       "  </tbody>\n",
       "</table>\n",
       "</div>"
      ],
      "text/plain": [
       "      id firstname lastname         city  country\n",
       "0  99666       Ann  Sibbett   Casablanca  Morocco\n",
       "1  46866   Anthony     Camp       Poznan   Poland\n",
       "2  72249   Nanette   Morris    Frankfurt  Germany\n",
       "3  36463   Susanna   Turner      Toronto   Canada\n",
       "4  84875   Kenneth     Rice  Los Angeles      USA"
      ]
     },
     "execution_count": 23,
     "metadata": {},
     "output_type": "execute_result"
    }
   ],
   "source": [
    "#check the first 5 rows\n",
    "customers.head(5)"
   ]
  },
  {
   "cell_type": "code",
   "execution_count": 16,
   "id": "da1e9ce7",
   "metadata": {},
   "outputs": [
    {
     "data": {
      "text/html": [
       "<div>\n",
       "<style scoped>\n",
       "    .dataframe tbody tr th:only-of-type {\n",
       "        vertical-align: middle;\n",
       "    }\n",
       "\n",
       "    .dataframe tbody tr th {\n",
       "        vertical-align: top;\n",
       "    }\n",
       "\n",
       "    .dataframe thead th {\n",
       "        text-align: right;\n",
       "    }\n",
       "</style>\n",
       "<table border=\"1\" class=\"dataframe\">\n",
       "  <thead>\n",
       "    <tr style=\"text-align: right;\">\n",
       "      <th></th>\n",
       "      <th>id</th>\n",
       "    </tr>\n",
       "  </thead>\n",
       "  <tbody>\n",
       "    <tr>\n",
       "      <th>count</th>\n",
       "      <td>100000.000000</td>\n",
       "    </tr>\n",
       "    <tr>\n",
       "      <th>mean</th>\n",
       "      <td>50999.500000</td>\n",
       "    </tr>\n",
       "    <tr>\n",
       "      <th>std</th>\n",
       "      <td>28867.657797</td>\n",
       "    </tr>\n",
       "    <tr>\n",
       "      <th>min</th>\n",
       "      <td>1000.000000</td>\n",
       "    </tr>\n",
       "    <tr>\n",
       "      <th>25%</th>\n",
       "      <td>25999.750000</td>\n",
       "    </tr>\n",
       "    <tr>\n",
       "      <th>50%</th>\n",
       "      <td>50999.500000</td>\n",
       "    </tr>\n",
       "    <tr>\n",
       "      <th>75%</th>\n",
       "      <td>75999.250000</td>\n",
       "    </tr>\n",
       "    <tr>\n",
       "      <th>max</th>\n",
       "      <td>100999.000000</td>\n",
       "    </tr>\n",
       "  </tbody>\n",
       "</table>\n",
       "</div>"
      ],
      "text/plain": [
       "                  id\n",
       "count  100000.000000\n",
       "mean    50999.500000\n",
       "std     28867.657797\n",
       "min      1000.000000\n",
       "25%     25999.750000\n",
       "50%     50999.500000\n",
       "75%     75999.250000\n",
       "max    100999.000000"
      ]
     },
     "execution_count": 16,
     "metadata": {},
     "output_type": "execute_result"
    }
   ],
   "source": [
    "customers.describe()"
   ]
  },
  {
   "cell_type": "code",
   "execution_count": 26,
   "id": "2c4140e2",
   "metadata": {},
   "outputs": [
    {
     "ename": "AttributeError",
     "evalue": "'DataFrame' object has no attribute 'dtype'",
     "output_type": "error",
     "traceback": [
      "\u001b[1;31m---------------------------------------------------------------------------\u001b[0m",
      "\u001b[1;31mAttributeError\u001b[0m                            Traceback (most recent call last)",
      "\u001b[1;32m~\\AppData\\Local\\Temp/ipykernel_11012/1344323993.py\u001b[0m in \u001b[0;36m<module>\u001b[1;34m\u001b[0m\n\u001b[1;32m----> 1\u001b[1;33m \u001b[0mcategorical\u001b[0m \u001b[1;33m=\u001b[0m \u001b[0mcustomers\u001b[0m\u001b[1;33m.\u001b[0m\u001b[0mdtype\u001b[0m\u001b[1;33m[\u001b[0m\u001b[0mcustomers\u001b[0m\u001b[1;33m.\u001b[0m\u001b[0mdtype\u001b[0m \u001b[1;33m==\u001b[0m \u001b[1;34m\"object\"\u001b[0m\u001b[1;33m]\u001b[0m\u001b[1;33m.\u001b[0m\u001b[0mindex\u001b[0m\u001b[1;33m\u001b[0m\u001b[1;33m\u001b[0m\u001b[0m\n\u001b[0m\u001b[0;32m      2\u001b[0m \u001b[0mprint\u001b[0m\u001b[1;33m(\u001b[0m\u001b[0mcategorical\u001b[0m\u001b[1;33m)\u001b[0m\u001b[1;33m\u001b[0m\u001b[1;33m\u001b[0m\u001b[0m\n\u001b[0;32m      3\u001b[0m \u001b[1;33m\u001b[0m\u001b[0m\n\u001b[0;32m      4\u001b[0m \u001b[0mcustomers\u001b[0m\u001b[1;33m[\u001b[0m\u001b[0mcategorical\u001b[0m\u001b[1;33m]\u001b[0m\u001b[1;33m.\u001b[0m\u001b[0mdescribe\u001b[0m\u001b[1;33m(\u001b[0m\u001b[1;33m)\u001b[0m\u001b[1;33m\u001b[0m\u001b[1;33m\u001b[0m\u001b[0m\n",
      "\u001b[1;32m~\\anaconda3\\lib\\site-packages\\pandas\\core\\generic.py\u001b[0m in \u001b[0;36m__getattr__\u001b[1;34m(self, name)\u001b[0m\n\u001b[0;32m   5485\u001b[0m         ):\n\u001b[0;32m   5486\u001b[0m             \u001b[1;32mreturn\u001b[0m \u001b[0mself\u001b[0m\u001b[1;33m[\u001b[0m\u001b[0mname\u001b[0m\u001b[1;33m]\u001b[0m\u001b[1;33m\u001b[0m\u001b[1;33m\u001b[0m\u001b[0m\n\u001b[1;32m-> 5487\u001b[1;33m         \u001b[1;32mreturn\u001b[0m \u001b[0mobject\u001b[0m\u001b[1;33m.\u001b[0m\u001b[0m__getattribute__\u001b[0m\u001b[1;33m(\u001b[0m\u001b[0mself\u001b[0m\u001b[1;33m,\u001b[0m \u001b[0mname\u001b[0m\u001b[1;33m)\u001b[0m\u001b[1;33m\u001b[0m\u001b[1;33m\u001b[0m\u001b[0m\n\u001b[0m\u001b[0;32m   5488\u001b[0m \u001b[1;33m\u001b[0m\u001b[0m\n\u001b[0;32m   5489\u001b[0m     \u001b[1;32mdef\u001b[0m \u001b[0m__setattr__\u001b[0m\u001b[1;33m(\u001b[0m\u001b[0mself\u001b[0m\u001b[1;33m,\u001b[0m \u001b[0mname\u001b[0m\u001b[1;33m:\u001b[0m \u001b[0mstr\u001b[0m\u001b[1;33m,\u001b[0m \u001b[0mvalue\u001b[0m\u001b[1;33m)\u001b[0m \u001b[1;33m->\u001b[0m \u001b[1;32mNone\u001b[0m\u001b[1;33m:\u001b[0m\u001b[1;33m\u001b[0m\u001b[1;33m\u001b[0m\u001b[0m\n",
      "\u001b[1;31mAttributeError\u001b[0m: 'DataFrame' object has no attribute 'dtype'"
     ]
    }
   ],
   "source": [
    "categorical = customers.dtype[customers.dtype == \"object\"].index\n",
    "print(categorical)\n",
    "\n",
    "customers[categorical].describe()"
   ]
  },
  {
   "cell_type": "code",
   "execution_count": 28,
   "id": "a0010f8d",
   "metadata": {},
   "outputs": [
    {
     "data": {
      "text/plain": [
       "(10, 4)"
      ]
     },
     "execution_count": 28,
     "metadata": {},
     "output_type": "execute_result"
    }
   ],
   "source": [
    "products.shape"
   ]
  },
  {
   "cell_type": "code",
   "execution_count": 29,
   "id": "70575861",
   "metadata": {},
   "outputs": [
    {
     "data": {
      "text/html": [
       "<div>\n",
       "<style scoped>\n",
       "    .dataframe tbody tr th:only-of-type {\n",
       "        vertical-align: middle;\n",
       "    }\n",
       "\n",
       "    .dataframe tbody tr th {\n",
       "        vertical-align: top;\n",
       "    }\n",
       "\n",
       "    .dataframe thead th {\n",
       "        text-align: right;\n",
       "    }\n",
       "</style>\n",
       "<table border=\"1\" class=\"dataframe\">\n",
       "  <thead>\n",
       "    <tr style=\"text-align: right;\">\n",
       "      <th></th>\n",
       "      <th>id</th>\n",
       "      <th>name</th>\n",
       "      <th>type</th>\n",
       "      <th>priceUSD</th>\n",
       "    </tr>\n",
       "  </thead>\n",
       "  <tbody>\n",
       "    <tr>\n",
       "      <th>0</th>\n",
       "      <td>1</td>\n",
       "      <td>N1</td>\n",
       "      <td>3</td>\n",
       "      <td>83</td>\n",
       "    </tr>\n",
       "    <tr>\n",
       "      <th>1</th>\n",
       "      <td>2</td>\n",
       "      <td>N2</td>\n",
       "      <td>2</td>\n",
       "      <td>34</td>\n",
       "    </tr>\n",
       "    <tr>\n",
       "      <th>2</th>\n",
       "      <td>3</td>\n",
       "      <td>N3</td>\n",
       "      <td>2</td>\n",
       "      <td>29</td>\n",
       "    </tr>\n",
       "    <tr>\n",
       "      <th>3</th>\n",
       "      <td>4</td>\n",
       "      <td>N4</td>\n",
       "      <td>2</td>\n",
       "      <td>36</td>\n",
       "    </tr>\n",
       "    <tr>\n",
       "      <th>4</th>\n",
       "      <td>5</td>\n",
       "      <td>N5</td>\n",
       "      <td>1</td>\n",
       "      <td>315</td>\n",
       "    </tr>\n",
       "  </tbody>\n",
       "</table>\n",
       "</div>"
      ],
      "text/plain": [
       "   id name  type  priceUSD\n",
       "0   1   N1     3        83\n",
       "1   2   N2     2        34\n",
       "2   3   N3     2        29\n",
       "3   4   N4     2        36\n",
       "4   5   N5     1       315"
      ]
     },
     "execution_count": 29,
     "metadata": {},
     "output_type": "execute_result"
    }
   ],
   "source": [
    "products.head(5)"
   ]
  },
  {
   "cell_type": "code",
   "execution_count": 33,
   "id": "c168df8b",
   "metadata": {},
   "outputs": [
    {
     "data": {
      "text/html": [
       "<div>\n",
       "<style scoped>\n",
       "    .dataframe tbody tr th:only-of-type {\n",
       "        vertical-align: middle;\n",
       "    }\n",
       "\n",
       "    .dataframe tbody tr th {\n",
       "        vertical-align: top;\n",
       "    }\n",
       "\n",
       "    .dataframe thead th {\n",
       "        text-align: right;\n",
       "    }\n",
       "</style>\n",
       "<table border=\"1\" class=\"dataframe\">\n",
       "  <thead>\n",
       "    <tr style=\"text-align: right;\">\n",
       "      <th></th>\n",
       "      <th>id</th>\n",
       "      <th>type</th>\n",
       "      <th>priceUSD</th>\n",
       "    </tr>\n",
       "  </thead>\n",
       "  <tbody>\n",
       "    <tr>\n",
       "      <th>count</th>\n",
       "      <td>10.00000</td>\n",
       "      <td>10.000000</td>\n",
       "      <td>10.000000</td>\n",
       "    </tr>\n",
       "    <tr>\n",
       "      <th>mean</th>\n",
       "      <td>5.50000</td>\n",
       "      <td>2.000000</td>\n",
       "      <td>149.900000</td>\n",
       "    </tr>\n",
       "    <tr>\n",
       "      <th>std</th>\n",
       "      <td>3.02765</td>\n",
       "      <td>0.816497</td>\n",
       "      <td>155.027202</td>\n",
       "    </tr>\n",
       "    <tr>\n",
       "      <th>min</th>\n",
       "      <td>1.00000</td>\n",
       "      <td>1.000000</td>\n",
       "      <td>28.000000</td>\n",
       "    </tr>\n",
       "    <tr>\n",
       "      <th>25%</th>\n",
       "      <td>3.25000</td>\n",
       "      <td>1.250000</td>\n",
       "      <td>34.500000</td>\n",
       "    </tr>\n",
       "    <tr>\n",
       "      <th>50%</th>\n",
       "      <td>5.50000</td>\n",
       "      <td>2.000000</td>\n",
       "      <td>86.500000</td>\n",
       "    </tr>\n",
       "    <tr>\n",
       "      <th>75%</th>\n",
       "      <td>7.75000</td>\n",
       "      <td>2.750000</td>\n",
       "      <td>259.000000</td>\n",
       "    </tr>\n",
       "    <tr>\n",
       "      <th>max</th>\n",
       "      <td>10.00000</td>\n",
       "      <td>3.000000</td>\n",
       "      <td>398.000000</td>\n",
       "    </tr>\n",
       "  </tbody>\n",
       "</table>\n",
       "</div>"
      ],
      "text/plain": [
       "             id       type    priceUSD\n",
       "count  10.00000  10.000000   10.000000\n",
       "mean    5.50000   2.000000  149.900000\n",
       "std     3.02765   0.816497  155.027202\n",
       "min     1.00000   1.000000   28.000000\n",
       "25%     3.25000   1.250000   34.500000\n",
       "50%     5.50000   2.000000   86.500000\n",
       "75%     7.75000   2.750000  259.000000\n",
       "max    10.00000   3.000000  398.000000"
      ]
     },
     "execution_count": 33,
     "metadata": {},
     "output_type": "execute_result"
    }
   ],
   "source": [
    "products.describe()"
   ]
  },
  {
   "cell_type": "code",
   "execution_count": 32,
   "id": "5f6d12bb",
   "metadata": {},
   "outputs": [
    {
     "name": "stdout",
     "output_type": "stream",
     "text": [
      "<class 'pandas.core.frame.DataFrame'>\n",
      "RangeIndex: 10 entries, 0 to 9\n",
      "Data columns (total 4 columns):\n",
      " #   Column    Non-Null Count  Dtype \n",
      "---  ------    --------------  ----- \n",
      " 0   id        10 non-null     int64 \n",
      " 1   name      10 non-null     object\n",
      " 2   type      10 non-null     int64 \n",
      " 3   priceUSD  10 non-null     int64 \n",
      "dtypes: int64(3), object(1)\n",
      "memory usage: 448.0+ bytes\n"
     ]
    }
   ],
   "source": [
    "products.info()"
   ]
  },
  {
   "cell_type": "code",
   "execution_count": 36,
   "id": "5a3c706b",
   "metadata": {},
   "outputs": [
    {
     "data": {
      "text/html": [
       "<div>\n",
       "<style scoped>\n",
       "    .dataframe tbody tr th:only-of-type {\n",
       "        vertical-align: middle;\n",
       "    }\n",
       "\n",
       "    .dataframe tbody tr th {\n",
       "        vertical-align: top;\n",
       "    }\n",
       "\n",
       "    .dataframe thead th {\n",
       "        text-align: right;\n",
       "    }\n",
       "</style>\n",
       "<table border=\"1\" class=\"dataframe\">\n",
       "  <thead>\n",
       "    <tr style=\"text-align: right;\">\n",
       "      <th></th>\n",
       "      <th>id</th>\n",
       "      <th>customerid</th>\n",
       "      <th>productid</th>\n",
       "    </tr>\n",
       "  </thead>\n",
       "  <tbody>\n",
       "    <tr>\n",
       "      <th>count</th>\n",
       "      <td>120771.000000</td>\n",
       "      <td>120771.000000</td>\n",
       "      <td>120771.000000</td>\n",
       "    </tr>\n",
       "    <tr>\n",
       "      <th>mean</th>\n",
       "      <td>60386.000000</td>\n",
       "      <td>50991.247319</td>\n",
       "      <td>5.373517</td>\n",
       "    </tr>\n",
       "    <tr>\n",
       "      <th>std</th>\n",
       "      <td>34863.729017</td>\n",
       "      <td>28881.098814</td>\n",
       "      <td>3.203827</td>\n",
       "    </tr>\n",
       "    <tr>\n",
       "      <th>min</th>\n",
       "      <td>1.000000</td>\n",
       "      <td>1002.000000</td>\n",
       "      <td>1.000000</td>\n",
       "    </tr>\n",
       "    <tr>\n",
       "      <th>25%</th>\n",
       "      <td>30193.500000</td>\n",
       "      <td>26459.500000</td>\n",
       "      <td>1.000000</td>\n",
       "    </tr>\n",
       "    <tr>\n",
       "      <th>50%</th>\n",
       "      <td>60386.000000</td>\n",
       "      <td>51186.000000</td>\n",
       "      <td>6.000000</td>\n",
       "    </tr>\n",
       "    <tr>\n",
       "      <th>75%</th>\n",
       "      <td>90578.500000</td>\n",
       "      <td>75769.500000</td>\n",
       "      <td>9.000000</td>\n",
       "    </tr>\n",
       "    <tr>\n",
       "      <th>max</th>\n",
       "      <td>120771.000000</td>\n",
       "      <td>100999.000000</td>\n",
       "      <td>10.000000</td>\n",
       "    </tr>\n",
       "  </tbody>\n",
       "</table>\n",
       "</div>"
      ],
      "text/plain": [
       "                  id     customerid      productid\n",
       "count  120771.000000  120771.000000  120771.000000\n",
       "mean    60386.000000   50991.247319       5.373517\n",
       "std     34863.729017   28881.098814       3.203827\n",
       "min         1.000000    1002.000000       1.000000\n",
       "25%     30193.500000   26459.500000       1.000000\n",
       "50%     60386.000000   51186.000000       6.000000\n",
       "75%     90578.500000   75769.500000       9.000000\n",
       "max    120771.000000  100999.000000      10.000000"
      ]
     },
     "execution_count": 36,
     "metadata": {},
     "output_type": "execute_result"
    }
   ],
   "source": [
    "transactions.describe()"
   ]
  },
  {
   "cell_type": "code",
   "execution_count": 37,
   "id": "b3854b5e",
   "metadata": {},
   "outputs": [
    {
     "name": "stdout",
     "output_type": "stream",
     "text": [
      "<class 'pandas.core.frame.DataFrame'>\n",
      "RangeIndex: 120771 entries, 0 to 120770\n",
      "Data columns (total 4 columns):\n",
      " #   Column      Non-Null Count   Dtype \n",
      "---  ------      --------------   ----- \n",
      " 0   id          120771 non-null  int64 \n",
      " 1   date        120648 non-null  object\n",
      " 2   customerid  120771 non-null  int64 \n",
      " 3   productid   120771 non-null  int64 \n",
      "dtypes: int64(3), object(1)\n",
      "memory usage: 3.7+ MB\n"
     ]
    }
   ],
   "source": [
    "transactions.info()"
   ]
  },
  {
   "cell_type": "code",
   "execution_count": null,
   "id": "4e62fb00",
   "metadata": {},
   "outputs": [],
   "source": [
    "transactions.head(5)"
   ]
  },
  {
   "cell_type": "markdown",
   "id": "4e218c8f",
   "metadata": {},
   "source": [
    "<h1 style=\"font-size:2rem;color:red;\">Lectura de archivos por cada linea/row</h1>"
   ]
  },
  {
   "cell_type": "code",
   "execution_count": 4,
   "id": "d45f2c6f",
   "metadata": {},
   "outputs": [],
   "source": [
    "%matplotlib inline\n",
    "\n",
    "import numpy as np\n",
    "import pandas as pd\n",
    "import os\n",
    "import io\n",
    "\n",
    "#listing = pd.read_csv(\"C:/Users/Valeria/Downloads/heures.csv\")"
   ]
  },
  {
   "cell_type": "code",
   "execution_count": 13,
   "id": "54e47462",
   "metadata": {},
   "outputs": [
    {
     "name": "stdout",
     "output_type": "stream",
     "text": [
      "123 Flouflou 7.5 7.5 7.8 3.0 5.5\r\n",
      "\n",
      "Flouflou    Code 123   a travaillé   31.30 heures avec une moyenne de    6.26 / jour\n",
      "456 Flouclair 7.0 7.6 6.6 5.9 8.5\r\n",
      "\n",
      "Flouclair   Code 456   a travaillé   35.60 heures avec une moyenne de    7.12 / jour\n",
      "789 Clairclair 8.5 8.0 7.5 5.0 9.5\n",
      "Clairclair  Code 789   a travaillé   38.50 heures avec une moyenne de    7.70 / jour\n"
     ]
    }
   ],
   "source": [
    "#lectura de una linea de archivo como una cadena\n",
    "import csv\n",
    "with open(\"C:/Users/Valeria/Downloads/heures.csv\", newline=\"\\n\") as file: #\\n salto a la linea siguiente a nueva linea en cadena\n",
    "    listing = file.readlines()\n",
    "    for linea in listing:\n",
    "        token = linea.split()\n",
    "        print(linea)\n",
    "        #calculer la suma de las horas\n",
    "        suma = 0\n",
    "        for tmp in token[2:7]:\n",
    "            suma += float(tmp)\n",
    "        print(\"{1:12s}Code {0:5s} a travaillé {2:7.2f} heures avec une \"\n",
    "             \"moyenne de {3:7.2f} / jour\".format(token[0], token[1], suma, suma/5.0))"
   ]
  },
  {
   "cell_type": "code",
   "execution_count": 32,
   "id": "57d8bc09",
   "metadata": {},
   "outputs": [
    {
     "name": "stdout",
     "output_type": "stream",
     "text": [
      "['123 Flouflou 7.5 7.5 7.8 3.0 5.5']\n",
      "['456 Flouclair 7.0 7.6 6.6 5.9 8.5']\n",
      "['789 Clairclair 8.5 8.0 7.5 5.0 9.5']\n"
     ]
    }
   ],
   "source": [
    "import csv\n",
    " \n",
    "with open('C:/Users/Valeria/Downloads/heures.csv') as File:\n",
    "    reader = csv.reader(File, delimiter=',', quotechar=',',\n",
    "                        quoting=csv.QUOTE_MINIMAL)\n",
    "    for row in reader:\n",
    "        print(row)"
   ]
  },
  {
   "cell_type": "markdown",
   "id": "b6288dd2",
   "metadata": {},
   "source": [
    "<h1 style=\"font-size:3rem;color:red;\">Modulo 2 (Bases de datos relacional)</h1>"
   ]
  },
  {
   "cell_type": "markdown",
   "id": "94a626b5",
   "metadata": {},
   "source": [
    "# Ejemplo sqlite3 de internet"
   ]
  },
  {
   "cell_type": "code",
   "execution_count": 22,
   "id": "c692bc72",
   "metadata": {},
   "outputs": [],
   "source": [
    "import sqlite3\n",
    "#creo una conexion de la base de datos\n",
    "con = sqlite3.connect('example.db')\n",
    "cur = con.cursor()"
   ]
  },
  {
   "cell_type": "code",
   "execution_count": 23,
   "id": "828feee7",
   "metadata": {
    "scrolled": true
   },
   "outputs": [
    {
     "ename": "OperationalError",
     "evalue": "table stocks already exists",
     "output_type": "error",
     "traceback": [
      "\u001b[1;31m---------------------------------------------------------------------------\u001b[0m",
      "\u001b[1;31mOperationalError\u001b[0m                          Traceback (most recent call last)",
      "\u001b[1;32m~\\AppData\\Local\\Temp/ipykernel_7392/2059850971.py\u001b[0m in \u001b[0;36m<module>\u001b[1;34m\u001b[0m\n\u001b[0;32m      1\u001b[0m \u001b[1;31m# Create table\u001b[0m\u001b[1;33m\u001b[0m\u001b[1;33m\u001b[0m\u001b[0m\n\u001b[1;32m----> 2\u001b[1;33m cur.execute('''CREATE TABLE stocks\n\u001b[0m\u001b[0;32m      3\u001b[0m                (date text, trans text, symbol text, qty real, price real)''')\n\u001b[0;32m      4\u001b[0m \u001b[1;33m\u001b[0m\u001b[0m\n\u001b[0;32m      5\u001b[0m \u001b[1;31m# Insert a row of data\u001b[0m\u001b[1;33m\u001b[0m\u001b[1;33m\u001b[0m\u001b[0m\n",
      "\u001b[1;31mOperationalError\u001b[0m: table stocks already exists"
     ]
    }
   ],
   "source": [
    "# Create table\n",
    "cur.execute('''CREATE TABLE stocks\n",
    "               (date text, trans text, symbol text, qty real, price real)''')\n",
    "\n",
    "# Insert a row of data\n",
    "cur.execute(\"INSERT INTO stocks VALUES ('2006-01-05','BUY','RHAT',100,35.14)\")\n",
    "\n",
    "# Save (commit) the changes\n",
    "con.commit()\n",
    "\n",
    "# We can also close the connection if we are done with it.\n",
    "# Just be sure any changes have been committed or they will be lost.\n",
    "con.close()"
   ]
  },
  {
   "cell_type": "code",
   "execution_count": 18,
   "id": "c3166090",
   "metadata": {},
   "outputs": [],
   "source": [
    "import sqlite3\n",
    "con = sqlite3.connect('example.db')\n",
    "cur = con.cursor()"
   ]
  },
  {
   "cell_type": "code",
   "execution_count": 19,
   "id": "fe71790a",
   "metadata": {},
   "outputs": [
    {
     "name": "stdout",
     "output_type": "stream",
     "text": [
      "('2006-01-05', 'BUY', 'RHAT', 100.0, 35.14)\n"
     ]
    }
   ],
   "source": [
    " for row in cur.execute('SELECT * FROM stocks ORDER BY price'):\n",
    "        print(row)"
   ]
  },
  {
   "cell_type": "markdown",
   "id": "fc1d85f8",
   "metadata": {},
   "source": [
    "# Ejemplo de clase modulo #2"
   ]
  },
  {
   "cell_type": "code",
   "execution_count": 13,
   "id": "ad1eaddc",
   "metadata": {},
   "outputs": [],
   "source": [
    "import sqlite3\n",
    "con = sqlite3.connect('b_deb.dbf')\n",
    "cur = con.cursor()"
   ]
  },
  {
   "cell_type": "code",
   "execution_count": 14,
   "id": "6185c5b3",
   "metadata": {},
   "outputs": [
    {
     "data": {
      "text/plain": [
       "<sqlite3.Cursor at 0x25a23553420>"
      ]
     },
     "execution_count": 14,
     "metadata": {},
     "output_type": "execute_result"
    }
   ],
   "source": [
    "tb2 = '''create table if not exists employes2\n",
    "(id integer primary key autoincrement, nom text, salario real)'''\n",
    "\n",
    "cur.execute(tb2)"
   ]
  },
  {
   "cell_type": "code",
   "execution_count": 15,
   "id": "66e9de51",
   "metadata": {},
   "outputs": [
    {
     "name": "stdout",
     "output_type": "stream",
     "text": [
      "diga su nombre: jhj\n",
      "diga el salario: 87\n"
     ]
    }
   ],
   "source": [
    "#insertando datos invocando cur\n",
    "nom = input('diga su nombre: ')\n",
    "salario = float(input('diga el salario: '))\n",
    "commande = 'insert into employes2(nom, salario) values(?,?)'\n",
    "cur.execute(commande, [nom, salario])\n",
    "# Save (commit) los cambios y invoco conexion(con)\n",
    "con.commit()\n",
    "#comentario: si ya he creado una base de datos y me da error de columnas y se ha guardado los cambios, \n",
    "#hay que tener cuidado, \n",
    "#es mejor crear otra base de datos y nombre de las tablas al igual el nombre del objeto que guarda mi tabla"
   ]
  },
  {
   "cell_type": "code",
   "execution_count": null,
   "id": "0bd5fce8",
   "metadata": {},
   "outputs": [],
   "source": []
  },
  {
   "cell_type": "code",
   "execution_count": null,
   "id": "a918866b",
   "metadata": {},
   "outputs": [],
   "source": [
    "#si yaestoy segura de haber hecho my management cierro la conexion\n",
    "#con.close()"
   ]
  },
  {
   "cell_type": "code",
   "execution_count": 16,
   "id": "a65ea0cc",
   "metadata": {},
   "outputs": [
    {
     "name": "stdout",
     "output_type": "stream",
     "text": [
      "{'nom': 'Flouflou', 'age': 25}\n"
     ]
    }
   ],
   "source": [
    "class Toto:\n",
    "    def __init__(self, nom, age):\n",
    "        self.nom = nom\n",
    "        self.age = age\n",
    "        \n",
    "obj = Toto(\"Flouflou\", 25)\n",
    "resultat = vars(obj)\n",
    "print(resultat)"
   ]
  },
  {
   "cell_type": "markdown",
   "id": "fc061d65",
   "metadata": {},
   "source": [
    "<h1 style=\"font-size:3rem;color:red;\">Modulo 3(COLEC DATA | EDA | PRETRATAMIENTO</h1>"
   ]
  },
  {
   "cell_type": "code",
   "execution_count": 1,
   "id": "c6b7213b",
   "metadata": {},
   "outputs": [],
   "source": [
    "# usare los datos de Avanquest company para mi analisis\n",
    "%matplotlib inline\n",
    "\n",
    "import numpy as np\n",
    "import pandas as pd\n",
    "import os\n",
    "import io\n",
    "\n",
    "dfc = pd.read_csv(\"C:/Users/Valeria/Desktop/DATA-BI DEVELOPER/customers.csv\")\n",
    "dfp = pd.read_csv(\"C:/Users/Valeria/Desktop/DATA-BI DEVELOPER/products.csv\")\n",
    "dft = pd.read_csv(\"C:/Users/Valeria/Desktop/DATA-BI DEVELOPER/transactions.csv\")"
   ]
  },
  {
   "cell_type": "code",
   "execution_count": 3,
   "id": "245356ad",
   "metadata": {},
   "outputs": [
    {
     "data": {
      "text/html": [
       "<div>\n",
       "<style scoped>\n",
       "    .dataframe tbody tr th:only-of-type {\n",
       "        vertical-align: middle;\n",
       "    }\n",
       "\n",
       "    .dataframe tbody tr th {\n",
       "        vertical-align: top;\n",
       "    }\n",
       "\n",
       "    .dataframe thead th {\n",
       "        text-align: right;\n",
       "    }\n",
       "</style>\n",
       "<table border=\"1\" class=\"dataframe\">\n",
       "  <thead>\n",
       "    <tr style=\"text-align: right;\">\n",
       "      <th></th>\n",
       "      <th>id</th>\n",
       "    </tr>\n",
       "  </thead>\n",
       "  <tbody>\n",
       "    <tr>\n",
       "      <th>count</th>\n",
       "      <td>100000.000000</td>\n",
       "    </tr>\n",
       "    <tr>\n",
       "      <th>mean</th>\n",
       "      <td>50999.500000</td>\n",
       "    </tr>\n",
       "    <tr>\n",
       "      <th>std</th>\n",
       "      <td>28867.657797</td>\n",
       "    </tr>\n",
       "    <tr>\n",
       "      <th>min</th>\n",
       "      <td>1000.000000</td>\n",
       "    </tr>\n",
       "    <tr>\n",
       "      <th>25%</th>\n",
       "      <td>25999.750000</td>\n",
       "    </tr>\n",
       "    <tr>\n",
       "      <th>50%</th>\n",
       "      <td>50999.500000</td>\n",
       "    </tr>\n",
       "    <tr>\n",
       "      <th>75%</th>\n",
       "      <td>75999.250000</td>\n",
       "    </tr>\n",
       "    <tr>\n",
       "      <th>max</th>\n",
       "      <td>100999.000000</td>\n",
       "    </tr>\n",
       "  </tbody>\n",
       "</table>\n",
       "</div>"
      ],
      "text/plain": [
       "                  id\n",
       "count  100000.000000\n",
       "mean    50999.500000\n",
       "std     28867.657797\n",
       "min      1000.000000\n",
       "25%     25999.750000\n",
       "50%     50999.500000\n",
       "75%     75999.250000\n",
       "max    100999.000000"
      ]
     },
     "execution_count": 3,
     "metadata": {},
     "output_type": "execute_result"
    }
   ],
   "source": [
    "dfc.describe()"
   ]
  },
  {
   "cell_type": "code",
   "execution_count": null,
   "id": "c28c5c35",
   "metadata": {},
   "outputs": [],
   "source": [
    "#suprimir un atributo o columna\n",
    "df = df.drop(columns = ['nombre de la columna'], axis = 1) #(axis = 0 fila por fila), (axis = 1 colum por colum) \n",
    "df"
   ]
  },
  {
   "cell_type": "code",
   "execution_count": null,
   "id": "6153b5d7",
   "metadata": {},
   "outputs": [],
   "source": [
    "#suprimir un registro en la fila o Row\n",
    "df = df[df['nombre de la row'] != 160] # elimino una fila donde tiene el valor 160\n",
    "df"
   ]
  },
  {
   "cell_type": "code",
   "execution_count": null,
   "id": "fd3a9b54",
   "metadata": {},
   "outputs": [],
   "source": [
    "# tecnica de enmascaramiento para anonimar por ejemplo el codigo postal de una columna\n",
    "df['code postal'] = df['code postal'].map(lambda x: x[0:2] + \"* ***\")\n",
    "df"
   ]
  },
  {
   "cell_type": "markdown",
   "id": "97504ef5",
   "metadata": {},
   "source": [
    "# EDA ESTAPA DE ANONIMIZACION DE DATOS"
   ]
  },
  {
   "cell_type": "markdown",
   "id": "c5fa2b22",
   "metadata": {},
   "source": [
    "# Ejemplo con 'data_voyage'"
   ]
  },
  {
   "cell_type": "code",
   "execution_count": null,
   "id": "1de9ee60",
   "metadata": {},
   "outputs": [],
   "source": [
    "# # importer la librairie pandas\n",
    "# import pandas as pd\n",
    "# # lectura de archivos de datos\n",
    "# data = pd.read_csv(\"data_voyage.csv\")"
   ]
  },
  {
   "cell_type": "code",
   "execution_count": 4,
   "id": "0e39daf6",
   "metadata": {},
   "outputs": [
    {
     "data": {
      "text/html": [
       "<div>\n",
       "<style scoped>\n",
       "    .dataframe tbody tr th:only-of-type {\n",
       "        vertical-align: middle;\n",
       "    }\n",
       "\n",
       "    .dataframe tbody tr th {\n",
       "        vertical-align: top;\n",
       "    }\n",
       "\n",
       "    .dataframe thead th {\n",
       "        text-align: right;\n",
       "    }\n",
       "</style>\n",
       "<table border=\"1\" class=\"dataframe\">\n",
       "  <thead>\n",
       "    <tr style=\"text-align: right;\">\n",
       "      <th></th>\n",
       "      <th>Nom</th>\n",
       "      <th>Genre</th>\n",
       "      <th>Age</th>\n",
       "      <th>Siege</th>\n",
       "      <th>Ticket</th>\n",
       "      <th>Prix</th>\n",
       "    </tr>\n",
       "  </thead>\n",
       "  <tbody>\n",
       "    <tr>\n",
       "      <th>0</th>\n",
       "      <td>Elina</td>\n",
       "      <td>féminin</td>\n",
       "      <td>24</td>\n",
       "      <td>B106</td>\n",
       "      <td>F12178</td>\n",
       "      <td>475.99</td>\n",
       "    </tr>\n",
       "    <tr>\n",
       "      <th>1</th>\n",
       "      <td>Henry</td>\n",
       "      <td>masculin</td>\n",
       "      <td>7</td>\n",
       "      <td>C217</td>\n",
       "      <td>P03213</td>\n",
       "      <td>219.99</td>\n",
       "    </tr>\n",
       "    <tr>\n",
       "      <th>2</th>\n",
       "      <td>Samuel</td>\n",
       "      <td>masculin</td>\n",
       "      <td>36</td>\n",
       "      <td>C212</td>\n",
       "      <td>P03214</td>\n",
       "      <td>269.99</td>\n",
       "    </tr>\n",
       "    <tr>\n",
       "      <th>3</th>\n",
       "      <td>Olivier</td>\n",
       "      <td>masculin</td>\n",
       "      <td>28</td>\n",
       "      <td>B110</td>\n",
       "      <td>H12165</td>\n",
       "      <td>449.99</td>\n",
       "    </tr>\n",
       "    <tr>\n",
       "      <th>4</th>\n",
       "      <td>Marguerite</td>\n",
       "      <td>féminin</td>\n",
       "      <td>65</td>\n",
       "      <td>A009</td>\n",
       "      <td>01F014</td>\n",
       "      <td>868.99</td>\n",
       "    </tr>\n",
       "    <tr>\n",
       "      <th>5</th>\n",
       "      <td>Joseph</td>\n",
       "      <td>masculin</td>\n",
       "      <td>48</td>\n",
       "      <td>A023</td>\n",
       "      <td>F01048</td>\n",
       "      <td>623.99</td>\n",
       "    </tr>\n",
       "    <tr>\n",
       "      <th>6</th>\n",
       "      <td>Adam</td>\n",
       "      <td>masculin</td>\n",
       "      <td>25</td>\n",
       "      <td>C210</td>\n",
       "      <td>P03276</td>\n",
       "      <td>249.99</td>\n",
       "    </tr>\n",
       "    <tr>\n",
       "      <th>7</th>\n",
       "      <td>Albert</td>\n",
       "      <td>masculin</td>\n",
       "      <td>58</td>\n",
       "      <td>B123</td>\n",
       "      <td>H12180</td>\n",
       "      <td>425.99</td>\n",
       "    </tr>\n",
       "    <tr>\n",
       "      <th>8</th>\n",
       "      <td>Myriam</td>\n",
       "      <td>féminin</td>\n",
       "      <td>42</td>\n",
       "      <td>B132</td>\n",
       "      <td>H12195</td>\n",
       "      <td>412.99</td>\n",
       "    </tr>\n",
       "    <tr>\n",
       "      <th>9</th>\n",
       "      <td>Manda</td>\n",
       "      <td>féminin</td>\n",
       "      <td>18</td>\n",
       "      <td>A027</td>\n",
       "      <td>F01054</td>\n",
       "      <td>599.99</td>\n",
       "    </tr>\n",
       "    <tr>\n",
       "      <th>10</th>\n",
       "      <td>Pierre</td>\n",
       "      <td>masculin</td>\n",
       "      <td>38</td>\n",
       "      <td>A035</td>\n",
       "      <td>F01095</td>\n",
       "      <td>579.99</td>\n",
       "    </tr>\n",
       "  </tbody>\n",
       "</table>\n",
       "</div>"
      ],
      "text/plain": [
       "            Nom     Genre  Age Siege  Ticket    Prix\n",
       "0         Elina   féminin   24  B106  F12178  475.99\n",
       "1         Henry  masculin    7  C217  P03213  219.99\n",
       "2        Samuel  masculin   36  C212  P03214  269.99\n",
       "3       Olivier  masculin   28  B110  H12165  449.99\n",
       "4   Marguerite    féminin   65  A009  01F014  868.99\n",
       "5       Joseph   masculin   48  A023  F01048  623.99\n",
       "6          Adam  masculin   25  C210  P03276  249.99\n",
       "7        Albert  masculin   58  B123  H12180  425.99\n",
       "8        Myriam   féminin   42  B132  H12195  412.99\n",
       "9         Manda   féminin   18  A027  F01054  599.99\n",
       "10       Pierre  masculin   38  A035  F01095  579.99"
      ]
     },
     "execution_count": 4,
     "metadata": {},
     "output_type": "execute_result"
    }
   ],
   "source": [
    "# importer la librairie pandas\n",
    "import pandas as pd\n",
    "# cargar datos contenidos en un csv que se encuantra en el drive\n",
    "URL         = 'https://drive.google.com/file/d/1OsyrafDAXSsrlAGbgi3fT7S1-Aqs5HtC/view?usp=sharing'\n",
    "data_voyage = 'https://drive.google.com/uc?export=download&id='+URL.split('/')[-2]\n",
    "\n",
    "data = pd.read_csv(data_voyage)\n",
    "# creo una copia para no tocar los datos o data frame original. \n",
    "df = data.copy()\n",
    "# mostrar el dataframe\n",
    "df"
   ]
  },
  {
   "cell_type": "code",
   "execution_count": 6,
   "id": "fb9805d1",
   "metadata": {},
   "outputs": [],
   "source": [
    "#display(df)"
   ]
  },
  {
   "cell_type": "markdown",
   "id": "1bc45876",
   "metadata": {},
   "source": [
    "# 1) SUPRIMIR UN ATRIBUTO"
   ]
  },
  {
   "cell_type": "code",
   "execution_count": 8,
   "id": "9a0659c7",
   "metadata": {},
   "outputs": [
    {
     "data": {
      "text/html": [
       "<div>\n",
       "<style scoped>\n",
       "    .dataframe tbody tr th:only-of-type {\n",
       "        vertical-align: middle;\n",
       "    }\n",
       "\n",
       "    .dataframe tbody tr th {\n",
       "        vertical-align: top;\n",
       "    }\n",
       "\n",
       "    .dataframe thead th {\n",
       "        text-align: right;\n",
       "    }\n",
       "</style>\n",
       "<table border=\"1\" class=\"dataframe\">\n",
       "  <thead>\n",
       "    <tr style=\"text-align: right;\">\n",
       "      <th></th>\n",
       "      <th>Nom</th>\n",
       "      <th>Genre</th>\n",
       "      <th>Age</th>\n",
       "      <th>Siege</th>\n",
       "      <th>Ticket</th>\n",
       "      <th>Prix</th>\n",
       "    </tr>\n",
       "  </thead>\n",
       "  <tbody>\n",
       "    <tr>\n",
       "      <th>0</th>\n",
       "      <td>Elina</td>\n",
       "      <td>féminin</td>\n",
       "      <td>24</td>\n",
       "      <td>B106</td>\n",
       "      <td>F12178</td>\n",
       "      <td>475.99</td>\n",
       "    </tr>\n",
       "    <tr>\n",
       "      <th>1</th>\n",
       "      <td>Henry</td>\n",
       "      <td>masculin</td>\n",
       "      <td>7</td>\n",
       "      <td>C217</td>\n",
       "      <td>P03213</td>\n",
       "      <td>219.99</td>\n",
       "    </tr>\n",
       "    <tr>\n",
       "      <th>2</th>\n",
       "      <td>Samuel</td>\n",
       "      <td>masculin</td>\n",
       "      <td>36</td>\n",
       "      <td>C212</td>\n",
       "      <td>P03214</td>\n",
       "      <td>269.99</td>\n",
       "    </tr>\n",
       "    <tr>\n",
       "      <th>3</th>\n",
       "      <td>Olivier</td>\n",
       "      <td>masculin</td>\n",
       "      <td>28</td>\n",
       "      <td>B110</td>\n",
       "      <td>H12165</td>\n",
       "      <td>449.99</td>\n",
       "    </tr>\n",
       "    <tr>\n",
       "      <th>4</th>\n",
       "      <td>Marguerite</td>\n",
       "      <td>féminin</td>\n",
       "      <td>65</td>\n",
       "      <td>A009</td>\n",
       "      <td>01F014</td>\n",
       "      <td>868.99</td>\n",
       "    </tr>\n",
       "    <tr>\n",
       "      <th>5</th>\n",
       "      <td>Joseph</td>\n",
       "      <td>masculin</td>\n",
       "      <td>48</td>\n",
       "      <td>A023</td>\n",
       "      <td>F01048</td>\n",
       "      <td>623.99</td>\n",
       "    </tr>\n",
       "    <tr>\n",
       "      <th>6</th>\n",
       "      <td>Adam</td>\n",
       "      <td>masculin</td>\n",
       "      <td>25</td>\n",
       "      <td>C210</td>\n",
       "      <td>P03276</td>\n",
       "      <td>249.99</td>\n",
       "    </tr>\n",
       "    <tr>\n",
       "      <th>7</th>\n",
       "      <td>Albert</td>\n",
       "      <td>masculin</td>\n",
       "      <td>58</td>\n",
       "      <td>B123</td>\n",
       "      <td>H12180</td>\n",
       "      <td>425.99</td>\n",
       "    </tr>\n",
       "    <tr>\n",
       "      <th>8</th>\n",
       "      <td>Myriam</td>\n",
       "      <td>féminin</td>\n",
       "      <td>42</td>\n",
       "      <td>B132</td>\n",
       "      <td>H12195</td>\n",
       "      <td>412.99</td>\n",
       "    </tr>\n",
       "    <tr>\n",
       "      <th>9</th>\n",
       "      <td>Manda</td>\n",
       "      <td>féminin</td>\n",
       "      <td>18</td>\n",
       "      <td>A027</td>\n",
       "      <td>F01054</td>\n",
       "      <td>599.99</td>\n",
       "    </tr>\n",
       "    <tr>\n",
       "      <th>10</th>\n",
       "      <td>Pierre</td>\n",
       "      <td>masculin</td>\n",
       "      <td>38</td>\n",
       "      <td>A035</td>\n",
       "      <td>F01095</td>\n",
       "      <td>579.99</td>\n",
       "    </tr>\n",
       "  </tbody>\n",
       "</table>\n",
       "</div>"
      ],
      "text/plain": [
       "            Nom     Genre  Age Siege  Ticket    Prix\n",
       "0         Elina   féminin   24  B106  F12178  475.99\n",
       "1         Henry  masculin    7  C217  P03213  219.99\n",
       "2        Samuel  masculin   36  C212  P03214  269.99\n",
       "3       Olivier  masculin   28  B110  H12165  449.99\n",
       "4   Marguerite    féminin   65  A009  01F014  868.99\n",
       "5       Joseph   masculin   48  A023  F01048  623.99\n",
       "6          Adam  masculin   25  C210  P03276  249.99\n",
       "7        Albert  masculin   58  B123  H12180  425.99\n",
       "8        Myriam   féminin   42  B132  H12195  412.99\n",
       "9         Manda   féminin   18  A027  F01054  599.99\n",
       "10       Pierre  masculin   38  A035  F01095  579.99"
      ]
     },
     "execution_count": 8,
     "metadata": {},
     "output_type": "execute_result"
    }
   ],
   "source": [
    "#verificar el archivo dataframe\n",
    "df"
   ]
  },
  {
   "cell_type": "code",
   "execution_count": 13,
   "id": "8fa66a00",
   "metadata": {},
   "outputs": [],
   "source": [
    "#suprimir el atributo o columna 'nom'\n",
    "# Aquí usamos inplace = True, lo que nos evita reasignar todo en un marco de datos\n",
    "df.drop(columns = [\"Nom\"], axis = 1, inplace = True)\n",
    "#verifico si se a eliminado la columa 'nom'\n",
    "df"
   ]
  },
  {
   "cell_type": "markdown",
   "id": "dc1017b8",
   "metadata": {},
   "source": [
    "# 2)TECNICA DE MASCARADA"
   ]
  },
  {
   "cell_type": "code",
   "execution_count": 14,
   "id": "0357ba2d",
   "metadata": {},
   "outputs": [
    {
     "data": {
      "text/html": [
       "<div>\n",
       "<style scoped>\n",
       "    .dataframe tbody tr th:only-of-type {\n",
       "        vertical-align: middle;\n",
       "    }\n",
       "\n",
       "    .dataframe tbody tr th {\n",
       "        vertical-align: top;\n",
       "    }\n",
       "\n",
       "    .dataframe thead th {\n",
       "        text-align: right;\n",
       "    }\n",
       "</style>\n",
       "<table border=\"1\" class=\"dataframe\">\n",
       "  <thead>\n",
       "    <tr style=\"text-align: right;\">\n",
       "      <th></th>\n",
       "      <th>Genre</th>\n",
       "      <th>Age</th>\n",
       "      <th>Siege</th>\n",
       "      <th>Ticket</th>\n",
       "      <th>Prix</th>\n",
       "    </tr>\n",
       "  </thead>\n",
       "  <tbody>\n",
       "    <tr>\n",
       "      <th>0</th>\n",
       "      <td>féminin</td>\n",
       "      <td>24</td>\n",
       "      <td>**06</td>\n",
       "      <td>F12178</td>\n",
       "      <td>475.99</td>\n",
       "    </tr>\n",
       "    <tr>\n",
       "      <th>1</th>\n",
       "      <td>masculin</td>\n",
       "      <td>7</td>\n",
       "      <td>**17</td>\n",
       "      <td>P03213</td>\n",
       "      <td>219.99</td>\n",
       "    </tr>\n",
       "    <tr>\n",
       "      <th>2</th>\n",
       "      <td>masculin</td>\n",
       "      <td>36</td>\n",
       "      <td>**12</td>\n",
       "      <td>P03214</td>\n",
       "      <td>269.99</td>\n",
       "    </tr>\n",
       "    <tr>\n",
       "      <th>3</th>\n",
       "      <td>masculin</td>\n",
       "      <td>28</td>\n",
       "      <td>**10</td>\n",
       "      <td>H12165</td>\n",
       "      <td>449.99</td>\n",
       "    </tr>\n",
       "    <tr>\n",
       "      <th>4</th>\n",
       "      <td>féminin</td>\n",
       "      <td>65</td>\n",
       "      <td>**09</td>\n",
       "      <td>01F014</td>\n",
       "      <td>868.99</td>\n",
       "    </tr>\n",
       "    <tr>\n",
       "      <th>5</th>\n",
       "      <td>masculin</td>\n",
       "      <td>48</td>\n",
       "      <td>**23</td>\n",
       "      <td>F01048</td>\n",
       "      <td>623.99</td>\n",
       "    </tr>\n",
       "    <tr>\n",
       "      <th>6</th>\n",
       "      <td>masculin</td>\n",
       "      <td>25</td>\n",
       "      <td>**10</td>\n",
       "      <td>P03276</td>\n",
       "      <td>249.99</td>\n",
       "    </tr>\n",
       "    <tr>\n",
       "      <th>7</th>\n",
       "      <td>masculin</td>\n",
       "      <td>58</td>\n",
       "      <td>**23</td>\n",
       "      <td>H12180</td>\n",
       "      <td>425.99</td>\n",
       "    </tr>\n",
       "    <tr>\n",
       "      <th>8</th>\n",
       "      <td>féminin</td>\n",
       "      <td>42</td>\n",
       "      <td>**32</td>\n",
       "      <td>H12195</td>\n",
       "      <td>412.99</td>\n",
       "    </tr>\n",
       "    <tr>\n",
       "      <th>9</th>\n",
       "      <td>féminin</td>\n",
       "      <td>18</td>\n",
       "      <td>**27</td>\n",
       "      <td>F01054</td>\n",
       "      <td>599.99</td>\n",
       "    </tr>\n",
       "    <tr>\n",
       "      <th>10</th>\n",
       "      <td>masculin</td>\n",
       "      <td>38</td>\n",
       "      <td>**35</td>\n",
       "      <td>F01095</td>\n",
       "      <td>579.99</td>\n",
       "    </tr>\n",
       "  </tbody>\n",
       "</table>\n",
       "</div>"
      ],
      "text/plain": [
       "       Genre  Age Siege  Ticket    Prix\n",
       "0    féminin   24  **06  F12178  475.99\n",
       "1   masculin    7  **17  P03213  219.99\n",
       "2   masculin   36  **12  P03214  269.99\n",
       "3   masculin   28  **10  H12165  449.99\n",
       "4    féminin   65  **09  01F014  868.99\n",
       "5   masculin   48  **23  F01048  623.99\n",
       "6   masculin   25  **10  P03276  249.99\n",
       "7   masculin   58  **23  H12180  425.99\n",
       "8    féminin   42  **32  H12195  412.99\n",
       "9    féminin   18  **27  F01054  599.99\n",
       "10  masculin   38  **35  F01095  579.99"
      ]
     },
     "execution_count": 14,
     "metadata": {},
     "output_type": "execute_result"
    }
   ],
   "source": [
    "# en la columan 'sige' quiero enmascara en anonimato,solo tomare las dos ultimas cifras ya que las dos primeras se repiten \n",
    "df[\"Siege\"] = df[\"Siege\"].map(lambda x: \"**\" + x[2:])\n",
    "df"
   ]
  },
  {
   "cell_type": "code",
   "execution_count": 15,
   "id": "d2339873",
   "metadata": {},
   "outputs": [
    {
     "data": {
      "text/html": [
       "<div>\n",
       "<style scoped>\n",
       "    .dataframe tbody tr th:only-of-type {\n",
       "        vertical-align: middle;\n",
       "    }\n",
       "\n",
       "    .dataframe tbody tr th {\n",
       "        vertical-align: top;\n",
       "    }\n",
       "\n",
       "    .dataframe thead th {\n",
       "        text-align: right;\n",
       "    }\n",
       "</style>\n",
       "<table border=\"1\" class=\"dataframe\">\n",
       "  <thead>\n",
       "    <tr style=\"text-align: right;\">\n",
       "      <th></th>\n",
       "      <th>Genre</th>\n",
       "      <th>Age</th>\n",
       "      <th>Siege</th>\n",
       "      <th>Ticket</th>\n",
       "      <th>Prix</th>\n",
       "    </tr>\n",
       "  </thead>\n",
       "  <tbody>\n",
       "    <tr>\n",
       "      <th>0</th>\n",
       "      <td>féminin</td>\n",
       "      <td>24</td>\n",
       "      <td>**06</td>\n",
       "      <td>***178</td>\n",
       "      <td>475.99</td>\n",
       "    </tr>\n",
       "    <tr>\n",
       "      <th>1</th>\n",
       "      <td>masculin</td>\n",
       "      <td>7</td>\n",
       "      <td>**17</td>\n",
       "      <td>***213</td>\n",
       "      <td>219.99</td>\n",
       "    </tr>\n",
       "    <tr>\n",
       "      <th>2</th>\n",
       "      <td>masculin</td>\n",
       "      <td>36</td>\n",
       "      <td>**12</td>\n",
       "      <td>***214</td>\n",
       "      <td>269.99</td>\n",
       "    </tr>\n",
       "    <tr>\n",
       "      <th>3</th>\n",
       "      <td>masculin</td>\n",
       "      <td>28</td>\n",
       "      <td>**10</td>\n",
       "      <td>***165</td>\n",
       "      <td>449.99</td>\n",
       "    </tr>\n",
       "    <tr>\n",
       "      <th>4</th>\n",
       "      <td>féminin</td>\n",
       "      <td>65</td>\n",
       "      <td>**09</td>\n",
       "      <td>***014</td>\n",
       "      <td>868.99</td>\n",
       "    </tr>\n",
       "    <tr>\n",
       "      <th>5</th>\n",
       "      <td>masculin</td>\n",
       "      <td>48</td>\n",
       "      <td>**23</td>\n",
       "      <td>***048</td>\n",
       "      <td>623.99</td>\n",
       "    </tr>\n",
       "    <tr>\n",
       "      <th>6</th>\n",
       "      <td>masculin</td>\n",
       "      <td>25</td>\n",
       "      <td>**10</td>\n",
       "      <td>***276</td>\n",
       "      <td>249.99</td>\n",
       "    </tr>\n",
       "    <tr>\n",
       "      <th>7</th>\n",
       "      <td>masculin</td>\n",
       "      <td>58</td>\n",
       "      <td>**23</td>\n",
       "      <td>***180</td>\n",
       "      <td>425.99</td>\n",
       "    </tr>\n",
       "    <tr>\n",
       "      <th>8</th>\n",
       "      <td>féminin</td>\n",
       "      <td>42</td>\n",
       "      <td>**32</td>\n",
       "      <td>***195</td>\n",
       "      <td>412.99</td>\n",
       "    </tr>\n",
       "    <tr>\n",
       "      <th>9</th>\n",
       "      <td>féminin</td>\n",
       "      <td>18</td>\n",
       "      <td>**27</td>\n",
       "      <td>***054</td>\n",
       "      <td>599.99</td>\n",
       "    </tr>\n",
       "    <tr>\n",
       "      <th>10</th>\n",
       "      <td>masculin</td>\n",
       "      <td>38</td>\n",
       "      <td>**35</td>\n",
       "      <td>***095</td>\n",
       "      <td>579.99</td>\n",
       "    </tr>\n",
       "  </tbody>\n",
       "</table>\n",
       "</div>"
      ],
      "text/plain": [
       "       Genre  Age Siege  Ticket    Prix\n",
       "0    féminin   24  **06  ***178  475.99\n",
       "1   masculin    7  **17  ***213  219.99\n",
       "2   masculin   36  **12  ***214  269.99\n",
       "3   masculin   28  **10  ***165  449.99\n",
       "4    féminin   65  **09  ***014  868.99\n",
       "5   masculin   48  **23  ***048  623.99\n",
       "6   masculin   25  **10  ***276  249.99\n",
       "7   masculin   58  **23  ***180  425.99\n",
       "8    féminin   42  **32  ***195  412.99\n",
       "9    féminin   18  **27  ***054  599.99\n",
       "10  masculin   38  **35  ***095  579.99"
      ]
     },
     "execution_count": 15,
     "metadata": {},
     "output_type": "execute_result"
    }
   ],
   "source": [
    "# hago lo mismo para 'Tickets' enmascaro las tres primeras y dejo las tres ultimas \n",
    "df.Ticket = df.Ticket.map(lambda x: \"***\" + x[-3:])\n",
    "df"
   ]
  },
  {
   "cell_type": "markdown",
   "id": "51a16394",
   "metadata": {},
   "source": [
    "# 3)SUPRIMIR UN REGISTRO"
   ]
  },
  {
   "cell_type": "code",
   "execution_count": 16,
   "id": "3f47d1e3",
   "metadata": {},
   "outputs": [],
   "source": [
    "#eliminar las filas que contienen el precio más alto y el precio más bajo.\n",
    "condition = (df[\"Prix\"] != df.Prix.max()) & (df[\"Prix\"] != df.Prix.min())"
   ]
  },
  {
   "cell_type": "code",
   "execution_count": 17,
   "id": "bc9333eb",
   "metadata": {},
   "outputs": [
    {
     "data": {
      "text/html": [
       "<div>\n",
       "<style scoped>\n",
       "    .dataframe tbody tr th:only-of-type {\n",
       "        vertical-align: middle;\n",
       "    }\n",
       "\n",
       "    .dataframe tbody tr th {\n",
       "        vertical-align: top;\n",
       "    }\n",
       "\n",
       "    .dataframe thead th {\n",
       "        text-align: right;\n",
       "    }\n",
       "</style>\n",
       "<table border=\"1\" class=\"dataframe\">\n",
       "  <thead>\n",
       "    <tr style=\"text-align: right;\">\n",
       "      <th></th>\n",
       "      <th>Genre</th>\n",
       "      <th>Age</th>\n",
       "      <th>Siege</th>\n",
       "      <th>Ticket</th>\n",
       "      <th>Prix</th>\n",
       "    </tr>\n",
       "  </thead>\n",
       "  <tbody>\n",
       "    <tr>\n",
       "      <th>0</th>\n",
       "      <td>féminin</td>\n",
       "      <td>24</td>\n",
       "      <td>**06</td>\n",
       "      <td>***178</td>\n",
       "      <td>475.99</td>\n",
       "    </tr>\n",
       "    <tr>\n",
       "      <th>2</th>\n",
       "      <td>masculin</td>\n",
       "      <td>36</td>\n",
       "      <td>**12</td>\n",
       "      <td>***214</td>\n",
       "      <td>269.99</td>\n",
       "    </tr>\n",
       "    <tr>\n",
       "      <th>3</th>\n",
       "      <td>masculin</td>\n",
       "      <td>28</td>\n",
       "      <td>**10</td>\n",
       "      <td>***165</td>\n",
       "      <td>449.99</td>\n",
       "    </tr>\n",
       "    <tr>\n",
       "      <th>5</th>\n",
       "      <td>masculin</td>\n",
       "      <td>48</td>\n",
       "      <td>**23</td>\n",
       "      <td>***048</td>\n",
       "      <td>623.99</td>\n",
       "    </tr>\n",
       "    <tr>\n",
       "      <th>6</th>\n",
       "      <td>masculin</td>\n",
       "      <td>25</td>\n",
       "      <td>**10</td>\n",
       "      <td>***276</td>\n",
       "      <td>249.99</td>\n",
       "    </tr>\n",
       "    <tr>\n",
       "      <th>7</th>\n",
       "      <td>masculin</td>\n",
       "      <td>58</td>\n",
       "      <td>**23</td>\n",
       "      <td>***180</td>\n",
       "      <td>425.99</td>\n",
       "    </tr>\n",
       "    <tr>\n",
       "      <th>8</th>\n",
       "      <td>féminin</td>\n",
       "      <td>42</td>\n",
       "      <td>**32</td>\n",
       "      <td>***195</td>\n",
       "      <td>412.99</td>\n",
       "    </tr>\n",
       "    <tr>\n",
       "      <th>9</th>\n",
       "      <td>féminin</td>\n",
       "      <td>18</td>\n",
       "      <td>**27</td>\n",
       "      <td>***054</td>\n",
       "      <td>599.99</td>\n",
       "    </tr>\n",
       "    <tr>\n",
       "      <th>10</th>\n",
       "      <td>masculin</td>\n",
       "      <td>38</td>\n",
       "      <td>**35</td>\n",
       "      <td>***095</td>\n",
       "      <td>579.99</td>\n",
       "    </tr>\n",
       "  </tbody>\n",
       "</table>\n",
       "</div>"
      ],
      "text/plain": [
       "       Genre  Age Siege  Ticket    Prix\n",
       "0    féminin   24  **06  ***178  475.99\n",
       "2   masculin   36  **12  ***214  269.99\n",
       "3   masculin   28  **10  ***165  449.99\n",
       "5   masculin   48  **23  ***048  623.99\n",
       "6   masculin   25  **10  ***276  249.99\n",
       "7   masculin   58  **23  ***180  425.99\n",
       "8    féminin   42  **32  ***195  412.99\n",
       "9    féminin   18  **27  ***054  599.99\n",
       "10  masculin   38  **35  ***095  579.99"
      ]
     },
     "execution_count": 17,
     "metadata": {},
     "output_type": "execute_result"
    }
   ],
   "source": [
    "# Filtre el marco de datos para mantener solo los elementos que cumplen la condición\n",
    "df = df[condition]\n",
    "df"
   ]
  },
  {
   "cell_type": "code",
   "execution_count": 18,
   "id": "64712439",
   "metadata": {},
   "outputs": [
    {
     "data": {
      "text/html": [
       "<div>\n",
       "<style scoped>\n",
       "    .dataframe tbody tr th:only-of-type {\n",
       "        vertical-align: middle;\n",
       "    }\n",
       "\n",
       "    .dataframe tbody tr th {\n",
       "        vertical-align: top;\n",
       "    }\n",
       "\n",
       "    .dataframe thead th {\n",
       "        text-align: right;\n",
       "    }\n",
       "</style>\n",
       "<table border=\"1\" class=\"dataframe\">\n",
       "  <thead>\n",
       "    <tr style=\"text-align: right;\">\n",
       "      <th></th>\n",
       "      <th>Genre</th>\n",
       "      <th>Age</th>\n",
       "      <th>Siege</th>\n",
       "      <th>Ticket</th>\n",
       "      <th>Prix</th>\n",
       "    </tr>\n",
       "  </thead>\n",
       "  <tbody>\n",
       "    <tr>\n",
       "      <th>0</th>\n",
       "      <td>féminin</td>\n",
       "      <td>24</td>\n",
       "      <td>**06</td>\n",
       "      <td>***178</td>\n",
       "      <td>475.99</td>\n",
       "    </tr>\n",
       "    <tr>\n",
       "      <th>1</th>\n",
       "      <td>masculin</td>\n",
       "      <td>36</td>\n",
       "      <td>**12</td>\n",
       "      <td>***214</td>\n",
       "      <td>269.99</td>\n",
       "    </tr>\n",
       "    <tr>\n",
       "      <th>2</th>\n",
       "      <td>masculin</td>\n",
       "      <td>28</td>\n",
       "      <td>**10</td>\n",
       "      <td>***165</td>\n",
       "      <td>449.99</td>\n",
       "    </tr>\n",
       "    <tr>\n",
       "      <th>3</th>\n",
       "      <td>masculin</td>\n",
       "      <td>48</td>\n",
       "      <td>**23</td>\n",
       "      <td>***048</td>\n",
       "      <td>623.99</td>\n",
       "    </tr>\n",
       "    <tr>\n",
       "      <th>4</th>\n",
       "      <td>masculin</td>\n",
       "      <td>25</td>\n",
       "      <td>**10</td>\n",
       "      <td>***276</td>\n",
       "      <td>249.99</td>\n",
       "    </tr>\n",
       "    <tr>\n",
       "      <th>5</th>\n",
       "      <td>masculin</td>\n",
       "      <td>58</td>\n",
       "      <td>**23</td>\n",
       "      <td>***180</td>\n",
       "      <td>425.99</td>\n",
       "    </tr>\n",
       "    <tr>\n",
       "      <th>6</th>\n",
       "      <td>féminin</td>\n",
       "      <td>42</td>\n",
       "      <td>**32</td>\n",
       "      <td>***195</td>\n",
       "      <td>412.99</td>\n",
       "    </tr>\n",
       "    <tr>\n",
       "      <th>7</th>\n",
       "      <td>féminin</td>\n",
       "      <td>18</td>\n",
       "      <td>**27</td>\n",
       "      <td>***054</td>\n",
       "      <td>599.99</td>\n",
       "    </tr>\n",
       "    <tr>\n",
       "      <th>8</th>\n",
       "      <td>masculin</td>\n",
       "      <td>38</td>\n",
       "      <td>**35</td>\n",
       "      <td>***095</td>\n",
       "      <td>579.99</td>\n",
       "    </tr>\n",
       "  </tbody>\n",
       "</table>\n",
       "</div>"
      ],
      "text/plain": [
       "      Genre  Age Siege  Ticket    Prix\n",
       "0   féminin   24  **06  ***178  475.99\n",
       "1  masculin   36  **12  ***214  269.99\n",
       "2  masculin   28  **10  ***165  449.99\n",
       "3  masculin   48  **23  ***048  623.99\n",
       "4  masculin   25  **10  ***276  249.99\n",
       "5  masculin   58  **23  ***180  425.99\n",
       "6   féminin   42  **32  ***195  412.99\n",
       "7   féminin   18  **27  ***054  599.99\n",
       "8  masculin   38  **35  ***095  579.99"
      ]
     },
     "execution_count": 18,
     "metadata": {},
     "output_type": "execute_result"
    }
   ],
   "source": [
    "#Vemos que la columna index se ha visto afectada, podemos resetearla con el siguiente comando\n",
    "#df.reset_index(drop=True, inplace=True)\n",
    "\n",
    "# reset index\n",
    "df = df.reset_index(drop=True)\n",
    "df"
   ]
  },
  {
   "cell_type": "markdown",
   "id": "3adf555e",
   "metadata": {},
   "source": [
    "# 4)TECNICA DE GENERALIZATION"
   ]
  },
  {
   "cell_type": "code",
   "execution_count": 19,
   "id": "9173b29d",
   "metadata": {},
   "outputs": [],
   "source": [
    "#généralization de el atributo \"Age\"\n",
    "#Définir une fonction que nos servira para catégoriser 'age'\n",
    "def age_bins():\n",
    "    fct = lambda x: \"<18\" if  x < 18 else \"18-30\" if x < 31 else \"31-50\" if x < 51 else \"> 50\"\n",
    "    return fct"
   ]
  },
  {
   "cell_type": "code",
   "execution_count": 20,
   "id": "66c08aa1",
   "metadata": {},
   "outputs": [
    {
     "data": {
      "text/html": [
       "<div>\n",
       "<style scoped>\n",
       "    .dataframe tbody tr th:only-of-type {\n",
       "        vertical-align: middle;\n",
       "    }\n",
       "\n",
       "    .dataframe tbody tr th {\n",
       "        vertical-align: top;\n",
       "    }\n",
       "\n",
       "    .dataframe thead th {\n",
       "        text-align: right;\n",
       "    }\n",
       "</style>\n",
       "<table border=\"1\" class=\"dataframe\">\n",
       "  <thead>\n",
       "    <tr style=\"text-align: right;\">\n",
       "      <th></th>\n",
       "      <th>Genre</th>\n",
       "      <th>Age</th>\n",
       "      <th>Siege</th>\n",
       "      <th>Ticket</th>\n",
       "      <th>Prix</th>\n",
       "      <th>Age_bins</th>\n",
       "    </tr>\n",
       "  </thead>\n",
       "  <tbody>\n",
       "    <tr>\n",
       "      <th>0</th>\n",
       "      <td>féminin</td>\n",
       "      <td>24</td>\n",
       "      <td>**06</td>\n",
       "      <td>***178</td>\n",
       "      <td>475.99</td>\n",
       "      <td>18-30</td>\n",
       "    </tr>\n",
       "    <tr>\n",
       "      <th>1</th>\n",
       "      <td>masculin</td>\n",
       "      <td>36</td>\n",
       "      <td>**12</td>\n",
       "      <td>***214</td>\n",
       "      <td>269.99</td>\n",
       "      <td>31-50</td>\n",
       "    </tr>\n",
       "    <tr>\n",
       "      <th>2</th>\n",
       "      <td>masculin</td>\n",
       "      <td>28</td>\n",
       "      <td>**10</td>\n",
       "      <td>***165</td>\n",
       "      <td>449.99</td>\n",
       "      <td>18-30</td>\n",
       "    </tr>\n",
       "    <tr>\n",
       "      <th>3</th>\n",
       "      <td>masculin</td>\n",
       "      <td>48</td>\n",
       "      <td>**23</td>\n",
       "      <td>***048</td>\n",
       "      <td>623.99</td>\n",
       "      <td>31-50</td>\n",
       "    </tr>\n",
       "    <tr>\n",
       "      <th>4</th>\n",
       "      <td>masculin</td>\n",
       "      <td>25</td>\n",
       "      <td>**10</td>\n",
       "      <td>***276</td>\n",
       "      <td>249.99</td>\n",
       "      <td>18-30</td>\n",
       "    </tr>\n",
       "    <tr>\n",
       "      <th>5</th>\n",
       "      <td>masculin</td>\n",
       "      <td>58</td>\n",
       "      <td>**23</td>\n",
       "      <td>***180</td>\n",
       "      <td>425.99</td>\n",
       "      <td>&gt; 50</td>\n",
       "    </tr>\n",
       "    <tr>\n",
       "      <th>6</th>\n",
       "      <td>féminin</td>\n",
       "      <td>42</td>\n",
       "      <td>**32</td>\n",
       "      <td>***195</td>\n",
       "      <td>412.99</td>\n",
       "      <td>31-50</td>\n",
       "    </tr>\n",
       "    <tr>\n",
       "      <th>7</th>\n",
       "      <td>féminin</td>\n",
       "      <td>18</td>\n",
       "      <td>**27</td>\n",
       "      <td>***054</td>\n",
       "      <td>599.99</td>\n",
       "      <td>18-30</td>\n",
       "    </tr>\n",
       "    <tr>\n",
       "      <th>8</th>\n",
       "      <td>masculin</td>\n",
       "      <td>38</td>\n",
       "      <td>**35</td>\n",
       "      <td>***095</td>\n",
       "      <td>579.99</td>\n",
       "      <td>31-50</td>\n",
       "    </tr>\n",
       "  </tbody>\n",
       "</table>\n",
       "</div>"
      ],
      "text/plain": [
       "      Genre  Age Siege  Ticket    Prix Age_bins\n",
       "0   féminin   24  **06  ***178  475.99    18-30\n",
       "1  masculin   36  **12  ***214  269.99    31-50\n",
       "2  masculin   28  **10  ***165  449.99    18-30\n",
       "3  masculin   48  **23  ***048  623.99    31-50\n",
       "4  masculin   25  **10  ***276  249.99    18-30\n",
       "5  masculin   58  **23  ***180  425.99     > 50\n",
       "6   féminin   42  **32  ***195  412.99    31-50\n",
       "7   féminin   18  **27  ***054  599.99    18-30\n",
       "8  masculin   38  **35  ***095  579.99    31-50"
      ]
     },
     "execution_count": 20,
     "metadata": {},
     "output_type": "execute_result"
    }
   ],
   "source": [
    "# créer une nouvelle série catégorie age\n",
    "df[\"Age_bins\"] = df[\"Age\"].map(age_bins())\n",
    "df"
   ]
  },
  {
   "cell_type": "code",
   "execution_count": 21,
   "id": "397a8b8a",
   "metadata": {},
   "outputs": [
    {
     "data": {
      "text/html": [
       "<div>\n",
       "<style scoped>\n",
       "    .dataframe tbody tr th:only-of-type {\n",
       "        vertical-align: middle;\n",
       "    }\n",
       "\n",
       "    .dataframe tbody tr th {\n",
       "        vertical-align: top;\n",
       "    }\n",
       "\n",
       "    .dataframe thead th {\n",
       "        text-align: right;\n",
       "    }\n",
       "</style>\n",
       "<table border=\"1\" class=\"dataframe\">\n",
       "  <thead>\n",
       "    <tr style=\"text-align: right;\">\n",
       "      <th></th>\n",
       "      <th>Genre</th>\n",
       "      <th>Siege</th>\n",
       "      <th>Ticket</th>\n",
       "      <th>Prix</th>\n",
       "      <th>Age_bins</th>\n",
       "    </tr>\n",
       "  </thead>\n",
       "  <tbody>\n",
       "    <tr>\n",
       "      <th>0</th>\n",
       "      <td>féminin</td>\n",
       "      <td>**06</td>\n",
       "      <td>***178</td>\n",
       "      <td>475.99</td>\n",
       "      <td>18-30</td>\n",
       "    </tr>\n",
       "    <tr>\n",
       "      <th>1</th>\n",
       "      <td>masculin</td>\n",
       "      <td>**12</td>\n",
       "      <td>***214</td>\n",
       "      <td>269.99</td>\n",
       "      <td>31-50</td>\n",
       "    </tr>\n",
       "    <tr>\n",
       "      <th>2</th>\n",
       "      <td>masculin</td>\n",
       "      <td>**10</td>\n",
       "      <td>***165</td>\n",
       "      <td>449.99</td>\n",
       "      <td>18-30</td>\n",
       "    </tr>\n",
       "    <tr>\n",
       "      <th>3</th>\n",
       "      <td>masculin</td>\n",
       "      <td>**23</td>\n",
       "      <td>***048</td>\n",
       "      <td>623.99</td>\n",
       "      <td>31-50</td>\n",
       "    </tr>\n",
       "    <tr>\n",
       "      <th>4</th>\n",
       "      <td>masculin</td>\n",
       "      <td>**10</td>\n",
       "      <td>***276</td>\n",
       "      <td>249.99</td>\n",
       "      <td>18-30</td>\n",
       "    </tr>\n",
       "    <tr>\n",
       "      <th>5</th>\n",
       "      <td>masculin</td>\n",
       "      <td>**23</td>\n",
       "      <td>***180</td>\n",
       "      <td>425.99</td>\n",
       "      <td>&gt; 50</td>\n",
       "    </tr>\n",
       "    <tr>\n",
       "      <th>6</th>\n",
       "      <td>féminin</td>\n",
       "      <td>**32</td>\n",
       "      <td>***195</td>\n",
       "      <td>412.99</td>\n",
       "      <td>31-50</td>\n",
       "    </tr>\n",
       "    <tr>\n",
       "      <th>7</th>\n",
       "      <td>féminin</td>\n",
       "      <td>**27</td>\n",
       "      <td>***054</td>\n",
       "      <td>599.99</td>\n",
       "      <td>18-30</td>\n",
       "    </tr>\n",
       "    <tr>\n",
       "      <th>8</th>\n",
       "      <td>masculin</td>\n",
       "      <td>**35</td>\n",
       "      <td>***095</td>\n",
       "      <td>579.99</td>\n",
       "      <td>31-50</td>\n",
       "    </tr>\n",
       "  </tbody>\n",
       "</table>\n",
       "</div>"
      ],
      "text/plain": [
       "      Genre Siege  Ticket    Prix Age_bins\n",
       "0   féminin  **06  ***178  475.99    18-30\n",
       "1  masculin  **12  ***214  269.99    31-50\n",
       "2  masculin  **10  ***165  449.99    18-30\n",
       "3  masculin  **23  ***048  623.99    31-50\n",
       "4  masculin  **10  ***276  249.99    18-30\n",
       "5  masculin  **23  ***180  425.99     > 50\n",
       "6   féminin  **32  ***195  412.99    31-50\n",
       "7   féminin  **27  ***054  599.99    18-30\n",
       "8  masculin  **35  ***095  579.99    31-50"
      ]
     },
     "execution_count": 21,
     "metadata": {},
     "output_type": "execute_result"
    }
   ],
   "source": [
    "#La función map tomará cada valor de la serie Age y lo pasará a nuestra función age_bins que nos devuelve la categoría según \n",
    "#la condición previamente establecida.\n",
    "#Entonces podemos eliminar la serie Age\n",
    "# supprimer la série âge\n",
    "df.drop(columns = [\"Age\"], axis = 1, inplace = True)\n",
    "df"
   ]
  },
  {
   "cell_type": "code",
   "execution_count": 22,
   "id": "743642b8",
   "metadata": {},
   "outputs": [
    {
     "name": "stdout",
     "output_type": "stream",
     "text": [
      "<class 'pandas.core.frame.DataFrame'>\n",
      "RangeIndex: 9 entries, 0 to 8\n",
      "Data columns (total 5 columns):\n",
      " #   Column    Non-Null Count  Dtype  \n",
      "---  ------    --------------  -----  \n",
      " 0   Genre     9 non-null      object \n",
      " 1   Siege     9 non-null      object \n",
      " 2   Ticket    9 non-null      object \n",
      " 3   Prix      9 non-null      float64\n",
      " 4   Age_bins  9 non-null      object \n",
      "dtypes: float64(1), object(4)\n",
      "memory usage: 488.0+ bytes\n"
     ]
    }
   ],
   "source": [
    "df.info()"
   ]
  },
  {
   "cell_type": "markdown",
   "id": "c0fe94fe",
   "metadata": {},
   "source": [
    "# Etapa de transformacion "
   ]
  },
  {
   "cell_type": "markdown",
   "id": "4c78c013",
   "metadata": {},
   "source": [
    "# Ejemplo con 'data_maison'"
   ]
  },
  {
   "cell_type": "code",
   "execution_count": 23,
   "id": "494aa69f",
   "metadata": {},
   "outputs": [
    {
     "data": {
      "text/html": [
       "<div>\n",
       "<style scoped>\n",
       "    .dataframe tbody tr th:only-of-type {\n",
       "        vertical-align: middle;\n",
       "    }\n",
       "\n",
       "    .dataframe tbody tr th {\n",
       "        vertical-align: top;\n",
       "    }\n",
       "\n",
       "    .dataframe thead th {\n",
       "        text-align: right;\n",
       "    }\n",
       "</style>\n",
       "<table border=\"1\" class=\"dataframe\">\n",
       "  <thead>\n",
       "    <tr style=\"text-align: right;\">\n",
       "      <th></th>\n",
       "      <th>Nbr_chambre</th>\n",
       "      <th>Surface</th>\n",
       "      <th>Code_postal</th>\n",
       "      <th>Date_achat</th>\n",
       "      <th>Prix</th>\n",
       "    </tr>\n",
       "  </thead>\n",
       "  <tbody>\n",
       "    <tr>\n",
       "      <th>0</th>\n",
       "      <td>4</td>\n",
       "      <td>296.515426</td>\n",
       "      <td>H4N 7Y1</td>\n",
       "      <td>2019/3/27</td>\n",
       "      <td>378117.855776</td>\n",
       "    </tr>\n",
       "    <tr>\n",
       "      <th>1</th>\n",
       "      <td>3</td>\n",
       "      <td>304.989454</td>\n",
       "      <td>H9E 5S2</td>\n",
       "      <td>2018/5/18</td>\n",
       "      <td>401613.977023</td>\n",
       "    </tr>\n",
       "    <tr>\n",
       "      <th>2</th>\n",
       "      <td>5</td>\n",
       "      <td>300.448827</td>\n",
       "      <td>H5D 4G6</td>\n",
       "      <td>2020/3/17</td>\n",
       "      <td>409934.827089</td>\n",
       "    </tr>\n",
       "    <tr>\n",
       "      <th>3</th>\n",
       "      <td>4</td>\n",
       "      <td>300.089579</td>\n",
       "      <td>H8O 9Q7</td>\n",
       "      <td>2020/9/6</td>\n",
       "      <td>402694.602164</td>\n",
       "    </tr>\n",
       "    <tr>\n",
       "      <th>4</th>\n",
       "      <td>5</td>\n",
       "      <td>300.388223</td>\n",
       "      <td>H4U 8K6</td>\n",
       "      <td>2018/10/7</td>\n",
       "      <td>409936.521220</td>\n",
       "    </tr>\n",
       "    <tr>\n",
       "      <th>...</th>\n",
       "      <td>...</td>\n",
       "      <td>...</td>\n",
       "      <td>...</td>\n",
       "      <td>...</td>\n",
       "      <td>...</td>\n",
       "    </tr>\n",
       "    <tr>\n",
       "      <th>4995</th>\n",
       "      <td>4</td>\n",
       "      <td>300.119667</td>\n",
       "      <td>H8D 7B6</td>\n",
       "      <td>2018/5/25</td>\n",
       "      <td>406136.697548</td>\n",
       "    </tr>\n",
       "    <tr>\n",
       "      <th>4996</th>\n",
       "      <td>3</td>\n",
       "      <td>300.688119</td>\n",
       "      <td>H4H 3R3</td>\n",
       "      <td>2019/2/24</td>\n",
       "      <td>434757.932344</td>\n",
       "    </tr>\n",
       "    <tr>\n",
       "      <th>4997</th>\n",
       "      <td>3</td>\n",
       "      <td>298.462308</td>\n",
       "      <td>H7O 6Y1</td>\n",
       "      <td>2020/6/21</td>\n",
       "      <td>364130.487683</td>\n",
       "    </tr>\n",
       "    <tr>\n",
       "      <th>4998</th>\n",
       "      <td>3</td>\n",
       "      <td>300.376408</td>\n",
       "      <td>H4Y 5E0</td>\n",
       "      <td>2017/9/13</td>\n",
       "      <td>426915.362496</td>\n",
       "    </tr>\n",
       "    <tr>\n",
       "      <th>4999</th>\n",
       "      <td>5</td>\n",
       "      <td>301.243632</td>\n",
       "      <td>H9Z 4T0</td>\n",
       "      <td>2017/8/25</td>\n",
       "      <td>409680.886748</td>\n",
       "    </tr>\n",
       "  </tbody>\n",
       "</table>\n",
       "<p>5000 rows × 5 columns</p>\n",
       "</div>"
      ],
      "text/plain": [
       "      Nbr_chambre     Surface Code_postal Date_achat           Prix\n",
       "0               4  296.515426     H4N 7Y1  2019/3/27  378117.855776\n",
       "1               3  304.989454     H9E 5S2  2018/5/18  401613.977023\n",
       "2               5  300.448827     H5D 4G6  2020/3/17  409934.827089\n",
       "3               4  300.089579     H8O 9Q7   2020/9/6  402694.602164\n",
       "4               5  300.388223     H4U 8K6  2018/10/7  409936.521220\n",
       "...           ...         ...         ...        ...            ...\n",
       "4995            4  300.119667     H8D 7B6  2018/5/25  406136.697548\n",
       "4996            3  300.688119     H4H 3R3  2019/2/24  434757.932344\n",
       "4997            3  298.462308     H7O 6Y1  2020/6/21  364130.487683\n",
       "4998            3  300.376408     H4Y 5E0  2017/9/13  426915.362496\n",
       "4999            5  301.243632     H9Z 4T0  2017/8/25  409680.886748\n",
       "\n",
       "[5000 rows x 5 columns]"
      ]
     },
     "execution_count": 23,
     "metadata": {},
     "output_type": "execute_result"
    }
   ],
   "source": [
    "# importer la librairie pandas\n",
    "import pandas as pd\n",
    "\n",
    "# cargar datos contenidos en un csv que se encuantra en el drive\n",
    "URL = 'https://drive.google.com/file/d/1Yiweu8kN0SsAlOayzQJ6O_BijtJkD5CL/view?usp=sharing'\n",
    "fichier_maison = 'https://drive.google.com/uc?export=download&id='+URL.split('/')[-2]\n",
    "data = pd.read_csv(fichier_maison)\n",
    "\n",
    "# creo una copia para no tocar los datos o data frame original. \n",
    "df = data.copy()\n",
    "\n",
    "# mostrar el dataframe\n",
    "df"
   ]
  },
  {
   "cell_type": "code",
   "execution_count": 24,
   "id": "f6e20317",
   "metadata": {},
   "outputs": [
    {
     "data": {
      "text/html": [
       "<div>\n",
       "<style scoped>\n",
       "    .dataframe tbody tr th:only-of-type {\n",
       "        vertical-align: middle;\n",
       "    }\n",
       "\n",
       "    .dataframe tbody tr th {\n",
       "        vertical-align: top;\n",
       "    }\n",
       "\n",
       "    .dataframe thead th {\n",
       "        text-align: right;\n",
       "    }\n",
       "</style>\n",
       "<table border=\"1\" class=\"dataframe\">\n",
       "  <thead>\n",
       "    <tr style=\"text-align: right;\">\n",
       "      <th></th>\n",
       "      <th>Nbr_chambre</th>\n",
       "      <th>Surface</th>\n",
       "      <th>Code_postal</th>\n",
       "      <th>Date_achat</th>\n",
       "      <th>Prix</th>\n",
       "    </tr>\n",
       "  </thead>\n",
       "  <tbody>\n",
       "    <tr>\n",
       "      <th>0</th>\n",
       "      <td>4</td>\n",
       "      <td>296.515426</td>\n",
       "      <td>H4N 7Y1</td>\n",
       "      <td>2019/3/27</td>\n",
       "      <td>378117.855776</td>\n",
       "    </tr>\n",
       "    <tr>\n",
       "      <th>1</th>\n",
       "      <td>3</td>\n",
       "      <td>304.989454</td>\n",
       "      <td>H9E 5S2</td>\n",
       "      <td>2018/5/18</td>\n",
       "      <td>401613.977023</td>\n",
       "    </tr>\n",
       "    <tr>\n",
       "      <th>2</th>\n",
       "      <td>5</td>\n",
       "      <td>300.448827</td>\n",
       "      <td>H5D 4G6</td>\n",
       "      <td>2020/3/17</td>\n",
       "      <td>409934.827089</td>\n",
       "    </tr>\n",
       "    <tr>\n",
       "      <th>3</th>\n",
       "      <td>4</td>\n",
       "      <td>300.089579</td>\n",
       "      <td>H8O 9Q7</td>\n",
       "      <td>2020/9/6</td>\n",
       "      <td>402694.602164</td>\n",
       "    </tr>\n",
       "    <tr>\n",
       "      <th>4</th>\n",
       "      <td>5</td>\n",
       "      <td>300.388223</td>\n",
       "      <td>H4U 8K6</td>\n",
       "      <td>2018/10/7</td>\n",
       "      <td>409936.521220</td>\n",
       "    </tr>\n",
       "  </tbody>\n",
       "</table>\n",
       "</div>"
      ],
      "text/plain": [
       "   Nbr_chambre     Surface Code_postal Date_achat           Prix\n",
       "0            4  296.515426     H4N 7Y1  2019/3/27  378117.855776\n",
       "1            3  304.989454     H9E 5S2  2018/5/18  401613.977023\n",
       "2            5  300.448827     H5D 4G6  2020/3/17  409934.827089\n",
       "3            4  300.089579     H8O 9Q7   2020/9/6  402694.602164\n",
       "4            5  300.388223     H4U 8K6  2018/10/7  409936.521220"
      ]
     },
     "execution_count": 24,
     "metadata": {},
     "output_type": "execute_result"
    }
   ],
   "source": [
    "df.head(5)"
   ]
  },
  {
   "cell_type": "markdown",
   "id": "7bd92689",
   "metadata": {},
   "source": [
    "# 1) Convercion de type"
   ]
  },
  {
   "cell_type": "code",
   "execution_count": 25,
   "id": "32440466",
   "metadata": {},
   "outputs": [
    {
     "data": {
      "text/plain": [
       "Nbr_chambre      int64\n",
       "Surface        float64\n",
       "Code_postal     object\n",
       "Date_achat      object\n",
       "Prix           float64\n",
       "dtype: object"
      ]
     },
     "execution_count": 25,
     "metadata": {},
     "output_type": "execute_result"
    }
   ],
   "source": [
    "#verificar el typo de datos\n",
    "df.dtypes"
   ]
  },
  {
   "cell_type": "code",
   "execution_count": 27,
   "id": "60344da2",
   "metadata": {},
   "outputs": [
    {
     "data": {
      "text/html": [
       "<div>\n",
       "<style scoped>\n",
       "    .dataframe tbody tr th:only-of-type {\n",
       "        vertical-align: middle;\n",
       "    }\n",
       "\n",
       "    .dataframe tbody tr th {\n",
       "        vertical-align: top;\n",
       "    }\n",
       "\n",
       "    .dataframe thead th {\n",
       "        text-align: right;\n",
       "    }\n",
       "</style>\n",
       "<table border=\"1\" class=\"dataframe\">\n",
       "  <thead>\n",
       "    <tr style=\"text-align: right;\">\n",
       "      <th></th>\n",
       "      <th>Nbr_chambre</th>\n",
       "      <th>Surface</th>\n",
       "      <th>Code_postal</th>\n",
       "      <th>Date_achat</th>\n",
       "      <th>Prix</th>\n",
       "    </tr>\n",
       "  </thead>\n",
       "  <tbody>\n",
       "    <tr>\n",
       "      <th>0</th>\n",
       "      <td>4</td>\n",
       "      <td>296.515426</td>\n",
       "      <td>H4N 7Y1</td>\n",
       "      <td>2019-03-27</td>\n",
       "      <td>378117.855776</td>\n",
       "    </tr>\n",
       "    <tr>\n",
       "      <th>1</th>\n",
       "      <td>3</td>\n",
       "      <td>304.989454</td>\n",
       "      <td>H9E 5S2</td>\n",
       "      <td>2018-05-18</td>\n",
       "      <td>401613.977023</td>\n",
       "    </tr>\n",
       "    <tr>\n",
       "      <th>2</th>\n",
       "      <td>5</td>\n",
       "      <td>300.448827</td>\n",
       "      <td>H5D 4G6</td>\n",
       "      <td>2020-03-17</td>\n",
       "      <td>409934.827089</td>\n",
       "    </tr>\n",
       "    <tr>\n",
       "      <th>3</th>\n",
       "      <td>4</td>\n",
       "      <td>300.089579</td>\n",
       "      <td>H8O 9Q7</td>\n",
       "      <td>2020-09-06</td>\n",
       "      <td>402694.602164</td>\n",
       "    </tr>\n",
       "    <tr>\n",
       "      <th>4</th>\n",
       "      <td>5</td>\n",
       "      <td>300.388223</td>\n",
       "      <td>H4U 8K6</td>\n",
       "      <td>2018-10-07</td>\n",
       "      <td>409936.521220</td>\n",
       "    </tr>\n",
       "    <tr>\n",
       "      <th>...</th>\n",
       "      <td>...</td>\n",
       "      <td>...</td>\n",
       "      <td>...</td>\n",
       "      <td>...</td>\n",
       "      <td>...</td>\n",
       "    </tr>\n",
       "    <tr>\n",
       "      <th>4995</th>\n",
       "      <td>4</td>\n",
       "      <td>300.119667</td>\n",
       "      <td>H8D 7B6</td>\n",
       "      <td>2018-05-25</td>\n",
       "      <td>406136.697548</td>\n",
       "    </tr>\n",
       "    <tr>\n",
       "      <th>4996</th>\n",
       "      <td>3</td>\n",
       "      <td>300.688119</td>\n",
       "      <td>H4H 3R3</td>\n",
       "      <td>2019-02-24</td>\n",
       "      <td>434757.932344</td>\n",
       "    </tr>\n",
       "    <tr>\n",
       "      <th>4997</th>\n",
       "      <td>3</td>\n",
       "      <td>298.462308</td>\n",
       "      <td>H7O 6Y1</td>\n",
       "      <td>2020-06-21</td>\n",
       "      <td>364130.487683</td>\n",
       "    </tr>\n",
       "    <tr>\n",
       "      <th>4998</th>\n",
       "      <td>3</td>\n",
       "      <td>300.376408</td>\n",
       "      <td>H4Y 5E0</td>\n",
       "      <td>2017-09-13</td>\n",
       "      <td>426915.362496</td>\n",
       "    </tr>\n",
       "    <tr>\n",
       "      <th>4999</th>\n",
       "      <td>5</td>\n",
       "      <td>301.243632</td>\n",
       "      <td>H9Z 4T0</td>\n",
       "      <td>2017-08-25</td>\n",
       "      <td>409680.886748</td>\n",
       "    </tr>\n",
       "  </tbody>\n",
       "</table>\n",
       "<p>5000 rows × 5 columns</p>\n",
       "</div>"
      ],
      "text/plain": [
       "      Nbr_chambre     Surface Code_postal Date_achat           Prix\n",
       "0               4  296.515426     H4N 7Y1 2019-03-27  378117.855776\n",
       "1               3  304.989454     H9E 5S2 2018-05-18  401613.977023\n",
       "2               5  300.448827     H5D 4G6 2020-03-17  409934.827089\n",
       "3               4  300.089579     H8O 9Q7 2020-09-06  402694.602164\n",
       "4               5  300.388223     H4U 8K6 2018-10-07  409936.521220\n",
       "...           ...         ...         ...        ...            ...\n",
       "4995            4  300.119667     H8D 7B6 2018-05-25  406136.697548\n",
       "4996            3  300.688119     H4H 3R3 2019-02-24  434757.932344\n",
       "4997            3  298.462308     H7O 6Y1 2020-06-21  364130.487683\n",
       "4998            3  300.376408     H4Y 5E0 2017-09-13  426915.362496\n",
       "4999            5  301.243632     H9Z 4T0 2017-08-25  409680.886748\n",
       "\n",
       "[5000 rows x 5 columns]"
      ]
     },
     "execution_count": 27,
     "metadata": {},
     "output_type": "execute_result"
    }
   ],
   "source": [
    "# El typo de dato de la fecha no esta en su correcto formato de date.indico primero la columna = pd para datatime\n",
    "df[\"Date_achat\"] = pd.to_datetime(df.Date_achat, format = \"%Y-%m-%d\")\n",
    "df"
   ]
  },
  {
   "cell_type": "code",
   "execution_count": 29,
   "id": "cd3322f8",
   "metadata": {},
   "outputs": [
    {
     "data": {
      "text/plain": [
       "Nbr_chambre             int64\n",
       "Surface               float64\n",
       "Code_postal            object\n",
       "Date_achat     datetime64[ns]\n",
       "Prix                  float64\n",
       "dtype: object"
      ]
     },
     "execution_count": 29,
     "metadata": {},
     "output_type": "execute_result"
    }
   ],
   "source": [
    "df.dtypes"
   ]
  },
  {
   "cell_type": "markdown",
   "id": "ceac86ef",
   "metadata": {},
   "source": [
    "# 2) Valores extremos"
   ]
  },
  {
   "cell_type": "code",
   "execution_count": 30,
   "id": "9a1658bb",
   "metadata": {},
   "outputs": [],
   "source": [
    "import matplotlib.pyplot as plt  #libreria para diagramas \n",
    "import seaborn as sns\n",
    "\n",
    "# Pour Ignorer les warnings :\n",
    "import warnings\n",
    "warnings.filterwarnings('ignore')"
   ]
  },
  {
   "cell_type": "code",
   "execution_count": 31,
   "id": "4609f569",
   "metadata": {},
   "outputs": [
    {
     "data": {
      "image/png": "[encoded data removed]",
      "text/plain": [
       "<Figure size 720x480 with 2 Axes>"
      ]
     },
     "metadata": {
      "needs_background": "light"
     },
     "output_type": "display_data"
    },
    {
     "data": {
      "image/png": "[encoded data removed]",
      "text/plain": [
       "<Figure size 720x480 with 2 Axes>"
      ]
     },
     "metadata": {
      "needs_background": "light"
     },
     "output_type": "display_data"
    }
   ],
   "source": [
    "for col in df[[\"Surface\", \"Prix\"]]:\n",
    "#arreglo el tamano de la figura\n",
    "    plt.figure(figsize=(6, 4), dpi = 120)\n",
    "#indique la division del plot: 2 lineas, 2 columnas, 1er plot (izquierda)\n",
    "    plt.subplot(2,2,1)\n",
    "#trazar la distribucion\n",
    "    sns.distplot(df[col])\n",
    "#indico la divicion del plot: 2 lineas, 2 columnas, 2do plot (derecha)\n",
    "    plt.subplot(2,2,2)\n",
    "#trazar el diagrama de caja\n",
    "    sns.boxplot(data = df, x = col)\n",
    "    plt.tight_layout()\n",
    "    plt.draw()"
   ]
  },
  {
   "cell_type": "code",
   "execution_count": 32,
   "id": "da6a8f22",
   "metadata": {},
   "outputs": [],
   "source": [
    "#Nota: debo aplicar esta ecuacion para fltro\n",
    "\n",
    "#Según la regla de Tukey, un valor se considera extremo si se encuentra fuera del intervalo\n",
    "#[ Q1 - (1.5 IQR), Q3 + (1.5 IQR) ]\n",
    "\n",
    "#Dónde:\n",
    "#Q1, Q3 son respectivamente el primer y tercer cuartil\n",
    "#IQR: rango intercuartílico"
   ]
  },
  {
   "cell_type": "markdown",
   "id": "f87c5f3b",
   "metadata": {},
   "source": [
    "# creo un filtro para recuperar los valores extremos"
   ]
  },
  {
   "cell_type": "code",
   "execution_count": 33,
   "id": "cd1d25c5",
   "metadata": {},
   "outputs": [],
   "source": [
    "# créer une fonction qui prend une série du dataframe en entrée \n",
    "# et retourne le dataframe avec les lignes contenants les valeurs extremes \n",
    "def get_outliers(df_serie):\n",
    "    Q1 = df_serie.quantile(0.25)\n",
    "    Q3 = df_serie.quantile(0.75)\n",
    "    \n",
    "    #IQR: interquartile range\n",
    "    IQR = Q3 - Q1\n",
    "#[ Q1 - (1.5 IQR), Q3 + (1.5 IQR) ]\n",
    "    myfilter = (df_serie < Q1 - 1.5 * IQR) | (df_serie > Q3 + 1.5 *IQR)\n",
    "    \n",
    "    return df[myfilter] "
   ]
  },
  {
   "cell_type": "code",
   "execution_count": 34,
   "id": "de1ea670",
   "metadata": {},
   "outputs": [
    {
     "data": {
      "text/html": [
       "<div>\n",
       "<style scoped>\n",
       "    .dataframe tbody tr th:only-of-type {\n",
       "        vertical-align: middle;\n",
       "    }\n",
       "\n",
       "    .dataframe tbody tr th {\n",
       "        vertical-align: top;\n",
       "    }\n",
       "\n",
       "    .dataframe thead th {\n",
       "        text-align: right;\n",
       "    }\n",
       "</style>\n",
       "<table border=\"1\" class=\"dataframe\">\n",
       "  <thead>\n",
       "    <tr style=\"text-align: right;\">\n",
       "      <th></th>\n",
       "      <th>Nbr_chambre</th>\n",
       "      <th>Surface</th>\n",
       "      <th>Code_postal</th>\n",
       "      <th>Date_achat</th>\n",
       "      <th>Prix</th>\n",
       "    </tr>\n",
       "  </thead>\n",
       "  <tbody>\n",
       "    <tr>\n",
       "      <th>175</th>\n",
       "      <td>3</td>\n",
       "      <td>290.988793</td>\n",
       "      <td>H8B 1E1</td>\n",
       "      <td>2020-10-14</td>\n",
       "      <td>391872.067856</td>\n",
       "    </tr>\n",
       "    <tr>\n",
       "      <th>187</th>\n",
       "      <td>5</td>\n",
       "      <td>292.133724</td>\n",
       "      <td>H5C 2Z0</td>\n",
       "      <td>2019-09-03</td>\n",
       "      <td>412456.682189</td>\n",
       "    </tr>\n",
       "    <tr>\n",
       "      <th>375</th>\n",
       "      <td>3</td>\n",
       "      <td>291.936083</td>\n",
       "      <td>H5H 8P3</td>\n",
       "      <td>2017-05-27</td>\n",
       "      <td>353580.308188</td>\n",
       "    </tr>\n",
       "    <tr>\n",
       "      <th>389</th>\n",
       "      <td>3</td>\n",
       "      <td>308.379761</td>\n",
       "      <td>H8B 2V6</td>\n",
       "      <td>2018-08-06</td>\n",
       "      <td>407486.672583</td>\n",
       "    </tr>\n",
       "    <tr>\n",
       "      <th>408</th>\n",
       "      <td>3</td>\n",
       "      <td>308.245791</td>\n",
       "      <td>H7J 2H8</td>\n",
       "      <td>2018-10-07</td>\n",
       "      <td>436916.623447</td>\n",
       "    </tr>\n",
       "    <tr>\n",
       "      <th>754</th>\n",
       "      <td>5</td>\n",
       "      <td>308.787414</td>\n",
       "      <td>H0P 2M4</td>\n",
       "      <td>2018-05-19</td>\n",
       "      <td>406905.191996</td>\n",
       "    </tr>\n",
       "    <tr>\n",
       "      <th>799</th>\n",
       "      <td>5</td>\n",
       "      <td>290.167950</td>\n",
       "      <td>H5M 3L4</td>\n",
       "      <td>2017-03-06</td>\n",
       "      <td>392060.817229</td>\n",
       "    </tr>\n",
       "    <tr>\n",
       "      <th>952</th>\n",
       "      <td>3</td>\n",
       "      <td>309.820060</td>\n",
       "      <td>H8E 0F8</td>\n",
       "      <td>2018-01-17</td>\n",
       "      <td>390967.803346</td>\n",
       "    </tr>\n",
       "    <tr>\n",
       "      <th>1200</th>\n",
       "      <td>4</td>\n",
       "      <td>308.729897</td>\n",
       "      <td>H8H 0F9</td>\n",
       "      <td>2019-11-12</td>\n",
       "      <td>408190.547050</td>\n",
       "    </tr>\n",
       "    <tr>\n",
       "      <th>1204</th>\n",
       "      <td>3</td>\n",
       "      <td>308.591576</td>\n",
       "      <td>H8A 9K2</td>\n",
       "      <td>2017-06-04</td>\n",
       "      <td>369018.436443</td>\n",
       "    </tr>\n",
       "    <tr>\n",
       "      <th>1395</th>\n",
       "      <td>5</td>\n",
       "      <td>309.360892</td>\n",
       "      <td>H3A 7E8</td>\n",
       "      <td>2018-01-17</td>\n",
       "      <td>393323.850268</td>\n",
       "    </tr>\n",
       "    <tr>\n",
       "      <th>1555</th>\n",
       "      <td>4</td>\n",
       "      <td>291.342684</td>\n",
       "      <td>H4W 3V0</td>\n",
       "      <td>2018-02-02</td>\n",
       "      <td>406447.049946</td>\n",
       "    </tr>\n",
       "    <tr>\n",
       "      <th>1574</th>\n",
       "      <td>3</td>\n",
       "      <td>291.682650</td>\n",
       "      <td>H5G 0B2</td>\n",
       "      <td>2017-07-27</td>\n",
       "      <td>416495.318121</td>\n",
       "    </tr>\n",
       "    <tr>\n",
       "      <th>1582</th>\n",
       "      <td>5</td>\n",
       "      <td>312.760706</td>\n",
       "      <td>H9R 9E9</td>\n",
       "      <td>2017-09-14</td>\n",
       "      <td>364191.239781</td>\n",
       "    </tr>\n",
       "    <tr>\n",
       "      <th>1820</th>\n",
       "      <td>3</td>\n",
       "      <td>292.035518</td>\n",
       "      <td>H3B 8P6</td>\n",
       "      <td>2017-04-15</td>\n",
       "      <td>384294.595975</td>\n",
       "    </tr>\n",
       "    <tr>\n",
       "      <th>2452</th>\n",
       "      <td>4</td>\n",
       "      <td>308.390866</td>\n",
       "      <td>H5R 7Q3</td>\n",
       "      <td>2020-02-01</td>\n",
       "      <td>395229.828628</td>\n",
       "    </tr>\n",
       "    <tr>\n",
       "      <th>2551</th>\n",
       "      <td>5</td>\n",
       "      <td>309.312018</td>\n",
       "      <td>H2D 7D8</td>\n",
       "      <td>2020-05-11</td>\n",
       "      <td>401479.324299</td>\n",
       "    </tr>\n",
       "    <tr>\n",
       "      <th>2555</th>\n",
       "      <td>3</td>\n",
       "      <td>289.840228</td>\n",
       "      <td>H0R 3D3</td>\n",
       "      <td>2017-07-02</td>\n",
       "      <td>385394.953919</td>\n",
       "    </tr>\n",
       "    <tr>\n",
       "      <th>2626</th>\n",
       "      <td>5</td>\n",
       "      <td>308.033786</td>\n",
       "      <td>H3O 5M7</td>\n",
       "      <td>2018-10-16</td>\n",
       "      <td>369217.812086</td>\n",
       "    </tr>\n",
       "    <tr>\n",
       "      <th>2669</th>\n",
       "      <td>3</td>\n",
       "      <td>290.875485</td>\n",
       "      <td>H9R 5R3</td>\n",
       "      <td>2020-10-11</td>\n",
       "      <td>374765.167368</td>\n",
       "    </tr>\n",
       "    <tr>\n",
       "      <th>2700</th>\n",
       "      <td>5</td>\n",
       "      <td>291.327089</td>\n",
       "      <td>H0R 5C2</td>\n",
       "      <td>2018-01-11</td>\n",
       "      <td>394174.261709</td>\n",
       "    </tr>\n",
       "    <tr>\n",
       "      <th>2782</th>\n",
       "      <td>3</td>\n",
       "      <td>291.100951</td>\n",
       "      <td>H7S 8B3</td>\n",
       "      <td>2018-03-16</td>\n",
       "      <td>384293.798117</td>\n",
       "    </tr>\n",
       "    <tr>\n",
       "      <th>2970</th>\n",
       "      <td>5</td>\n",
       "      <td>291.061067</td>\n",
       "      <td>H4I 0W0</td>\n",
       "      <td>2019-06-03</td>\n",
       "      <td>446549.223008</td>\n",
       "    </tr>\n",
       "    <tr>\n",
       "      <th>2976</th>\n",
       "      <td>4</td>\n",
       "      <td>308.581242</td>\n",
       "      <td>H0O 2P3</td>\n",
       "      <td>2019-11-01</td>\n",
       "      <td>379526.040831</td>\n",
       "    </tr>\n",
       "    <tr>\n",
       "      <th>3010</th>\n",
       "      <td>4</td>\n",
       "      <td>291.947336</td>\n",
       "      <td>H4G 7B2</td>\n",
       "      <td>2018-06-10</td>\n",
       "      <td>385733.067485</td>\n",
       "    </tr>\n",
       "    <tr>\n",
       "      <th>3182</th>\n",
       "      <td>5</td>\n",
       "      <td>308.319683</td>\n",
       "      <td>H8M 6U5</td>\n",
       "      <td>2018-10-26</td>\n",
       "      <td>381036.454334</td>\n",
       "    </tr>\n",
       "    <tr>\n",
       "      <th>3296</th>\n",
       "      <td>3</td>\n",
       "      <td>290.037777</td>\n",
       "      <td>H4X 7D2</td>\n",
       "      <td>2020-07-03</td>\n",
       "      <td>397403.221764</td>\n",
       "    </tr>\n",
       "    <tr>\n",
       "      <th>3440</th>\n",
       "      <td>3</td>\n",
       "      <td>290.096197</td>\n",
       "      <td>H8T 7J5</td>\n",
       "      <td>2017-02-19</td>\n",
       "      <td>395050.032571</td>\n",
       "    </tr>\n",
       "    <tr>\n",
       "      <th>3615</th>\n",
       "      <td>3</td>\n",
       "      <td>291.497734</td>\n",
       "      <td>H6H 6B2</td>\n",
       "      <td>2020-01-23</td>\n",
       "      <td>389461.562726</td>\n",
       "    </tr>\n",
       "    <tr>\n",
       "      <th>3746</th>\n",
       "      <td>3</td>\n",
       "      <td>308.288196</td>\n",
       "      <td>H5Q 2C1</td>\n",
       "      <td>2018-04-14</td>\n",
       "      <td>410040.917059</td>\n",
       "    </tr>\n",
       "    <tr>\n",
       "      <th>3827</th>\n",
       "      <td>5</td>\n",
       "      <td>292.132488</td>\n",
       "      <td>H0R 0B0</td>\n",
       "      <td>2020-09-25</td>\n",
       "      <td>374460.136998</td>\n",
       "    </tr>\n",
       "    <tr>\n",
       "      <th>4022</th>\n",
       "      <td>4</td>\n",
       "      <td>308.763920</td>\n",
       "      <td>H2D 5O8</td>\n",
       "      <td>2019-10-16</td>\n",
       "      <td>382364.118298</td>\n",
       "    </tr>\n",
       "    <tr>\n",
       "      <th>4152</th>\n",
       "      <td>3</td>\n",
       "      <td>308.258840</td>\n",
       "      <td>H7Z 5R2</td>\n",
       "      <td>2018-01-01</td>\n",
       "      <td>381066.748480</td>\n",
       "    </tr>\n",
       "    <tr>\n",
       "      <th>4277</th>\n",
       "      <td>5</td>\n",
       "      <td>308.206945</td>\n",
       "      <td>H8R 5S0</td>\n",
       "      <td>2018-04-15</td>\n",
       "      <td>405612.179798</td>\n",
       "    </tr>\n",
       "    <tr>\n",
       "      <th>4289</th>\n",
       "      <td>5</td>\n",
       "      <td>289.085583</td>\n",
       "      <td>H0R 5D5</td>\n",
       "      <td>2018-11-06</td>\n",
       "      <td>400340.702957</td>\n",
       "    </tr>\n",
       "    <tr>\n",
       "      <th>4385</th>\n",
       "      <td>3</td>\n",
       "      <td>291.838742</td>\n",
       "      <td>H8T 8M4</td>\n",
       "      <td>2017-02-01</td>\n",
       "      <td>430590.674687</td>\n",
       "    </tr>\n",
       "    <tr>\n",
       "      <th>4433</th>\n",
       "      <td>3</td>\n",
       "      <td>289.674843</td>\n",
       "      <td>H9I 3Y9</td>\n",
       "      <td>2019-10-25</td>\n",
       "      <td>386651.400365</td>\n",
       "    </tr>\n",
       "    <tr>\n",
       "      <th>4456</th>\n",
       "      <td>5</td>\n",
       "      <td>290.429315</td>\n",
       "      <td>H3Z 0O9</td>\n",
       "      <td>2018-05-16</td>\n",
       "      <td>411163.165245</td>\n",
       "    </tr>\n",
       "    <tr>\n",
       "      <th>4474</th>\n",
       "      <td>4</td>\n",
       "      <td>292.144370</td>\n",
       "      <td>H1Z 0I5</td>\n",
       "      <td>2020-07-15</td>\n",
       "      <td>406154.223278</td>\n",
       "    </tr>\n",
       "    <tr>\n",
       "      <th>4562</th>\n",
       "      <td>4</td>\n",
       "      <td>290.403557</td>\n",
       "      <td>H3E 4L9</td>\n",
       "      <td>2020-02-11</td>\n",
       "      <td>402688.043616</td>\n",
       "    </tr>\n",
       "    <tr>\n",
       "      <th>4627</th>\n",
       "      <td>5</td>\n",
       "      <td>291.335787</td>\n",
       "      <td>H1N 6W2</td>\n",
       "      <td>2020-01-15</td>\n",
       "      <td>402221.480898</td>\n",
       "    </tr>\n",
       "    <tr>\n",
       "      <th>4879</th>\n",
       "      <td>5</td>\n",
       "      <td>291.968851</td>\n",
       "      <td>H3C 1M7</td>\n",
       "      <td>2018-06-06</td>\n",
       "      <td>403019.955790</td>\n",
       "    </tr>\n",
       "  </tbody>\n",
       "</table>\n",
       "</div>"
      ],
      "text/plain": [
       "      Nbr_chambre     Surface Code_postal Date_achat           Prix\n",
       "175             3  290.988793     H8B 1E1 2020-10-14  391872.067856\n",
       "187             5  292.133724     H5C 2Z0 2019-09-03  412456.682189\n",
       "375             3  291.936083     H5H 8P3 2017-05-27  353580.308188\n",
       "389             3  308.379761     H8B 2V6 2018-08-06  407486.672583\n",
       "408             3  308.245791     H7J 2H8 2018-10-07  436916.623447\n",
       "754             5  308.787414     H0P 2M4 2018-05-19  406905.191996\n",
       "799             5  290.167950     H5M 3L4 2017-03-06  392060.817229\n",
       "952             3  309.820060     H8E 0F8 2018-01-17  390967.803346\n",
       "1200            4  308.729897     H8H 0F9 2019-11-12  408190.547050\n",
       "1204            3  308.591576     H8A 9K2 2017-06-04  369018.436443\n",
       "1395            5  309.360892     H3A 7E8 2018-01-17  393323.850268\n",
       "1555            4  291.342684     H4W 3V0 2018-02-02  406447.049946\n",
       "1574            3  291.682650     H5G 0B2 2017-07-27  416495.318121\n",
       "1582            5  312.760706     H9R 9E9 2017-09-14  364191.239781\n",
       "1820            3  292.035518     H3B 8P6 2017-04-15  384294.595975\n",
       "2452            4  308.390866     H5R 7Q3 2020-02-01  395229.828628\n",
       "2551            5  309.312018     H2D 7D8 2020-05-11  401479.324299\n",
       "2555            3  289.840228     H0R 3D3 2017-07-02  385394.953919\n",
       "2626            5  308.033786     H3O 5M7 2018-10-16  369217.812086\n",
       "2669            3  290.875485     H9R 5R3 2020-10-11  374765.167368\n",
       "2700            5  291.327089     H0R 5C2 2018-01-11  394174.261709\n",
       "2782            3  291.100951     H7S 8B3 2018-03-16  384293.798117\n",
       "2970            5  291.061067     H4I 0W0 2019-06-03  446549.223008\n",
       "2976            4  308.581242     H0O 2P3 2019-11-01  379526.040831\n",
       "3010            4  291.947336     H4G 7B2 2018-06-10  385733.067485\n",
       "3182            5  308.319683     H8M 6U5 2018-10-26  381036.454334\n",
       "3296            3  290.037777     H4X 7D2 2020-07-03  397403.221764\n",
       "3440            3  290.096197     H8T 7J5 2017-02-19  395050.032571\n",
       "3615            3  291.497734     H6H 6B2 2020-01-23  389461.562726\n",
       "3746            3  308.288196     H5Q 2C1 2018-04-14  410040.917059\n",
       "3827            5  292.132488     H0R 0B0 2020-09-25  374460.136998\n",
       "4022            4  308.763920     H2D 5O8 2019-10-16  382364.118298\n",
       "4152            3  308.258840     H7Z 5R2 2018-01-01  381066.748480\n",
       "4277            5  308.206945     H8R 5S0 2018-04-15  405612.179798\n",
       "4289            5  289.085583     H0R 5D5 2018-11-06  400340.702957\n",
       "4385            3  291.838742     H8T 8M4 2017-02-01  430590.674687\n",
       "4433            3  289.674843     H9I 3Y9 2019-10-25  386651.400365\n",
       "4456            5  290.429315     H3Z 0O9 2018-05-16  411163.165245\n",
       "4474            4  292.144370     H1Z 0I5 2020-07-15  406154.223278\n",
       "4562            4  290.403557     H3E 4L9 2020-02-11  402688.043616\n",
       "4627            5  291.335787     H1N 6W2 2020-01-15  402221.480898\n",
       "4879            5  291.968851     H3C 1M7 2018-06-06  403019.955790"
      ]
     },
     "execution_count": 34,
     "metadata": {},
     "output_type": "execute_result"
    }
   ],
   "source": [
    "# para la serie Surface\n",
    "get_outliers(df.Surface)"
   ]
  },
  {
   "cell_type": "code",
   "execution_count": 35,
   "id": "332f54c1",
   "metadata": {},
   "outputs": [
    {
     "data": {
      "text/html": [
       "<div>\n",
       "<style scoped>\n",
       "    .dataframe tbody tr th:only-of-type {\n",
       "        vertical-align: middle;\n",
       "    }\n",
       "\n",
       "    .dataframe tbody tr th {\n",
       "        vertical-align: top;\n",
       "    }\n",
       "\n",
       "    .dataframe thead th {\n",
       "        text-align: right;\n",
       "    }\n",
       "</style>\n",
       "<table border=\"1\" class=\"dataframe\">\n",
       "  <thead>\n",
       "    <tr style=\"text-align: right;\">\n",
       "      <th></th>\n",
       "      <th>Nbr_chambre</th>\n",
       "      <th>Surface</th>\n",
       "      <th>Code_postal</th>\n",
       "      <th>Date_achat</th>\n",
       "      <th>Prix</th>\n",
       "    </tr>\n",
       "  </thead>\n",
       "  <tbody>\n",
       "    <tr>\n",
       "      <th>19</th>\n",
       "      <td>3</td>\n",
       "      <td>297.329571</td>\n",
       "      <td>H9V 3B2</td>\n",
       "      <td>2017-09-17</td>\n",
       "      <td>464203.332452</td>\n",
       "    </tr>\n",
       "    <tr>\n",
       "      <th>88</th>\n",
       "      <td>3</td>\n",
       "      <td>300.548223</td>\n",
       "      <td>H0X 6Q6</td>\n",
       "      <td>2019-10-24</td>\n",
       "      <td>456834.707339</td>\n",
       "    </tr>\n",
       "    <tr>\n",
       "      <th>198</th>\n",
       "      <td>3</td>\n",
       "      <td>296.228650</td>\n",
       "      <td>H8Z 8S9</td>\n",
       "      <td>2017-05-04</td>\n",
       "      <td>454601.026179</td>\n",
       "    </tr>\n",
       "    <tr>\n",
       "      <th>207</th>\n",
       "      <td>3</td>\n",
       "      <td>298.295710</td>\n",
       "      <td>H8I 7G9</td>\n",
       "      <td>2019-07-13</td>\n",
       "      <td>454816.769688</td>\n",
       "    </tr>\n",
       "    <tr>\n",
       "      <th>212</th>\n",
       "      <td>5</td>\n",
       "      <td>302.562344</td>\n",
       "      <td>H6O 7N4</td>\n",
       "      <td>2019-06-05</td>\n",
       "      <td>461880.400469</td>\n",
       "    </tr>\n",
       "    <tr>\n",
       "      <th>353</th>\n",
       "      <td>5</td>\n",
       "      <td>299.922366</td>\n",
       "      <td>H5R 9P9</td>\n",
       "      <td>2017-08-24</td>\n",
       "      <td>341171.051167</td>\n",
       "    </tr>\n",
       "    <tr>\n",
       "      <th>376</th>\n",
       "      <td>4</td>\n",
       "      <td>296.272783</td>\n",
       "      <td>H3A 5N8</td>\n",
       "      <td>2017-10-10</td>\n",
       "      <td>331636.261068</td>\n",
       "    </tr>\n",
       "    <tr>\n",
       "      <th>391</th>\n",
       "      <td>4</td>\n",
       "      <td>298.445490</td>\n",
       "      <td>H6U 3E9</td>\n",
       "      <td>2017-06-23</td>\n",
       "      <td>342622.835001</td>\n",
       "    </tr>\n",
       "    <tr>\n",
       "      <th>511</th>\n",
       "      <td>4</td>\n",
       "      <td>295.293996</td>\n",
       "      <td>H0C 3G0</td>\n",
       "      <td>2017-09-04</td>\n",
       "      <td>455583.416249</td>\n",
       "    </tr>\n",
       "    <tr>\n",
       "      <th>831</th>\n",
       "      <td>4</td>\n",
       "      <td>298.144151</td>\n",
       "      <td>H6G 1M8</td>\n",
       "      <td>2017-11-06</td>\n",
       "      <td>454163.701261</td>\n",
       "    </tr>\n",
       "    <tr>\n",
       "      <th>877</th>\n",
       "      <td>3</td>\n",
       "      <td>307.540247</td>\n",
       "      <td>H2Z 2A4</td>\n",
       "      <td>2019-03-26</td>\n",
       "      <td>462093.799621</td>\n",
       "    </tr>\n",
       "    <tr>\n",
       "      <th>896</th>\n",
       "      <td>4</td>\n",
       "      <td>293.860688</td>\n",
       "      <td>H1P 5B8</td>\n",
       "      <td>2020-05-09</td>\n",
       "      <td>464875.465544</td>\n",
       "    </tr>\n",
       "    <tr>\n",
       "      <th>976</th>\n",
       "      <td>4</td>\n",
       "      <td>295.081829</td>\n",
       "      <td>H0S 8X5</td>\n",
       "      <td>2019-09-10</td>\n",
       "      <td>345141.775563</td>\n",
       "    </tr>\n",
       "    <tr>\n",
       "      <th>1077</th>\n",
       "      <td>3</td>\n",
       "      <td>302.951915</td>\n",
       "      <td>H1C 5V9</td>\n",
       "      <td>2019-07-27</td>\n",
       "      <td>333617.241613</td>\n",
       "    </tr>\n",
       "    <tr>\n",
       "      <th>1166</th>\n",
       "      <td>4</td>\n",
       "      <td>299.802163</td>\n",
       "      <td>H3P 3M4</td>\n",
       "      <td>2019-09-18</td>\n",
       "      <td>345304.861083</td>\n",
       "    </tr>\n",
       "    <tr>\n",
       "      <th>1524</th>\n",
       "      <td>4</td>\n",
       "      <td>296.385634</td>\n",
       "      <td>H0N 2A4</td>\n",
       "      <td>2020-11-07</td>\n",
       "      <td>330717.061323</td>\n",
       "    </tr>\n",
       "    <tr>\n",
       "      <th>1603</th>\n",
       "      <td>3</td>\n",
       "      <td>297.032123</td>\n",
       "      <td>H0O 5H5</td>\n",
       "      <td>2017-09-23</td>\n",
       "      <td>333609.551081</td>\n",
       "    </tr>\n",
       "    <tr>\n",
       "      <th>2274</th>\n",
       "      <td>5</td>\n",
       "      <td>299.096797</td>\n",
       "      <td>H8L 3R8</td>\n",
       "      <td>2018-03-13</td>\n",
       "      <td>321456.299347</td>\n",
       "    </tr>\n",
       "    <tr>\n",
       "      <th>2589</th>\n",
       "      <td>5</td>\n",
       "      <td>300.324090</td>\n",
       "      <td>H5Y 3U4</td>\n",
       "      <td>2020-07-27</td>\n",
       "      <td>345608.914397</td>\n",
       "    </tr>\n",
       "    <tr>\n",
       "      <th>3403</th>\n",
       "      <td>5</td>\n",
       "      <td>298.750614</td>\n",
       "      <td>H3F 4C4</td>\n",
       "      <td>2017-07-10</td>\n",
       "      <td>457193.607445</td>\n",
       "    </tr>\n",
       "    <tr>\n",
       "      <th>3558</th>\n",
       "      <td>5</td>\n",
       "      <td>297.224031</td>\n",
       "      <td>H1T 3W7</td>\n",
       "      <td>2019-05-04</td>\n",
       "      <td>344752.533199</td>\n",
       "    </tr>\n",
       "    <tr>\n",
       "      <th>4270</th>\n",
       "      <td>5</td>\n",
       "      <td>300.965522</td>\n",
       "      <td>H1U 7P1</td>\n",
       "      <td>2020-05-03</td>\n",
       "      <td>455348.036253</td>\n",
       "    </tr>\n",
       "    <tr>\n",
       "      <th>4606</th>\n",
       "      <td>3</td>\n",
       "      <td>299.700059</td>\n",
       "      <td>H7R 2X7</td>\n",
       "      <td>2017-04-24</td>\n",
       "      <td>341396.162910</td>\n",
       "    </tr>\n",
       "    <tr>\n",
       "      <th>4740</th>\n",
       "      <td>3</td>\n",
       "      <td>301.026507</td>\n",
       "      <td>H2I 3Z7</td>\n",
       "      <td>2017-09-25</td>\n",
       "      <td>338677.497400</td>\n",
       "    </tr>\n",
       "  </tbody>\n",
       "</table>\n",
       "</div>"
      ],
      "text/plain": [
       "      Nbr_chambre     Surface Code_postal Date_achat           Prix\n",
       "19              3  297.329571     H9V 3B2 2017-09-17  464203.332452\n",
       "88              3  300.548223     H0X 6Q6 2019-10-24  456834.707339\n",
       "198             3  296.228650     H8Z 8S9 2017-05-04  454601.026179\n",
       "207             3  298.295710     H8I 7G9 2019-07-13  454816.769688\n",
       "212             5  302.562344     H6O 7N4 2019-06-05  461880.400469\n",
       "353             5  299.922366     H5R 9P9 2017-08-24  341171.051167\n",
       "376             4  296.272783     H3A 5N8 2017-10-10  331636.261068\n",
       "391             4  298.445490     H6U 3E9 2017-06-23  342622.835001\n",
       "511             4  295.293996     H0C 3G0 2017-09-04  455583.416249\n",
       "831             4  298.144151     H6G 1M8 2017-11-06  454163.701261\n",
       "877             3  307.540247     H2Z 2A4 2019-03-26  462093.799621\n",
       "896             4  293.860688     H1P 5B8 2020-05-09  464875.465544\n",
       "976             4  295.081829     H0S 8X5 2019-09-10  345141.775563\n",
       "1077            3  302.951915     H1C 5V9 2019-07-27  333617.241613\n",
       "1166            4  299.802163     H3P 3M4 2019-09-18  345304.861083\n",
       "1524            4  296.385634     H0N 2A4 2020-11-07  330717.061323\n",
       "1603            3  297.032123     H0O 5H5 2017-09-23  333609.551081\n",
       "2274            5  299.096797     H8L 3R8 2018-03-13  321456.299347\n",
       "2589            5  300.324090     H5Y 3U4 2020-07-27  345608.914397\n",
       "3403            5  298.750614     H3F 4C4 2017-07-10  457193.607445\n",
       "3558            5  297.224031     H1T 3W7 2019-05-04  344752.533199\n",
       "4270            5  300.965522     H1U 7P1 2020-05-03  455348.036253\n",
       "4606            3  299.700059     H7R 2X7 2017-04-24  341396.162910\n",
       "4740            3  301.026507     H2I 3Z7 2017-09-25  338677.497400"
      ]
     },
     "execution_count": 35,
     "metadata": {},
     "output_type": "execute_result"
    }
   ],
   "source": [
    "# para la serie de Prix\n",
    "get_outliers(df.Prix)"
   ]
  },
  {
   "cell_type": "markdown",
   "id": "846550b5",
   "metadata": {},
   "source": [
    "# 3) Escalada"
   ]
  },
  {
   "cell_type": "code",
   "execution_count": 36,
   "id": "5ea504f4",
   "metadata": {},
   "outputs": [],
   "source": [
    "#Dado que hay valores extremos, proponemos escalar con RobustScaler, que es menos sensible a los valores atípicos en \n",
    "#comparación con StandardScaler."
   ]
  },
  {
   "cell_type": "code",
   "execution_count": 37,
   "id": "a959d020",
   "metadata": {},
   "outputs": [],
   "source": [
    "from sklearn.preprocessing import RobustScaler"
   ]
  },
  {
   "cell_type": "code",
   "execution_count": 38,
   "id": "64be5aa5",
   "metadata": {},
   "outputs": [],
   "source": [
    "# creo el objeto RobustScaler\n",
    "rsc = RobustScaler()"
   ]
  },
  {
   "cell_type": "code",
   "execution_count": 40,
   "id": "1abf0ddd",
   "metadata": {},
   "outputs": [
    {
     "name": "stdout",
     "output_type": "stream",
     "text": [
      "[[-0.88658861 -0.81247693]\n",
      " [ 1.26438663  0.06654354]\n",
      " [ 0.11183262  0.37783736]\n",
      " ...\n",
      " [-0.39240864 -1.33576257]\n",
      " [ 0.09345016  1.01310129]\n",
      " [ 0.31357903  0.36833713]]\n"
     ]
    }
   ],
   "source": [
    "# hago un fit_transform en nuestras dos series\n",
    "resultado = rsc.fit_transform(df[[\"Surface\", \"Prix\"]])\n",
    "print(resultado)"
   ]
  },
  {
   "cell_type": "code",
   "execution_count": 41,
   "id": "ede23d91",
   "metadata": {},
   "outputs": [
    {
     "data": {
      "text/html": [
       "<div>\n",
       "<style scoped>\n",
       "    .dataframe tbody tr th:only-of-type {\n",
       "        vertical-align: middle;\n",
       "    }\n",
       "\n",
       "    .dataframe tbody tr th {\n",
       "        vertical-align: top;\n",
       "    }\n",
       "\n",
       "    .dataframe thead th {\n",
       "        text-align: right;\n",
       "    }\n",
       "</style>\n",
       "<table border=\"1\" class=\"dataframe\">\n",
       "  <thead>\n",
       "    <tr style=\"text-align: right;\">\n",
       "      <th></th>\n",
       "      <th>Surface_rsc</th>\n",
       "      <th>Prix_rsc</th>\n",
       "    </tr>\n",
       "  </thead>\n",
       "  <tbody>\n",
       "    <tr>\n",
       "      <th>0</th>\n",
       "      <td>-0.886589</td>\n",
       "      <td>-0.812477</td>\n",
       "    </tr>\n",
       "    <tr>\n",
       "      <th>1</th>\n",
       "      <td>1.264387</td>\n",
       "      <td>0.066544</td>\n",
       "    </tr>\n",
       "    <tr>\n",
       "      <th>2</th>\n",
       "      <td>0.111833</td>\n",
       "      <td>0.377837</td>\n",
       "    </tr>\n",
       "    <tr>\n",
       "      <th>3</th>\n",
       "      <td>0.020644</td>\n",
       "      <td>0.106971</td>\n",
       "    </tr>\n",
       "    <tr>\n",
       "      <th>4</th>\n",
       "      <td>0.096449</td>\n",
       "      <td>0.377901</td>\n",
       "    </tr>\n",
       "    <tr>\n",
       "      <th>...</th>\n",
       "      <td>...</td>\n",
       "      <td>...</td>\n",
       "    </tr>\n",
       "    <tr>\n",
       "      <th>4995</th>\n",
       "      <td>0.028281</td>\n",
       "      <td>0.235744</td>\n",
       "    </tr>\n",
       "    <tr>\n",
       "      <th>4996</th>\n",
       "      <td>0.172572</td>\n",
       "      <td>1.306502</td>\n",
       "    </tr>\n",
       "    <tr>\n",
       "      <th>4997</th>\n",
       "      <td>-0.392409</td>\n",
       "      <td>-1.335763</td>\n",
       "    </tr>\n",
       "    <tr>\n",
       "      <th>4998</th>\n",
       "      <td>0.093450</td>\n",
       "      <td>1.013101</td>\n",
       "    </tr>\n",
       "    <tr>\n",
       "      <th>4999</th>\n",
       "      <td>0.313579</td>\n",
       "      <td>0.368337</td>\n",
       "    </tr>\n",
       "  </tbody>\n",
       "</table>\n",
       "<p>5000 rows × 2 columns</p>\n",
       "</div>"
      ],
      "text/plain": [
       "      Surface_rsc  Prix_rsc\n",
       "0       -0.886589 -0.812477\n",
       "1        1.264387  0.066544\n",
       "2        0.111833  0.377837\n",
       "3        0.020644  0.106971\n",
       "4        0.096449  0.377901\n",
       "...           ...       ...\n",
       "4995     0.028281  0.235744\n",
       "4996     0.172572  1.306502\n",
       "4997    -0.392409 -1.335763\n",
       "4998     0.093450  1.013101\n",
       "4999     0.313579  0.368337\n",
       "\n",
       "[5000 rows x 2 columns]"
      ]
     },
     "execution_count": 41,
     "metadata": {},
     "output_type": "execute_result"
    }
   ],
   "source": [
    "# integrar el resultado en un dataframe\n",
    "df_rsc= pd.DataFrame(resultat, columns = [\"Surface_rsc\", \"Prix_rsc\"])\n",
    "df_rsc"
   ]
  },
  {
   "cell_type": "code",
   "execution_count": null,
   "id": "0dbcd38d",
   "metadata": {},
   "outputs": [],
   "source": []
  }
 ],
 "metadata": {
  "kernelspec": {
   "display_name": "Python 3 (ipykernel)",
   "language": "python",
   "name": "python3"
  },
  "language_info": {
   "codemirror_mode": {
    "name": "ipython",
    "version": 3
   },
   "file_extension": ".py",
   "mimetype": "text/x-python",
   "name": "python",
   "nbconvert_exporter": "python",
   "pygments_lexer": "ipython3",
   "version": "3.9.7"
  }
 },
 "nbformat": 4,
 "nbformat_minor": 5
}
